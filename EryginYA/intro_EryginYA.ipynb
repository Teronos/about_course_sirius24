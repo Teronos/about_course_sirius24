{
  "nbformat": 4,
  "nbformat_minor": 0,
  "metadata": {
    "colab": {
      "provenance": []
    },
    "kernelspec": {
      "name": "python3",
      "display_name": "Python 3"
    },
    "language_info": {
      "name": "python"
    }
  },
  "cells": [
    {
      "cell_type": "code",
      "execution_count": 1,
      "metadata": {
        "colab": {
          "base_uri": "https://localhost:8080/"
        },
        "id": "co7euUMw48Xo",
        "outputId": "f9422198-0571-4b9f-e233-b0adeb79d3bd"
      },
      "outputs": [
        {
          "name": "stdout",
          "output_type": "stream",
          "text": [
            "123456\n"
          ]
        }
      ],
      "source": [
        "number = input()\n",
        "\n",
        "if len(number) == 5 and number.isdigit():\n",
        "    product = 1\n",
        "    for digit in number:\n",
        "        product *= int(digit)\n",
        "    print(product)\n"
      ]
    },
    {
      "cell_type": "code",
      "source": [
        "number = input(\"Введите шестизначное число: \")\n",
        "\n",
        "if len(number) == 6 and number.isdigit():\n",
        "    sum_even_positions = 0\n",
        "    sum_odd_positions = 0\n",
        "\n",
        "    for i in range(len(number)):\n",
        "        if i % 2 == 0:\n",
        "            sum_even_positions += int(number[i])\n",
        "        else:\n",
        "            sum_odd_positions += int(number[i])\n",
        "    result = int(f\"{sum_even_positions}{sum_odd_positions}\")\n",
        "    print(\"Результат:\", result)\n",
        "else:\n",
        "    print(\"Ошибка: введите шестизначное число\")\n"
      ],
      "metadata": {
        "colab": {
          "base_uri": "https://localhost:8080/"
        },
        "id": "qHw49NMd5-Ng",
        "outputId": "5ca04c5d-279e-4e18-9d6a-04b3c6b87f82"
      },
      "execution_count": 2,
      "outputs": [
        {
          "output_type": "stream",
          "name": "stdout",
          "text": [
            "Введите шестизначное число: 123456\n",
            "Результат: 912\n"
          ]
        }
      ]
    },
    {
      "cell_type": "code",
      "source": [
        "\n",
        "N = int(input(\"Введите количество чисел: \"))\n",
        "sum_ = 0\n",
        "count_ = 0\n",
        "for _ in range(N):\n",
        "    number = int(input())\n",
        "    if number % 3 == 0:\n",
        "        sum_ += number\n",
        "        count_ += 1\n",
        "if sum_ > 0:\n",
        "    result = sum_ / count_\n",
        "    print(\"Результат\", result)\n",
        "else:\n",
        "    print(-1)\n"
      ],
      "metadata": {
        "colab": {
          "base_uri": "https://localhost:8080/"
        },
        "id": "l997AsQKWpeO",
        "outputId": "b6f24c8b-062a-4f43-9030-d4eb45ee3e00"
      },
      "execution_count": 3,
      "outputs": [
        {
          "output_type": "stream",
          "name": "stdout",
          "text": [
            "Введите количество чисел: 3\n",
            "1\n",
            "2\n",
            "3\n",
            "Результат 3.0\n"
          ]
        }
      ]
    },
    {
      "cell_type": "code",
      "source": [
        "A = int(input(\"Введите число Фибоначчи: \"))\n",
        "fib1 = 1\n",
        "fib2 = 1\n",
        "n = 2\n",
        "\n",
        "while fib2 < A:\n",
        "    fib1, fib2 = fib2, fib1 + fib2\n",
        "    n += 1\n",
        "\n",
        "if fib2 == A:\n",
        "    print(\"Число\", A, \"является\", n, \"числом Фибоначчи\")\n",
        "else:\n",
        "    print(-1)\n"
      ],
      "metadata": {
        "colab": {
          "base_uri": "https://localhost:8080/"
        },
        "id": "IFBRwVkZYm-M",
        "outputId": "fe793be5-6d76-4b28-d193-a654fbaff20e"
      },
      "execution_count": 4,
      "outputs": [
        {
          "output_type": "stream",
          "name": "stdout",
          "text": [
            "Введите число Фибоначчи: 8\n",
            "Число 8 является 6 числом Фибоначчи\n"
          ]
        }
      ]
    },
    {
      "cell_type": "code",
      "source": [
        "def print_of_two(N):\n",
        "    power = 1\n",
        "    while power <= N:\n",
        "      print(power, end=\" \")\n",
        "      power *= 2\n",
        "N = int(input())\n",
        "print_of_two(N)"
      ],
      "metadata": {
        "colab": {
          "base_uri": "https://localhost:8080/"
        },
        "id": "2pKV1SKTivT7",
        "outputId": "74a6f67c-cf00-40fb-94b3-806bad8be399"
      },
      "execution_count": 5,
      "outputs": [
        {
          "output_type": "stream",
          "name": "stdout",
          "text": [
            "345\n",
            "1 2 4 8 16 32 64 128 256 "
          ]
        }
      ]
    },
    {
      "cell_type": "code",
      "source": [
        "N = int(input(\"Введите число: \"))\n",
        "count_positive = 0\n",
        "for _ in range(N):\n",
        "    number = int(input())\n",
        "    if number > 0:\n",
        "        count_positive += 1\n",
        "print(count_positive)\n"
      ],
      "metadata": {
        "colab": {
          "base_uri": "https://localhost:8080/"
        },
        "id": "JjATFtL-j6r1",
        "outputId": "0058a54a-7515-4c29-ffc2-d88a98ab54db"
      },
      "execution_count": 13,
      "outputs": [
        {
          "output_type": "stream",
          "name": "stdout",
          "text": [
            "Введите число: 5\n",
            "1\n",
            "2\n",
            "3\n",
            "-2\n",
            "-3\n",
            "3\n"
          ]
        }
      ]
    },
    {
      "cell_type": "code",
      "source": [
        "max_value = 0\n",
        "count_max = 0\n",
        "\n",
        "while True:\n",
        "    number = int(input())\n",
        "    if number == 0:\n",
        "        break\n",
        "\n",
        "    if number > max_value:\n",
        "        max_value = number\n",
        "        count_max = 1\n",
        "    elif number == max_value:\n",
        "        count_max += 1\n",
        "\n",
        "print(count_max)\n"
      ],
      "metadata": {
        "colab": {
          "base_uri": "https://localhost:8080/"
        },
        "id": "j0O5j6VWkTsj",
        "outputId": "94ccce65-7d2c-4b97-dcac-7c1128f8ccd9"
      },
      "execution_count": 10,
      "outputs": [
        {
          "output_type": "stream",
          "name": "stdout",
          "text": [
            "2\n",
            "1\n",
            "2\n",
            "3\n",
            "4\n",
            "5\n",
            "6\n",
            "7\n",
            "8\n",
            "9\n",
            "0\n",
            "1\n"
          ]
        }
      ]
    },
    {
      "cell_type": "code",
      "source": [
        "def my_sort(matrix):\n",
        "    result = []\n",
        "    n = len(matrix)\n",
        "\n",
        "    top, bottom = 0, n - 1\n",
        "    left, right = 0, n - 1\n",
        "\n",
        "    while top <= bottom and left <= right:\n",
        "        for i in range(left, right + 1):\n",
        "            result.append(matrix[top][i])\n",
        "        top += 1\n",
        "\n",
        "        for i in range(top, bottom + 1):\n",
        "            result.append(matrix[i][right])\n",
        "        right -= 1\n",
        "\n",
        "        if top <= bottom:\n",
        "            for i in range(right, left - 1, -1):\n",
        "                result.append(matrix[bottom][i])\n",
        "            bottom -= 1\n",
        "\n",
        "        if left <= right:\n",
        "            for i in range(bottom, top - 1, -1):\n",
        "                result.append(matrix[i][left])\n",
        "            left += 1\n",
        "\n",
        "    return result\n",
        "\n",
        "my_sort([[1,2,3,1], [4,5,6,4], [7,8,9,7],[7,8,9,7]])"
      ],
      "metadata": {
        "colab": {
          "base_uri": "https://localhost:8080/"
        },
        "id": "C5mRzHbHk6Hg",
        "outputId": "d123fa11-bb3c-4404-dfbe-82b7a0c5e279"
      },
      "execution_count": 12,
      "outputs": [
        {
          "output_type": "execute_result",
          "data": {
            "text/plain": [
              "[1, 2, 3, 1, 4, 7, 7, 9, 8, 7, 7, 4, 5, 6, 9, 8]"
            ]
          },
          "metadata": {},
          "execution_count": 12
        }
      ]
    },
    {
      "cell_type": "code",
      "source": [
        "class Laptop:\n",
        "    def __init__(self, brand, model, price):\n",
        "        self.brand = brand\n",
        "        self.model = model\n",
        "        self.price = price\n",
        "        self._laptop_name = f\"{brand} {model}\"\n",
        "\n",
        "    def laptop_name(self):\n",
        "        return self._laptop_name\n",
        "\n",
        "hp = Laptop('hp', '15-bw0xx', 57000)\n",
        "print(hp.price)\n",
        "print(hp.laptop_name())"
      ],
      "metadata": {
        "colab": {
          "base_uri": "https://localhost:8080/"
        },
        "id": "u1ZebvAymAE0",
        "outputId": "b60d450e-75de-46fa-b586-48500ded4208"
      },
      "execution_count": 11,
      "outputs": [
        {
          "output_type": "stream",
          "name": "stdout",
          "text": [
            "57000\n",
            "hp 15-bw0xx\n"
          ]
        }
      ]
    },
    {
      "cell_type": "code",
      "source": [
        "class Promise:\n",
        "    def __init__(self, Id, salary):\n",
        "        self.Id = Id\n",
        "        self.salary = salary\n",
        "        self.paid = False\n",
        "\n",
        "    def fulfill(self):\n",
        "        self.paid = True\n",
        "\n",
        "    def reset(self):\n",
        "        self.paid = False\n",
        "\n",
        "class Person:\n",
        "    def __init__(self, first_name, second_name, Id):\n",
        "        self.first_name = first_name\n",
        "        self.second_name = second_name\n",
        "        self.Id = Id\n",
        "\n",
        "class Director(Person):\n",
        "    def __init__(self, first_name, second_name, Id, salary):\n",
        "        super().__init__(first_name, second_name, Id)\n",
        "        self.promise = Promise(Id, salary)\n",
        "\n",
        "    def check_promises(self):\n",
        "        return self.promise.paid\n",
        "\n",
        "class Employee(Person):\n",
        "    def __init__(self, first_name, second_name, Id, salary):\n",
        "        super().__init__(first_name, second_name, Id)\n",
        "        self.promise = Promise(Id, salary)\n",
        "\n",
        "class Company:\n",
        "    def __init__(self, balance=0):\n",
        "        self.balance = balance\n",
        "        self._profit = 0\n",
        "        self._director = None\n",
        "        self.employees = []\n",
        "\n",
        "    def create_director(self, first_name, second_name, Id, salary):\n",
        "        self._director = Director(first_name, second_name, Id, salary)\n",
        "\n",
        "    def create_employee(self, first_name, second_name, Id, salary):\n",
        "        employee = Employee(first_name, second_name, Id, salary)\n",
        "        self.employees.append(employee)\n",
        "\n",
        "    def set_profit(self, profit):\n",
        "        self._profit = profit\n",
        "        self.balance += profit\n",
        "\n",
        "    def fulfill_promise(self):\n",
        "        total_salary = self._director.promise.salary + sum(emp.promise.salary for emp in self.employees)\n",
        "\n",
        "        if self.balance >= total_salary:\n",
        "            self._director.promise.fulfill()\n",
        "            for emp in self.employees:\n",
        "                emp.promise.fulfill()\n",
        "            self.balance -= total_salary\n",
        "            return True\n",
        "        else:\n",
        "            self._director.promise.reset()\n",
        "            for emp in self.employees:\n",
        "                emp.promise.reset()\n",
        "            return False\n",
        "\n",
        "    def director(self):\n",
        "        return self._director\n",
        "\n",
        "vk = Company(balance=50)\n",
        "vk.create_director(\n",
        "  first_name=\"Владимир\",\n",
        "  second_name=\"Кириенко\",\n",
        "  Id=1,\n",
        "  salary=15\n",
        ")\n",
        "\n",
        "vk.create_employee(\n",
        "  first_name=\"Елена\",\n",
        "  second_name=\"Иванова\",\n",
        "  Id=2,\n",
        "  salary=8\n",
        ")\n",
        "\n",
        "vk.create_employee(\n",
        "  first_name=\"Виктор\",\n",
        "  second_name=\"Кузнецов\",\n",
        "  Id=3,\n",
        "  salary=6\n",
        ")\n",
        "\n",
        "vk.set_profit(145.12)\n",
        "print(vk.fulfill_promise())\n",
        "\n",
        "director = vk.director()\n",
        "print(director.check_promises())\n",
        "\n",
        "vk.set_profit(-200)\n",
        "print(vk.fulfill_promise())\n",
        "\n",
        "print(director.check_promises())\n"
      ],
      "metadata": {
        "colab": {
          "base_uri": "https://localhost:8080/"
        },
        "id": "sTolcvsOmgRw",
        "outputId": "7762b470-2cdf-426c-b3b2-59cf9234c002"
      },
      "execution_count": 8,
      "outputs": [
        {
          "output_type": "stream",
          "name": "stdout",
          "text": [
            "True\n",
            "True\n",
            "False\n",
            "False\n"
          ]
        }
      ]
    }
  ]
}