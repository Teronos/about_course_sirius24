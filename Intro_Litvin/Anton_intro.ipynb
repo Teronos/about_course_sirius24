{
  "nbformat": 4,
  "nbformat_minor": 0,
  "metadata": {
    "colab": {
      "provenance": []
    },
    "kernelspec": {
      "name": "python3",
      "display_name": "Python 3"
    },
    "language_info": {
      "name": "python"
    }
  },
  "cells": [
    {
      "cell_type": "code",
      "execution_count": null,
      "metadata": {
        "colab": {
          "base_uri": "https://localhost:8080/"
        },
        "id": "Dr4Wxb76jnCO",
        "outputId": "59a937c0-cd4f-4188-c906-2d753f907529"
      },
      "outputs": [
        {
          "output_type": "stream",
          "name": "stdout",
          "text": [
            "введите число -5456\n",
            "Произведение цифр числа 5456 равно 600.\n"
          ]
        }
      ],
      "source": [
        "'''\n",
        "Задача 1*\n",
        "Дано пятизначное число. Найдите произведение его цифр.\n",
        "Пример ввода:\n",
        "14962\n",
        "Пример вывода:\n",
        "432\n",
        "'''\n",
        "number = input(\"введите число \")\n",
        "number = str(abs(int(number)))\n",
        "proizv = 1\n",
        "for i in number:\n",
        "  proizv *= int(i)\n",
        "print(f\"Произведение цифр числа {number} равно {proizv}.\")\n"
      ]
    },
    {
      "cell_type": "code",
      "source": [
        "'''\n",
        "Задача 2*\n",
        "Дано шестизначное число. Найдите суммы его четных и нечетных элементов. Образуйте из них этих сумм оддно число и выведите его на экран\n",
        "Пример ввода:\n",
        "531893\n",
        "Пример вывода:\n",
        "1514\n",
        "'''\n",
        "number = input(\"введите число \")\n",
        "summ1 = 0\n",
        "summ2 = 0\n",
        "for i in range(0,len(number),2):\n",
        "  summ1 += int(number[i])\n",
        "for i in range(1,len(number),2):\n",
        "  summ2 += int(number[i])\n",
        "print(str(summ1)+str(summ2))"
      ],
      "metadata": {
        "colab": {
          "base_uri": "https://localhost:8080/"
        },
        "id": "V9mbPfe9nv7G",
        "outputId": "83a6b54d-bc12-4fcc-bd36-c41d81aea7d9"
      },
      "execution_count": null,
      "outputs": [
        {
          "output_type": "stream",
          "name": "stdout",
          "text": [
            "введите число 251\n",
            "35\n"
          ]
        }
      ]
    },
    {
      "cell_type": "code",
      "source": [],
      "metadata": {
        "id": "mZhPh9v4pQvu"
      },
      "execution_count": null,
      "outputs": []
    },
    {
      "cell_type": "code",
      "source": [
        "#Задача 3*\n",
        "#Вводится натуральное число N, а затем N чисел. Найти средее арифметическое всех чисел кратных 3. Если таких чисел нет, то вывести -1\n",
        "#Пример ввода:\n",
        "#5\n",
        "#3\n",
        "#2\n",
        "#42\n",
        "#5\n",
        "#12\n",
        "#Пример вывода:\n",
        "#10.5\n",
        "N = int(input(\"Введите количество чисел: \"))\n",
        "numbers = [int(input(\"Введите натуральное число: \")) for _ in range(N)]\n",
        "multiples_of_3 = [num for num in numbers if num % 3 == 0]\n",
        "if multiples_of_3:\n",
        "    average = sum(multiples_of_3) / len(multiples_of_3)\n",
        "    print(average)\n",
        "else: print(-1)"
      ],
      "metadata": {
        "colab": {
          "base_uri": "https://localhost:8080/"
        },
        "id": "UeLCz-zVpgZc",
        "outputId": "2c3d9b76-b232-469c-a111-817734cfa4df"
      },
      "execution_count": null,
      "outputs": [
        {
          "output_type": "stream",
          "name": "stdout",
          "text": [
            "Введите количество чисел: 5\n",
            "Введите натуральное число: 3\n",
            "Введите натуральное число: 2\n",
            "Введите натуральное число: 42\n",
            "Введите натуральное число: 5\n",
            "Введите натуральное число: 12\n",
            "19.0\n"
          ]
        }
      ]
    },
    {
      "cell_type": "code",
      "source": [
        "#Задача 4*\n",
        "#Дано натуральное число A > 1. Определите, каким по счету числом Фибоначчи оно является, то есть выведите такое число n, что\n",
        "#. Если А не является числом Фибоначчи, выведите число -1.\n",
        "#Пример ввода:\n",
        "#8\n",
        "#Пример вывода:\n",
        "#6\n",
        "# Ввод числа A\n",
        "A = int(input(\"Введите число A: \"))\n",
        "fib1 = 1\n",
        "fib2 = 1\n",
        "n = 2\n",
        "while fib2 < A:\n",
        "    fib1, fib2 = fib2, fib1 + fib2\n",
        "    n += 1\n",
        "if fib2 == A:\n",
        "    print(n)\n",
        "else:\n",
        "    print(-1)"
      ],
      "metadata": {
        "colab": {
          "base_uri": "https://localhost:8080/"
        },
        "id": "8SOfqanau_6z",
        "outputId": "da6c6703-dbc4-41d8-d463-595ad3780b92"
      },
      "execution_count": null,
      "outputs": [
        {
          "output_type": "stream",
          "name": "stdout",
          "text": [
            "Введите число A: 3\n",
            "-1\n"
          ]
        }
      ]
    },
    {
      "cell_type": "code",
      "source": [
        "#Задача 5*\n",
        "#По данному числу N распечатайте все целые значения степени двойки, не превосходящие N, в порядке возрастания.\n",
        "#Пример ввода:\n",
        "#50\n",
        "#Пример вывода:\n",
        "#1 2 4 8 16 32\n",
        "\n",
        "N = int(input(\"Введите число N: \"))\n",
        "power_of_two = 1\n",
        "while power_of_two <= N:\n",
        "    print(power_of_two, end=\" \")\n",
        "    power_of_two *= 2"
      ],
      "metadata": {
        "colab": {
          "base_uri": "https://localhost:8080/"
        },
        "id": "GsTjfwZaqB12",
        "outputId": "1415f7ec-9fde-4b6c-e4ea-cfe91cd4c20b"
      },
      "execution_count": null,
      "outputs": [
        {
          "output_type": "stream",
          "name": "stdout",
          "text": [
            "Введите число N: 50\n",
            "1 2 4 8 16 32 "
          ]
        }
      ]
    },
    {
      "cell_type": "code",
      "source": [
        "#Задача 6*\n",
        "#Сначала на вход поступает длина последовательности N. Затем элементы последовательности – целые числа. Напишите программу, которая подсчитывает количество положительных чисел среди элементов последовательности.\n",
        "#Пример ввода:\n",
        "#5\n",
        "#1\n",
        "#2\n",
        "#3\n",
        "#-1\n",
        "#-4\n",
        "#Пример вывода:\n",
        "#3\n",
        "N = int(input())\n",
        "positive_count = 0\n",
        "for _ in range(N):\n",
        "    number = int(input())\n",
        "    if number > 0:\n",
        "        positive_count += 1\n",
        "print(positive_count)"
      ],
      "metadata": {
        "colab": {
          "base_uri": "https://localhost:8080/"
        },
        "id": "rqg-6IaDNIFW",
        "outputId": "31d4bdde-47fd-47ae-e2fb-8f2037358916"
      },
      "execution_count": null,
      "outputs": [
        {
          "output_type": "stream",
          "name": "stdout",
          "text": [
            "2\n",
            "1\n",
            "-1\n",
            "1\n"
          ]
        }
      ]
    },
    {
      "cell_type": "code",
      "source": [
        "#Задача 7*\n",
        "#Последовательность состоит из натуральных чисел и завершается числом 0. Определите количество элементов этой последовательности, которые равны ее наибольшему элементу.\n",
        "#Пример ввода:\n",
        "#1\n",
        "#3\n",
        "#3\n",
        "#1\n",
        "#0\n",
        "#Пример вывода:\n",
        "#2\n",
        "\n",
        "numbers = []\n",
        "while True:\n",
        "    number = int(input())\n",
        "    if number == 0:\n",
        "        break\n",
        "    numbers.append(number)\n",
        "if numbers:\n",
        "    max_number = max(numbers)\n",
        "    count_max = numbers.count(max_number)\n",
        "    print(count_max)"
      ],
      "metadata": {
        "colab": {
          "base_uri": "https://localhost:8080/"
        },
        "id": "nLZnnbzX0UA6",
        "outputId": "0769bda0-a906-4b99-b321-1b252e48ef6b"
      },
      "execution_count": null,
      "outputs": [
        {
          "output_type": "stream",
          "name": "stdout",
          "text": [
            "3\n",
            "3\n",
            "3\n",
            "5\n",
            "5\n",
            "0\n",
            "2\n"
          ]
        }
      ]
    },
    {
      "cell_type": "code",
      "source": [
        "#Задача 8*\n",
        "#Напишите функцию my_sort, которая принимает двумерный массив n x n, а возвращает элементы массива, расположенные от самых крайних элементов до среднего элемента, таким образом, чтобы происходило перемещение по часовой стрелке.\n",
        "#Тоесть функция должна преобразовывать array = [ [1,2,3], [4,5,6], [7,8,9] ]\n",
        "#my_sort(array) #=> [1,2,3,6,9,8,7,4,5]\n",
        "#Еще один пример работы функции:\n",
        "#array = [ [1,2,3], [8,9,4], [7,6,5] ] my_sort(array) #=> [1,2,3,4,5,6,7,8,9]\n",
        "\n",
        "def my_sort(array):\n",
        "    if not array or not array[0]:\n",
        "        return []\n",
        "\n",
        "    n = len(array)\n",
        "    result = []\n",
        "    top, bottom = 0, n - 1\n",
        "    left, right = 0, n - 1\n",
        "\n",
        "    while top <= bottom and left <= right:\n",
        "        for i in range(left, right + 1):\n",
        "            result.append(array[top][i])\n",
        "        top += 1\n",
        "        for i in range(top, bottom + 1):\n",
        "            result.append(array[i][right])\n",
        "        right -= 1\n",
        "        if top <= bottom:\n",
        "            for i in range(right, left - 1, -1):\n",
        "                result.append(array[bottom][i])\n",
        "            bottom -= 1\n",
        "        if left <= right:\n",
        "            for i in range(bottom, top - 1, -1):\n",
        "                result.append(array[i][left])\n",
        "            left += 1\n",
        "\n",
        "    return result\n",
        "\n",
        "array = [[1, 2, 3], [8, 9, 4], [7, 6, 5]]\n",
        "print(my_sort(array))"
      ],
      "metadata": {
        "colab": {
          "base_uri": "https://localhost:8080/"
        },
        "id": "1PGwCGwG2lZ5",
        "outputId": "bf1a155e-e3de-4dcf-d945-badb944c7cbe"
      },
      "execution_count": null,
      "outputs": [
        {
          "output_type": "stream",
          "name": "stdout",
          "text": [
            "[1, 2, 3, 4, 5, 6, 7, 8, 9]\n"
          ]
        }
      ]
    },
    {
      "cell_type": "code",
      "source": [
        "#Задача 9*\n",
        "#Создайте класс Laptop, у которого есть:\n",
        "#Конструктор, принимающий 3 аргумента: бренд, модель и цену ноутбука. На основании этих аргументов нужно для экземпляра создать атрибуты brand, model, price и также атрибут laptop_name — строковое значение, следующего вида: « brand model>»\n",
        "#Метод laptop_name возврашающий аналогичное значение поля.\n",
        "class Laptop:\n",
        "    def __init__(self, brand, model, price):\n",
        "        self.brand = brand\n",
        "        self.model = model\n",
        "        self.price = price\n",
        "        self.laptop_name = f\"{brand} {model}\"\n",
        "\n",
        "    def get_laptop_name(self):\n",
        "        return self.laptop_name\n",
        "\n",
        "hp = Laptop('hp', '15-bw0xx', 57000)\n",
        "print(hp.price) # выводит 57000\n",
        "print(hp.laptop_name) # выводит \"hp 15-bw0xx\""
      ],
      "metadata": {
        "colab": {
          "base_uri": "https://localhost:8080/"
        },
        "id": "_S45opm9US_R",
        "outputId": "419f146b-3f50-4238-a811-ee303abf41a6"
      },
      "execution_count": null,
      "outputs": [
        {
          "output_type": "stream",
          "name": "stdout",
          "text": [
            "57000\n",
            "hp 15-bw0xx\n"
          ]
        }
      ]
    },
    {
      "cell_type": "code",
      "source": [
        "#Задача 10*\n",
        "#Нужно создать функционал для упрошенного описания экономических отношений между работодателем, работником и компанией.\n",
        "#Нужно реализовать классы Director, Employee, Company, Promise.\n",
        "#+У компании должен быть метод, позволяющей получить прибыль условных единиц (flot).\n",
        "#+У Компании всегда есть только один Director, количество Employee не ограниченно.\n",
        "#+Также у компании должен быть метод позволяющий начислить зарплату всем ее работникам, согласно Promise каждого сотрудника компании.\n",
        "#+У всех работников компании есть контракт с компанией о размере его заработной плате – Promise, а также есть имена, фамилии и номера СНИЛС(Id)\n",
        "#+Promise - содержит в себе СНИЛС(Id) работника, размер его зарабтной платы, и информацию о том, была ли начисленна плата сотруднику\n",
        "#+fulfill_promise – метод, начисялющий всем заработную плату согласно персональному Promise каждого работника, если это возможно.\n",
        "#+Возвращает булевое значение\n",
        "#+set_profit - метод, устанваливающий прибыль всей компании за некоторый промежуток времен.\n",
        "#+Замечание: метод set_profit устанавливает прибыль для комании.\n",
        "#+Компания в свою очередь, пытается выплатить заработную плату всем сотрудникам компании методом fulfill_promise.\n",
        "#+Если баланса компании хватает на выплаты всем участникам компании, то fulfill_promise возвращает true, в противном случаее false\n",
        "class Company:\n",
        "    def __init__(self, director):\n",
        "        self.director = director\n",
        "        self.employees = []\n",
        "        self.profit = 0.0  # Прибыль компании\n",
        "\n",
        "    def set_profit(self, amount):\n",
        "        \"\"\"Устанавливает прибыль компании, проверяя тип и округляя до 2 знаков.\"\"\"\n",
        "        if not isinstance(amount, (int, float)):\n",
        "          raise ValueError(\"Прибыль должна быть числом.\")\n",
        "\n",
        "     # Преобразуем в float и округляем до 2 знаков после запятой\n",
        "        self.profit = round(float(amount), 2)\n",
        "\n",
        "    def add_employee(self, employee):\n",
        "        \"\"\"Добавляет сотрудника в компанию.\"\"\"\n",
        "        self.employees.append(employee)\n",
        "\n",
        "    def fulfill_promise(self):\n",
        "        \"\"\"Начисляет зарплату всем сотрудникам компании согласно Promise.\"\"\"\n",
        "        total_salary = sum(emp.promise.salary for emp in self.employees)\n",
        "\n",
        "        # Проверяем, достаточно ли прибыли для выплаты всем сотрудникам\n",
        "        if self.profit >= total_salary:\n",
        "            for emp in self.employees:\n",
        "                self.profit -= emp.promise.fulfill()\n",
        "            return True\n",
        "        else:\n",
        "            return False\n",
        "class Employee:\n",
        "    def __init__(self, first_name, last_name, id, salary):\n",
        "        self.first_name = first_name\n",
        "        self.last_name = last_name\n",
        "        self.id = id\n",
        "        self.promise = Promise(id, salary)  # Создаем Promise для сотрудника\n",
        "\n",
        "class Director(Employee):\n",
        "    def __init__(self, first_name, last_name, id, salary):\n",
        "        super().__init__(first_name, last_name, id, salary)\n",
        "\n",
        "class Promise:\n",
        "    def __init__(self, employee_id, salary):\n",
        "        self.employee_id = employee_id\n",
        "        self.salary = salary\n",
        "        self.fulfilled = False  # Указывает, была ли выплачена зарплата\n",
        "\n",
        "    def fulfill(self):\n",
        "        \"\"\"Выполняет выплату по Promise, отмечая его как выполненный.\"\"\"\n",
        "        if not self.fulfilled:\n",
        "            self.fulfilled = True\n",
        "            return self.salary\n",
        "        return 0\n",
        "\n"
      ],
      "metadata": {
        "id": "_svdFKHEyufo"
      },
      "execution_count": 2,
      "outputs": []
    }
  ]
}