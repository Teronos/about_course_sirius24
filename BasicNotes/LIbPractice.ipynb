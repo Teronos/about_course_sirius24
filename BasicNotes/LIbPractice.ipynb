{
  "cells": [
    {
      "cell_type": "markdown",
      "metadata": {
        "id": "7mPufk-fCDza"
      },
      "source": [
        "# Введение"
      ]
    },
    {
      "cell_type": "markdown",
      "metadata": {
        "id": "ieg8ju0fEdBM"
      },
      "source": [
        "Прежде чем перейти к работе с *python* библиотеками их нужно установить.\n",
        "\n",
        "Одним из способов установки библиотеки является использование командной строки и пакетного менеджера *pip*.\n",
        "\n",
        "Чтобы вызвать комндну комндную строку в ячейке *Jupyter Notebook*  достаточно к начальной коменде добвить символ:\" ! \"."
      ]
    },
    {
      "cell_type": "markdown",
      "metadata": {
        "id": "7FW6goWRG5Nj"
      },
      "source": [
        "Установка библиотек:  *pandas, numpy, scipy, matplotlib* через пакетный менеджер *pip*."
      ]
    },
    {
      "cell_type": "code",
      "execution_count": null,
      "metadata": {
        "colab": {
          "base_uri": "https://localhost:8080/"
        },
        "id": "B61kqIvjH9XI",
        "outputId": "2506af17-90e5-4abf-dd38-a9e0173fae6b"
      },
      "outputs": [
        {
          "name": "stdout",
          "output_type": "stream",
          "text": [
            "Requirement already satisfied: pandas in /Users/vladislavkazankov/miniconda3/lib/python3.10/site-packages (2.0.3)\n",
            "Requirement already satisfied: numpy in /Users/vladislavkazankov/miniconda3/lib/python3.10/site-packages (1.25.1)\n",
            "Requirement already satisfied: scipy in /Users/vladislavkazankov/miniconda3/lib/python3.10/site-packages (1.11.1)\n",
            "Requirement already satisfied: matplotlib in /Users/vladislavkazankov/miniconda3/lib/python3.10/site-packages (3.7.2)\n",
            "Requirement already satisfied: pytz>=2020.1 in /Users/vladislavkazankov/miniconda3/lib/python3.10/site-packages (from pandas) (2023.3)\n",
            "Requirement already satisfied: tzdata>=2022.1 in /Users/vladislavkazankov/miniconda3/lib/python3.10/site-packages (from pandas) (2023.3)\n",
            "Requirement already satisfied: python-dateutil>=2.8.2 in /Users/vladislavkazankov/miniconda3/lib/python3.10/site-packages (from pandas) (2.8.2)\n",
            "Requirement already satisfied: kiwisolver>=1.0.1 in /Users/vladislavkazankov/miniconda3/lib/python3.10/site-packages (from matplotlib) (1.4.4)\n",
            "Requirement already satisfied: pillow>=6.2.0 in /Users/vladislavkazankov/miniconda3/lib/python3.10/site-packages (from matplotlib) (10.0.0)\n",
            "Requirement already satisfied: packaging>=20.0 in /Users/vladislavkazankov/miniconda3/lib/python3.10/site-packages (from matplotlib) (23.1)\n",
            "Requirement already satisfied: pyparsing<3.1,>=2.3.1 in /Users/vladislavkazankov/miniconda3/lib/python3.10/site-packages (from matplotlib) (3.0.9)\n",
            "Requirement already satisfied: fonttools>=4.22.0 in /Users/vladislavkazankov/miniconda3/lib/python3.10/site-packages (from matplotlib) (4.40.0)\n",
            "Requirement already satisfied: contourpy>=1.0.1 in /Users/vladislavkazankov/miniconda3/lib/python3.10/site-packages (from matplotlib) (1.1.0)\n",
            "Requirement already satisfied: cycler>=0.10 in /Users/vladislavkazankov/miniconda3/lib/python3.10/site-packages (from matplotlib) (0.11.0)\n",
            "Requirement already satisfied: six>=1.5 in /Users/vladislavkazankov/miniconda3/lib/python3.10/site-packages (from python-dateutil>=2.8.2->pandas) (1.16.0)\n"
          ]
        }
      ],
      "source": [
        "!pip install pandas numpy scipy matplotlib"
      ]
    },
    {
      "cell_type": "markdown",
      "metadata": {
        "id": "0nAP7WUUCK-g"
      },
      "source": [
        "Импорт установленных бибилиотек с использованием пседонимов."
      ]
    },
    {
      "cell_type": "code",
      "execution_count": null,
      "metadata": {
        "id": "VvUzGUO7HosR"
      },
      "outputs": [],
      "source": [
        "import pandas as pd\n",
        "import numpy as np\n",
        "import scipy as sp\n",
        "import matplotlib.pyplot as plt"
      ]
    },
    {
      "cell_type": "markdown",
      "metadata": {
        "id": "KNYKGnVPHoZy"
      },
      "source": [
        "# Numpy"
      ]
    },
    {
      "cell_type": "markdown",
      "source": [
        "[NumPy](https://numpy.org) — это библиотека Python, которую применяют для математических вычислений: начиная с базовых функций и заканчивая линейной алгеброй. Полное название библиотеки — Numerical Python extensions, или «Числовые расширения Python»."
      ],
      "metadata": {
        "id": "Ze-TfTc5cOPf"
      }
    },
    {
      "cell_type": "markdown",
      "metadata": {
        "id": "etPkhwCTREZi"
      },
      "source": [
        "## Создание *numpy-массивов* и их индексация"
      ]
    },
    {
      "cell_type": "markdown",
      "metadata": {
        "id": "oQyLmRxrQUkZ"
      },
      "source": [
        "Создать *numpy-массив* можно из обычного списка *python* используя функцию *array*."
      ]
    },
    {
      "cell_type": "code",
      "execution_count": null,
      "metadata": {
        "colab": {
          "base_uri": "https://localhost:8080/"
        },
        "id": "aJJeN8FtMQ2y",
        "outputId": "74a591f7-7f7c-484e-9c59-a6859198a514"
      },
      "outputs": [
        {
          "data": {
            "text/plain": [
              "array([0, 1, 2, 3, 4, 5])"
            ]
          },
          "execution_count": 3,
          "metadata": {},
          "output_type": "execute_result"
        }
      ],
      "source": [
        "array = np.array([0, 1, 2, 3, 4, 5])\n",
        "array"
      ]
    },
    {
      "cell_type": "markdown",
      "metadata": {
        "id": "4qZ73Bo3OqDT"
      },
      "source": [
        "Для создания *numpy-массива* состоящего из элементов возрастающей последовательности удобно использовать функцию `arange`."
      ]
    },
    {
      "cell_type": "code",
      "execution_count": null,
      "metadata": {
        "colab": {
          "base_uri": "https://localhost:8080/"
        },
        "id": "oWG-MEfAK_cJ",
        "outputId": "3b25a635-cca3-445a-bb52-2e245818beb8"
      },
      "outputs": [
        {
          "data": {
            "text/plain": [
              "array([-5, -4, -3, -2, -1,  0,  1,  2,  3,  4,  5])"
            ]
          },
          "execution_count": 4,
          "metadata": {},
          "output_type": "execute_result"
        }
      ],
      "source": [
        "another_array = np.arange(-5, 6)\n",
        "another_array"
      ]
    },
    {
      "cell_type": "markdown",
      "metadata": {
        "id": "kT3XSCYBRfas"
      },
      "source": [
        "Получение элементов *numpy-массива* не отличается от списков в *python*"
      ]
    },
    {
      "cell_type": "code",
      "execution_count": null,
      "metadata": {
        "colab": {
          "base_uri": "https://localhost:8080/"
        },
        "id": "jApw9iG9Rv4J",
        "outputId": "bf2c9288-96e3-4142-86e1-aaf172c9f59b"
      },
      "outputs": [
        {
          "data": {
            "text/plain": [
              "2"
            ]
          },
          "execution_count": 5,
          "metadata": {},
          "output_type": "execute_result"
        }
      ],
      "source": [
        "# Получить второй элемент\n",
        "array[2]"
      ]
    },
    {
      "cell_type": "code",
      "execution_count": null,
      "metadata": {
        "colab": {
          "base_uri": "https://localhost:8080/"
        },
        "id": "sT9qpd3JMQza",
        "outputId": "6c393997-8cd5-494c-f161-3c2d5e7d8ac9"
      },
      "outputs": [
        {
          "data": {
            "text/plain": [
              "array([-2, -1,  0,  1,  2])"
            ]
          },
          "execution_count": 6,
          "metadata": {},
          "output_type": "execute_result"
        }
      ],
      "source": [
        "# Получить срез с 3 элемента по 7\n",
        "another_array[3:8]"
      ]
    },
    {
      "cell_type": "markdown",
      "metadata": {
        "id": "gFRI7VdtS2C1"
      },
      "source": [
        "Существует возможность быстрого присвоения конкретного значения одной или нескольким позициям *numpy-массива*"
      ]
    },
    {
      "cell_type": "code",
      "execution_count": null,
      "metadata": {
        "colab": {
          "base_uri": "https://localhost:8080/"
        },
        "id": "DrRQB3iFS0Qd",
        "outputId": "570fec2b-0cc3-489f-f4c9-1064a3a3e2b2"
      },
      "outputs": [
        {
          "data": {
            "text/plain": [
              "array([ -5,  -4,  -3,  -2,  -1, 999,   1,   2,   3,   4,   5])"
            ]
          },
          "execution_count": 7,
          "metadata": {},
          "output_type": "execute_result"
        }
      ],
      "source": [
        "# Присвоение значение одной ячейки\n",
        "another_array[5] = 999\n",
        "another_array"
      ]
    },
    {
      "cell_type": "code",
      "execution_count": null,
      "metadata": {
        "colab": {
          "base_uri": "https://localhost:8080/"
        },
        "id": "IUaGVme4S0Bp",
        "outputId": "46a3d7bd-549d-4a65-dd44-815f4bd73d5c"
      },
      "outputs": [
        {
          "data": {
            "text/plain": [
              "array([ -5,  -4, -66, -66, -66, -66, -66, -66, -66,   4,   5])"
            ]
          },
          "execution_count": 8,
          "metadata": {},
          "output_type": "execute_result"
        }
      ],
      "source": [
        "# Присвоение значения срезу из массива\n",
        "another_array[2:9] = -66\n",
        "another_array"
      ]
    },
    {
      "cell_type": "markdown",
      "metadata": {
        "id": "qYCXOi0cTyFN"
      },
      "source": [
        "Если нужно произвести изменение только в некотором срезе *numpy-массива*, **без изменения** исходного массива, то нужно создать копию первоначального массива и затем уже модифицировать срез копии *numpy-массива*."
      ]
    },
    {
      "cell_type": "code",
      "execution_count": null,
      "metadata": {
        "colab": {
          "base_uri": "https://localhost:8080/"
        },
        "id": "ZtnAJc07Tu6l",
        "outputId": "a6974b4c-9911-49d4-c60a-dfc23e6902e3"
      },
      "outputs": [
        {
          "data": {
            "text/plain": [
              "array([ 2, 77, 77])"
            ]
          },
          "execution_count": 9,
          "metadata": {},
          "output_type": "execute_result"
        }
      ],
      "source": [
        "# Копируем массив array\n",
        "array_clone = array.copy()\n",
        "\n",
        "# Создаем срез\n",
        "my_slice = array_clone[2:5]\n",
        "# Присваиваем значение  77 всем элементам среза начиная с первого\n",
        "my_slice[1:] = 77\n",
        "my_slice"
      ]
    },
    {
      "cell_type": "code",
      "execution_count": null,
      "metadata": {
        "colab": {
          "base_uri": "https://localhost:8080/"
        },
        "id": "CPbr56ikVunv",
        "outputId": "cc823c0e-31d5-4119-a495-e7516303f2ce"
      },
      "outputs": [
        {
          "data": {
            "text/plain": [
              "array([0, 1, 2, 3, 4, 5])"
            ]
          },
          "execution_count": 10,
          "metadata": {},
          "output_type": "execute_result"
        }
      ],
      "source": [
        "array"
      ]
    },
    {
      "cell_type": "markdown",
      "metadata": {
        "id": "WAYjkBLhg-DP"
      },
      "source": [
        "## Двумерные массивы"
      ]
    },
    {
      "cell_type": "markdown",
      "metadata": {
        "id": "vqAGFhQ5hJ8b"
      },
      "source": [
        "Для некоторых задач машинного обучения возникает необходимость использовать\n",
        "\n",
        "матрицы. В *numpy* их можно реализовать через создание массива с массивами."
      ]
    },
    {
      "cell_type": "code",
      "execution_count": null,
      "metadata": {
        "colab": {
          "base_uri": "https://localhost:8080/"
        },
        "id": "dUQ9kGODhDmK",
        "outputId": "1c95f07b-9b81-4b9a-c059-44f310bcefef"
      },
      "outputs": [
        {
          "data": {
            "text/plain": [
              "6"
            ]
          },
          "execution_count": 11,
          "metadata": {},
          "output_type": "execute_result"
        }
      ],
      "source": [
        "# Создаем матрицу, как массив массивов\n",
        "matrix = np.array([\n",
        "    [1, 2, 3],\n",
        "    [4, 5, 6],\n",
        "    [7, 8, 9]\n",
        "])\n",
        "\n",
        "# Получаем элемент из первой строки и 2 столбца строку\n",
        "matrix[1][2]"
      ]
    },
    {
      "cell_type": "code",
      "execution_count": null,
      "metadata": {
        "colab": {
          "base_uri": "https://localhost:8080/"
        },
        "id": "CExu5BV2jwoP",
        "outputId": "dcfca42a-53fc-418e-eade-90834e1e047f"
      },
      "outputs": [
        {
          "data": {
            "text/plain": [
              "array([[4, 5, 6]])"
            ]
          },
          "execution_count": 12,
          "metadata": {},
          "output_type": "execute_result"
        }
      ],
      "source": [
        "# Получаем первую строку матрицы\n",
        "matrix[1:2, :]"
      ]
    },
    {
      "cell_type": "code",
      "execution_count": null,
      "metadata": {
        "colab": {
          "base_uri": "https://localhost:8080/"
        },
        "id": "ClGOVvgQl7FT",
        "outputId": "5ecf5eb6-06ae-4365-92b1-df23a8a57ead"
      },
      "outputs": [
        {
          "data": {
            "text/plain": [
              "array([4, 5, 6])"
            ]
          },
          "execution_count": 13,
          "metadata": {},
          "output_type": "execute_result"
        }
      ],
      "source": [
        "# Получаем значения из первой строки матрицы\n",
        "matrix[1, :]"
      ]
    },
    {
      "cell_type": "code",
      "execution_count": null,
      "metadata": {
        "colab": {
          "base_uri": "https://localhost:8080/"
        },
        "id": "LOGkvvH0k2ug",
        "outputId": "4f5b0c98-706d-4f9a-f3f7-205a2607e2f7"
      },
      "outputs": [
        {
          "data": {
            "text/plain": [
              "array([[2],\n",
              "       [5],\n",
              "       [8]])"
            ]
          },
          "execution_count": 14,
          "metadata": {},
          "output_type": "execute_result"
        }
      ],
      "source": [
        "# Получаем первый столбец\n",
        "matrix[:, 1:2]"
      ]
    },
    {
      "cell_type": "code",
      "execution_count": null,
      "metadata": {
        "colab": {
          "base_uri": "https://localhost:8080/"
        },
        "id": "YEjQl-EWj8-v",
        "outputId": "1990b01f-5f66-4b26-cfcb-3e355b03c6c2"
      },
      "outputs": [
        {
          "data": {
            "text/plain": [
              "array([2, 5, 8])"
            ]
          },
          "execution_count": 15,
          "metadata": {},
          "output_type": "execute_result"
        }
      ],
      "source": [
        "# Получаем значения из первого столбца\n",
        "matrix[:, 1]"
      ]
    },
    {
      "cell_type": "markdown",
      "metadata": {
        "id": "I7zv1QIOo16x"
      },
      "source": [
        "Посмотрим, каким типом данных ялвяется матрица"
      ]
    },
    {
      "cell_type": "code",
      "execution_count": null,
      "metadata": {
        "colab": {
          "base_uri": "https://localhost:8080/"
        },
        "id": "h5pg2F9mmHQ1",
        "outputId": "5be58e59-0440-4fc3-afc0-8cf4ec5175de"
      },
      "outputs": [
        {
          "data": {
            "text/plain": [
              "numpy.ndarray"
            ]
          },
          "execution_count": 16,
          "metadata": {},
          "output_type": "execute_result"
        }
      ],
      "source": [
        "type(matrix)"
      ]
    },
    {
      "cell_type": "markdown",
      "metadata": {
        "id": "-E3w8ofupXR6"
      },
      "source": [
        "У типа данных `numpy.ndarray` есть несколько полезных методов. Начнем с *shape*."
      ]
    },
    {
      "cell_type": "code",
      "execution_count": null,
      "metadata": {
        "colab": {
          "base_uri": "https://localhost:8080/"
        },
        "id": "NrDw7ue1pM9h",
        "outputId": "10dd877f-5895-4d0f-dbcc-4997aefe3305"
      },
      "outputs": [
        {
          "data": {
            "text/plain": [
              "(3, 3)"
            ]
          },
          "execution_count": 17,
          "metadata": {},
          "output_type": "execute_result"
        }
      ],
      "source": [
        "# Узнаем количество строк и столбцов в матрице\n",
        "matrix.shape"
      ]
    },
    {
      "cell_type": "markdown",
      "metadata": {
        "id": "FQ-ijgNop-cF"
      },
      "source": [
        "Иногда бывает удобным двумерный массив представить как одномерный или одномерный массив превратить в двумерный. Для этого стоит использовать метод *reshape*, которому в скобках нужно передать через запятую желаемый размер"
      ]
    },
    {
      "cell_type": "code",
      "execution_count": null,
      "metadata": {
        "colab": {
          "base_uri": "https://localhost:8080/"
        },
        "id": "VIe6Ly_kr7n6",
        "outputId": "331b1d38-3d2a-4e7f-eacd-a87e773de285"
      },
      "outputs": [
        {
          "data": {
            "text/plain": [
              "array([0, 1, 2, 3, 4, 5])"
            ]
          },
          "execution_count": 18,
          "metadata": {},
          "output_type": "execute_result"
        }
      ],
      "source": [
        "array"
      ]
    },
    {
      "cell_type": "code",
      "execution_count": null,
      "metadata": {
        "colab": {
          "base_uri": "https://localhost:8080/"
        },
        "id": "Cc6yPc2ZlFSZ",
        "outputId": "9b18e6f9-3137-40fa-a3e7-ff68ce950853"
      },
      "outputs": [
        {
          "data": {
            "text/plain": [
              "array([[0, 1, 2],\n",
              "       [3, 4, 5]])"
            ]
          },
          "execution_count": 19,
          "metadata": {},
          "output_type": "execute_result"
        }
      ],
      "source": [
        "# Преобразуем массив в двумерный массив\n",
        "matrix_from_arr = array.reshape(2, 3)\n",
        "matrix_from_arr"
      ]
    },
    {
      "cell_type": "code",
      "execution_count": null,
      "metadata": {
        "colab": {
          "base_uri": "https://localhost:8080/"
        },
        "id": "WTUGZjipqjko",
        "outputId": "2f802dfb-ec18-4584-b25a-9094c1f18f80"
      },
      "outputs": [
        {
          "data": {
            "text/plain": [
              "array([0, 1, 2, 3, 4, 5])"
            ]
          },
          "execution_count": 20,
          "metadata": {},
          "output_type": "execute_result"
        }
      ],
      "source": [
        "# Обратное преобразование двумерного массива в одномерный массив\n",
        "back_to_array = matrix_from_arr.reshape(-1)\n",
        "back_to_array"
      ]
    },
    {
      "cell_type": "markdown",
      "metadata": {
        "id": "TMOrmO9Gsg1W"
      },
      "source": [
        "## Генерации случайных значений"
      ]
    },
    {
      "cell_type": "markdown",
      "metadata": {
        "id": "3uadurMKtOtZ"
      },
      "source": [
        "В *numpy* существует удобный модуль `random`.\n",
        "\n",
        "Его стоит использовать для инициализации начальных значений каких-нибудь объектов.\n",
        "\n",
        "Например, создадим матрицу из пяти строк и шести столбцов, заполненную целыми случайными числами\n",
        "из отрезка $[-5, 5].$"
      ]
    },
    {
      "cell_type": "code",
      "execution_count": null,
      "metadata": {
        "colab": {
          "base_uri": "https://localhost:8080/"
        },
        "id": "t0QFheSasl6b",
        "outputId": "a61bdfb4-2427-4e31-f924-42fcf8b61cb8"
      },
      "outputs": [
        {
          "data": {
            "text/plain": [
              "array([[-4, -1,  0, -3, -3, -4],\n",
              "       [ 3,  2,  2,  2,  2, -2],\n",
              "       [ 1,  5,  2, -2,  5,  3],\n",
              "       [-1,  0,  2,  4,  1, -1],\n",
              "       [-4, -3,  0, -4,  4,  2]])"
            ]
          },
          "execution_count": 21,
          "metadata": {},
          "output_type": "execute_result"
        }
      ],
      "source": [
        "# Создание матрицы\n",
        "random_matrix = np.random.randint(-5, 6,  size=(5, 6))\n",
        "random_matrix"
      ]
    },
    {
      "cell_type": "markdown",
      "metadata": {
        "id": "kLebLhgAzivG"
      },
      "source": [
        "При повтором запуске ячейки выше будет происходить генерация случайных чисел, важно отметить, что генераторы случайных чисел в *nympy* не обладают криптографической стойкостью.\n",
        "\n",
        "Иногда возникает необходимость, чтобы при каждом запуске ячейки в ней генерировались одни и те же случайные числа.\n",
        "\n",
        "Для это нужно использовать функцию `seed`, которая в качестве начального аргумента принимает целое число, фиксирующее конкретное состояние генератора случайных чисел внутри вызванной ячейки."
      ]
    },
    {
      "cell_type": "code",
      "execution_count": null,
      "metadata": {
        "colab": {
          "base_uri": "https://localhost:8080/"
        },
        "id": "Dtx-2KBysl23",
        "outputId": "f5495051-cb85-4046-b668-5a474944f609"
      },
      "outputs": [
        {
          "data": {
            "text/plain": [
              "array([[  0,  -7,  -2],\n",
              "       [-10,   9,   0],\n",
              "       [  1,  -1,   0]])"
            ]
          },
          "execution_count": 22,
          "metadata": {},
          "output_type": "execute_result"
        }
      ],
      "source": [
        "# Фиксируем состояние генератора\n",
        "np.random.seed(3)\n",
        "\n",
        "random_freeze_matrix = np.random.randint(-10, 11,  size=(3, 3))\n",
        "random_freeze_matrix"
      ]
    },
    {
      "cell_type": "markdown",
      "metadata": {
        "id": "Wc3qlUHZsQaN"
      },
      "source": [
        "## Операции"
      ]
    },
    {
      "cell_type": "markdown",
      "metadata": {
        "id": "zk9RFTj0K_v8"
      },
      "source": [
        "Одной из ключевых особенностей *numpy* являются *numpy-массивы*, так с ними можно проводить те же операции, что и с математическими векторами.\n",
        "\n"
      ]
    },
    {
      "cell_type": "code",
      "execution_count": null,
      "metadata": {
        "colab": {
          "base_uri": "https://localhost:8080/"
        },
        "id": "NKtuQ1tcsUnN",
        "outputId": "9d5e8b62-f9eb-4a41-8478-1b4c0688f7f6"
      },
      "outputs": [
        {
          "data": {
            "text/plain": [
              "array([ 3,  3,  1, -3,  3])"
            ]
          },
          "execution_count": 23,
          "metadata": {},
          "output_type": "execute_result"
        }
      ],
      "source": [
        "np.random.seed(2)\n",
        "# Создаем массив состоящий из пяти случайных элементов\n",
        "vec_1 = np.random.randint(-5, 6,  size=(5))\n",
        "vec_1"
      ]
    },
    {
      "cell_type": "code",
      "execution_count": null,
      "metadata": {
        "colab": {
          "base_uri": "https://localhost:8080/"
        },
        "id": "IlF3lipg4ofQ",
        "outputId": "233e43e2-6665-48b0-8290-8d2cfca88e32"
      },
      "outputs": [
        {
          "data": {
            "text/plain": [
              "array([ 5,  3,  4, -2,  3])"
            ]
          },
          "execution_count": 24,
          "metadata": {},
          "output_type": "execute_result"
        }
      ],
      "source": [
        "np.random.seed(3)\n",
        "# Создаем другой массив состоящий из пяти случайных элементов\n",
        "vec_2 = np.random.randint(-5, 6,  size=(5))\n",
        "vec_2"
      ]
    },
    {
      "cell_type": "code",
      "execution_count": null,
      "metadata": {
        "colab": {
          "base_uri": "https://localhost:8080/"
        },
        "id": "SgCZ9muT482J",
        "outputId": "1af0e489-84f7-4ac3-ff8b-a0e7a7b94f9b"
      },
      "outputs": [
        {
          "data": {
            "text/plain": [
              "array([ 8,  6,  5, -5,  6])"
            ]
          },
          "execution_count": 25,
          "metadata": {},
          "output_type": "execute_result"
        }
      ],
      "source": [
        "# Сложение массивов\n",
        "vec_1 + vec_2"
      ]
    },
    {
      "cell_type": "code",
      "execution_count": null,
      "metadata": {
        "colab": {
          "base_uri": "https://localhost:8080/"
        },
        "id": "bXXaACzksUkb",
        "outputId": "3ca67823-3f81-4535-92b4-94d37ec28495"
      },
      "outputs": [
        {
          "data": {
            "text/plain": [
              "array([ 6,  6,  2, -6,  6])"
            ]
          },
          "execution_count": 26,
          "metadata": {},
          "output_type": "execute_result"
        }
      ],
      "source": [
        "# Умножение на скаляр\n",
        "vec_1 * 2"
      ]
    },
    {
      "cell_type": "code",
      "execution_count": null,
      "metadata": {
        "colab": {
          "base_uri": "https://localhost:8080/"
        },
        "id": "Ocg2upVN4bEZ",
        "outputId": "50083044-f8e5-4d93-b7e9-3b6b9a15e883"
      },
      "outputs": [
        {
          "data": {
            "text/plain": [
              "array([8, 8, 6, 2, 8])"
            ]
          },
          "execution_count": 27,
          "metadata": {},
          "output_type": "execute_result"
        }
      ],
      "source": [
        "# Прибавление скаляра ко всем элементам массива\n",
        "vec_1 + 5"
      ]
    },
    {
      "cell_type": "markdown",
      "metadata": {
        "id": "jyK-e1DE68Ig"
      },
      "source": [
        "Выше описанные операции аналогичным образом работают и для многомерных *numpy-массивов*."
      ]
    },
    {
      "cell_type": "code",
      "execution_count": null,
      "metadata": {
        "colab": {
          "base_uri": "https://localhost:8080/"
        },
        "id": "NPVxIi7h7HwQ",
        "outputId": "e7164621-5edb-4212-9ccd-61140c4abb15"
      },
      "outputs": [
        {
          "data": {
            "text/plain": [
              "array([[ 3, -5,  0, -2,  5],\n",
              "       [ 4,  4,  5,  0,  2],\n",
              "       [ 1, -5, -1,  2,  3]])"
            ]
          },
          "execution_count": 28,
          "metadata": {},
          "output_type": "execute_result"
        }
      ],
      "source": [
        "# Создаем матрицу\n",
        "matrix = np.random.randint(-5, 6,  size=(3,5))\n",
        "matrix"
      ]
    },
    {
      "cell_type": "markdown",
      "metadata": {
        "id": "fCuf8oD98KfS"
      },
      "source": [
        "В *numpy* через символ \"@\" определено матричное умножение. Существует несколько способов вычисления, которые зависят от желаемого результирующего типа данных. В одном случае можно получить ответ в виде массива, а другой в виде матрицы."
      ]
    },
    {
      "cell_type": "code",
      "execution_count": null,
      "metadata": {
        "colab": {
          "base_uri": "https://localhost:8080/"
        },
        "id": "W3ASG8y683MR",
        "outputId": "eb4f5ce4-ca2b-43ed-c104-ab08b0fba036"
      },
      "outputs": [
        {
          "data": {
            "text/plain": [
              "array([ 3,  3,  1, -3,  3])"
            ]
          },
          "execution_count": 29,
          "metadata": {},
          "output_type": "execute_result"
        }
      ],
      "source": [
        "vec_1"
      ]
    },
    {
      "cell_type": "code",
      "execution_count": null,
      "metadata": {
        "colab": {
          "base_uri": "https://localhost:8080/"
        },
        "id": "kwqDYrml9YHb",
        "outputId": "f7ecdce8-afc5-4400-a59e-6a669b8e4981"
      },
      "outputs": [
        {
          "data": {
            "text/plain": [
              "array([[ 3],\n",
              "       [ 3],\n",
              "       [ 1],\n",
              "       [-3],\n",
              "       [ 3]])"
            ]
          },
          "execution_count": 30,
          "metadata": {},
          "output_type": "execute_result"
        }
      ],
      "source": [
        "vec_1.reshape(-1,1)"
      ]
    },
    {
      "cell_type": "code",
      "execution_count": null,
      "metadata": {
        "colab": {
          "base_uri": "https://localhost:8080/"
        },
        "id": "ffV_Qm7s9Gtf",
        "outputId": "3ca94361-800a-424f-9216-db2f817bee89"
      },
      "outputs": [
        {
          "data": {
            "text/plain": [
              "array([ 15,  35, -10])"
            ]
          },
          "execution_count": 31,
          "metadata": {},
          "output_type": "execute_result"
        }
      ],
      "source": [
        "# Результат  матричного умножения в виде массива\n",
        "matrix @ vec_1"
      ]
    },
    {
      "cell_type": "code",
      "execution_count": null,
      "metadata": {
        "colab": {
          "base_uri": "https://localhost:8080/"
        },
        "id": "kL7I_nzD8TNT",
        "outputId": "5d5da3f9-c280-4cc5-ad50-dd6d6bc0a12a"
      },
      "outputs": [
        {
          "data": {
            "text/plain": [
              "array([[ 15],\n",
              "       [ 35],\n",
              "       [-10]])"
            ]
          },
          "execution_count": 32,
          "metadata": {},
          "output_type": "execute_result"
        }
      ],
      "source": [
        "# Результат матричного умножения, в виде вектор-столбца\n",
        "matrix @ vec_1.reshape(-1,1)"
      ]
    },
    {
      "cell_type": "markdown",
      "metadata": {
        "id": "MtEN9fwubgcG"
      },
      "source": [
        "# Pandas"
      ]
    },
    {
      "cell_type": "markdown",
      "metadata": {
        "id": "G6NDojzGLCjH"
      },
      "source": [
        "[Pandas](https://github.com/numpy/numpy) — это open-source библиотека Python для обработки и анализа структурированных данных(таблиц, json-файлов, текстовых данных). Чтобы анализировать данные с помощью Pandas, нужно понять, как устроены структуры этих данных внутри библиотеки.\n",
        "\n",
        "В первую очередь разберем, что такое DataFrame и Series, а после изучим методы работы с ними."
      ]
    },
    {
      "cell_type": "markdown",
      "metadata": {
        "id": "CnGmYaDbO6Ei"
      },
      "source": [
        "## Series"
      ]
    },
    {
      "cell_type": "markdown",
      "metadata": {
        "id": "AKEtkkEtPONN"
      },
      "source": [
        "**Series** - это проиндексированный одномерный массив значений. Он очень похож на массив *numpy* (в его основе как раз и лежит массив *numpy*). Отличие *Series* в том, что в нём для каждого элемента можно указать некоторое название (метка - *label*). В результате можно обращаться к отдельному элементу *Series* не только по его номеру внутри массива, как в *numpy*, но и по значению метки. В этом отношении Series очень похож на словарь (*Dictionary*). Метки могут быть любого типа данных, необязательно числа или строки.\n",
        "\n",
        "С подробной информацией о *DataFrame* можно ознакомиться, если вызвать справку о данном объекте:"
      ]
    },
    {
      "cell_type": "code",
      "execution_count": null,
      "metadata": {
        "id": "xf-p40i-swx6"
      },
      "outputs": [],
      "source": [
        "#help(pd.Series)"
      ]
    },
    {
      "cell_type": "markdown",
      "metadata": {
        "id": "876gyN79PtJd"
      },
      "source": [
        "### Как создать Series?\n",
        "\n",
        "Так как  *Series* - это проиндексированный одномерный массив значений, то логично, что создать его можно из списков стандартной библиотеки *python*, массивов *numpy* *Array*, а также из словарей.\n",
        "\n",
        "Создадим несколько списков для демонстрации:"
      ]
    },
    {
      "cell_type": "code",
      "execution_count": null,
      "metadata": {
        "id": "LDXpDKv7QuLO"
      },
      "outputs": [],
      "source": [
        "myindex = ['France','China','Mexico']\n",
        "mydata = [1776,1234,2995]\n",
        "mynumpy = np.array([1,23,5,6,7])\n",
        "mycolleagues = {'Sammy':25,'Frank':30,'Spike':27}"
      ]
    },
    {
      "cell_type": "markdown",
      "metadata": {
        "id": "woJc-sD6Rbk4"
      },
      "source": [
        "Проверим их типы"
      ]
    },
    {
      "cell_type": "code",
      "execution_count": null,
      "metadata": {
        "colab": {
          "base_uri": "https://localhost:8080/"
        },
        "id": "RoW-QTQ0RbG9",
        "outputId": "86a01970-c79c-4a28-b38d-a9181d75c836"
      },
      "outputs": [
        {
          "name": "stdout",
          "output_type": "stream",
          "text": [
            "<class 'list'> <class 'list'> <class 'numpy.ndarray'> <class 'dict'>\n"
          ]
        }
      ],
      "source": [
        "print( type(myindex), type(mydata), type(mynumpy),  type(mycolleagues))"
      ]
    },
    {
      "cell_type": "markdown",
      "metadata": {
        "id": "F6Kxhmt9Rutx"
      },
      "source": [
        "Теперь преобразуем списки к типу *Series* с помощью метода `Series` и выведем один из получившихся объектов"
      ]
    },
    {
      "cell_type": "code",
      "execution_count": null,
      "metadata": {
        "colab": {
          "base_uri": "https://localhost:8080/"
        },
        "id": "YM3GvcvkR3Q_",
        "outputId": "7cd2f2c1-0b84-4388-b8be-75429d9f7c42"
      },
      "outputs": [
        {
          "name": "stdout",
          "output_type": "stream",
          "text": [
            "0    1776\n",
            "1    1234\n",
            "2    2995\n",
            "dtype: int64\n"
          ]
        }
      ],
      "source": [
        "myindex_pandas = pd.Series(data=mydata)\n",
        "mydata_pandas = pd.Series(data=mydata)\n",
        "mycolleagues_pandas = pd.Series(mycolleagues)\n",
        "mydata_pandas = pd.Series(data=mynumpy)\n",
        "\n",
        "print(myindex_pandas)"
      ]
    },
    {
      "cell_type": "code",
      "execution_count": null,
      "metadata": {
        "colab": {
          "base_uri": "https://localhost:8080/"
        },
        "id": "dyZME3VhUvYy",
        "outputId": "4efe86ed-3c34-4411-e83e-0164a09db4fc"
      },
      "outputs": [
        {
          "data": {
            "text/plain": [
              "0     1\n",
              "1    23\n",
              "2     5\n",
              "3     6\n",
              "4     7\n",
              "dtype: int64"
            ]
          },
          "execution_count": 37,
          "metadata": {},
          "output_type": "execute_result"
        }
      ],
      "source": [
        "mydata_pandas"
      ]
    },
    {
      "cell_type": "code",
      "execution_count": null,
      "metadata": {
        "colab": {
          "base_uri": "https://localhost:8080/"
        },
        "id": "-T_0lqYIUw3m",
        "outputId": "6424fdc7-a4bc-4453-8c9f-7ee210492081"
      },
      "outputs": [
        {
          "data": {
            "text/plain": [
              "0     1\n",
              "1    23\n",
              "2     5\n",
              "3     6\n",
              "4     7\n",
              "dtype: int64"
            ]
          },
          "execution_count": 38,
          "metadata": {},
          "output_type": "execute_result"
        }
      ],
      "source": [
        "mydata_pandas"
      ]
    },
    {
      "cell_type": "code",
      "execution_count": null,
      "metadata": {
        "colab": {
          "base_uri": "https://localhost:8080/"
        },
        "id": "OTZhJGuuUy-_",
        "outputId": "4267099f-3b0f-4901-9579-bcab8393db4b"
      },
      "outputs": [
        {
          "data": {
            "text/plain": [
              "Sammy    25\n",
              "Frank    30\n",
              "Spike    27\n",
              "dtype: int64"
            ]
          },
          "execution_count": 39,
          "metadata": {},
          "output_type": "execute_result"
        }
      ],
      "source": [
        "mycolleagues_pandas"
      ]
    },
    {
      "cell_type": "markdown",
      "metadata": {
        "id": "FsvOO7y_SZLx"
      },
      "source": [
        "Изучим, например, объект `myindex_pandas`. Визуально он похож на пронумерованный список: слева в колонке находятся индексы элементов, а справа — сами элементы.\n",
        "\n",
        "Индексом может быть числовой показатель (0, 1, 2…), буквенные значения (a, b, c…) или другие данные. Если индекс не задан, то автоматически проставляются числа. Например, от 0 до 2 как в примере выше. Такая нумерация называется `RangeIndex`, в ней всегда содержатся числа от 0 до определенного числа N. Количество элементов в таком объекте равно N+1.\n",
        "\n",
        "Теперь попробуем назначить собственные индексы. Для этого в метод *Series* передадим два парамера: `data` и `index`.\n"
      ]
    },
    {
      "cell_type": "code",
      "execution_count": null,
      "metadata": {
        "colab": {
          "base_uri": "https://localhost:8080/"
        },
        "id": "3tSaNjEUToZR",
        "outputId": "54669054-af0f-4305-d964-7e10e1566034"
      },
      "outputs": [
        {
          "data": {
            "text/plain": [
              "France    1776\n",
              "China     1234\n",
              "Mexico    2995\n",
              "dtype: int64"
            ]
          },
          "execution_count": 40,
          "metadata": {},
          "output_type": "execute_result"
        }
      ],
      "source": [
        "pd.Series(data=mydata,index=myindex)"
      ]
    },
    {
      "cell_type": "markdown",
      "metadata": {
        "id": "mq1jIIEBVfrE"
      },
      "source": [
        "### Как работать с объектами Series?\n",
        "\n",
        "Допустим у нас есть данные о количестве капибар в зоопарках различных стран."
      ]
    },
    {
      "cell_type": "code",
      "execution_count": null,
      "metadata": {
        "id": "cr0_NP_2WSfy"
      },
      "outputs": [],
      "source": [
        "c1 = {'Japan': 80, 'China': 450, 'India': 200, 'USA': 250}"
      ]
    },
    {
      "cell_type": "code",
      "execution_count": null,
      "metadata": {
        "id": "eSy6P8Flg0UW"
      },
      "outputs": [],
      "source": [
        "# Преобразуем данные в Pandas Series\n",
        "amount_c1 = pd.Series(c1)"
      ]
    },
    {
      "cell_type": "code",
      "execution_count": null,
      "metadata": {
        "colab": {
          "base_uri": "https://localhost:8080/"
        },
        "id": "hI1b7h4tg1dz",
        "outputId": "15483801-fd8f-42f2-8e62-62c2c51dd2ea"
      },
      "outputs": [
        {
          "data": {
            "text/plain": [
              "Japan     80\n",
              "China    450\n",
              "India    200\n",
              "USA      250\n",
              "dtype: int64"
            ]
          },
          "execution_count": 43,
          "metadata": {},
          "output_type": "execute_result"
        }
      ],
      "source": [
        "amount_c1"
      ]
    },
    {
      "cell_type": "markdown",
      "metadata": {
        "id": "bksCr9bWg8T0"
      },
      "source": [
        "Что делать, если мы хотим узнать количество капибар в отдельной стране?"
      ]
    },
    {
      "cell_type": "code",
      "execution_count": null,
      "metadata": {
        "colab": {
          "base_uri": "https://localhost:8080/"
        },
        "id": "lj5QmAZWhDqd",
        "outputId": "2b612ac3-ddde-40b7-93a5-f77c4819d92e"
      },
      "outputs": [
        {
          "data": {
            "text/plain": [
              "80"
            ]
          },
          "execution_count": 44,
          "metadata": {},
          "output_type": "execute_result"
        }
      ],
      "source": [
        "# Получаем отдельный элемент массива с помощью его названия\n",
        "amount_c1['Japan']"
      ]
    },
    {
      "cell_type": "code",
      "execution_count": null,
      "metadata": {
        "colab": {
          "base_uri": "https://localhost:8080/"
        },
        "id": "mo54Z1BshPbz",
        "outputId": "2a3625c6-9978-4fb6-e458-969feebe1827"
      },
      "outputs": [
        {
          "data": {
            "text/plain": [
              "80"
            ]
          },
          "execution_count": 45,
          "metadata": {},
          "output_type": "execute_result"
        }
      ],
      "source": [
        "# Также сохраняется возможность получить элемент по его номеру позиции внутри массива!\n",
        "amount_c1[0]"
      ]
    },
    {
      "cell_type": "markdown",
      "metadata": {
        "id": "iSwpfrfxhBGb"
      },
      "source": [
        "**Однако будьте аккуратны! Если вы неправильно укажете индекс, то возникнет ошибка KeyError.**\n",
        "\n",
        "Мы подготовили несколько частотных случаев, когда это случается."
      ]
    },
    {
      "cell_type": "code",
      "execution_count": null,
      "metadata": {
        "id": "ooW-jONuhkrK"
      },
      "outputs": [],
      "source": [
        "# Обращение к элементу, который не содержится в нашем Series\n",
        "#amount_c1['France']"
      ]
    },
    {
      "cell_type": "code",
      "execution_count": null,
      "metadata": {
        "id": "9Pb1q7sXho4-"
      },
      "outputs": [],
      "source": [
        "# Лишний пробел в названии тоже создаст ошибку\n",
        "#amount_c1['USA ']"
      ]
    },
    {
      "cell_type": "code",
      "execution_count": null,
      "metadata": {
        "id": "ahn81KoQhqaJ"
      },
      "outputs": [],
      "source": [
        "# Случайно написали название не в том регистре - маленькими буквами\n",
        "# amount_c1['usa']"
      ]
    },
    {
      "cell_type": "markdown",
      "metadata": {
        "id": "usvziSIch9ty"
      },
      "source": [
        "Что делать, если нужно получить индексы Series?"
      ]
    },
    {
      "cell_type": "code",
      "execution_count": null,
      "metadata": {
        "colab": {
          "base_uri": "https://localhost:8080/"
        },
        "id": "zZD1RfaciEL2",
        "outputId": "3f10f22c-57dc-45a5-a8a1-0e8e8dca92de"
      },
      "outputs": [
        {
          "data": {
            "text/plain": [
              "Index(['Japan', 'China', 'India', 'USA'], dtype='object')"
            ]
          },
          "execution_count": 49,
          "metadata": {},
          "output_type": "execute_result"
        }
      ],
      "source": [
        "amount_c1.keys()"
      ]
    },
    {
      "cell_type": "markdown",
      "metadata": {
        "id": "HErbgagjiQzc"
      },
      "source": [
        "Также для объектов *Series* доступны broadcast-действия (аналогичные операции мы уже делали с *numpy-массивами*). Например, можно умножить все элементы Series на число:"
      ]
    },
    {
      "cell_type": "code",
      "execution_count": null,
      "metadata": {
        "colab": {
          "base_uri": "https://localhost:8080/"
        },
        "id": "v2AQZB37i25H",
        "outputId": "9cbe6109-1ac1-48aa-8b7f-5cd1fa2ca262"
      },
      "outputs": [
        {
          "data": {
            "text/plain": [
              "Japan    160\n",
              "China    900\n",
              "India    400\n",
              "USA      500\n",
              "dtype: int64"
            ]
          },
          "execution_count": 50,
          "metadata": {},
          "output_type": "execute_result"
        }
      ],
      "source": [
        "amount_c1 * 2"
      ]
    },
    {
      "cell_type": "code",
      "execution_count": null,
      "metadata": {
        "colab": {
          "base_uri": "https://localhost:8080/"
        },
        "id": "-zt5D-dNi672",
        "outputId": "972d0549-8c46-40fe-9bd4-5993873567b6"
      },
      "outputs": [
        {
          "data": {
            "text/plain": [
              "Japan      6400\n",
              "China    202500\n",
              "India     40000\n",
              "USA       62500\n",
              "dtype: int64"
            ]
          },
          "execution_count": 51,
          "metadata": {},
          "output_type": "execute_result"
        }
      ],
      "source": [
        "amount_c1 * amount_c1"
      ]
    },
    {
      "cell_type": "markdown",
      "metadata": {
        "id": "34D9c9fsO-uF"
      },
      "source": [
        "## DataFrame\n",
        "\n",
        "На протяжении всего курсы мы будем очень много работать с объектами *DataFrame*. Они являются естественным продолжением *Pandas Series*.\n",
        "\n",
        "Определение *DataFrame* следующее:\n",
        "Pandas DataFrame состоит из нескольких объектов *Pandas Series* с общими значениями индекса.\n",
        "По сути, если *Series - это одномерный проиндексированный массив, то DataFrame - многомерный проиндексированный массив*, в котором каждый столбец является массивом Series.\n",
        "\n",
        "При этом для столбцов и строк вводятся свои индексы.\n",
        "\n",
        "С подробной информацией о *DataFrame* можно ознакомиться, если вызвать справку о данном объекте:"
      ]
    },
    {
      "cell_type": "code",
      "execution_count": null,
      "metadata": {
        "id": "azYU0h3-LCPM"
      },
      "outputs": [],
      "source": [
        "#help(pd.DataFrame)"
      ]
    },
    {
      "cell_type": "markdown",
      "metadata": {
        "id": "lwsXfdeXlHB-"
      },
      "source": [
        "### Как создавать DataFrame?\n",
        "\n",
        "Для работы нам понадобится зафиксировать параметры генерации случайных чисел с помощью команды `np.random.seed()`. Подробнее о ней можно узнать по [ссылке](https://stackoverflow.com/questions/21494489/what-does-numpy-random-seed0-do).\n",
        "\n",
        "Сгенерируем матрицу со случайными значениями:\n"
      ]
    },
    {
      "cell_type": "code",
      "execution_count": null,
      "metadata": {
        "id": "0uLOY4bFlGzo"
      },
      "outputs": [],
      "source": [
        "np.random.seed(101)\n",
        "mydata = np.random.randint(0,101,(4,3))"
      ]
    },
    {
      "cell_type": "code",
      "execution_count": null,
      "metadata": {
        "colab": {
          "base_uri": "https://localhost:8080/"
        },
        "id": "P3JOJur1l1vT",
        "outputId": "df4d0280-343d-458d-d79c-2710cd9e8414"
      },
      "outputs": [
        {
          "data": {
            "text/plain": [
              "array([[95, 11, 81],\n",
              "       [70, 63, 87],\n",
              "       [75,  9, 77],\n",
              "       [40,  4, 63]])"
            ]
          },
          "execution_count": 54,
          "metadata": {},
          "output_type": "execute_result"
        }
      ],
      "source": [
        "mydata"
      ]
    },
    {
      "cell_type": "markdown",
      "metadata": {
        "id": "hT446RXPmaou"
      },
      "source": [
        "Сгенерируем списки индексов"
      ]
    },
    {
      "cell_type": "code",
      "execution_count": null,
      "metadata": {
        "id": "nnT_1z0bmRNd"
      },
      "outputs": [],
      "source": [
        "myindex = ['KZ','RU','JP','US']"
      ]
    },
    {
      "cell_type": "code",
      "execution_count": null,
      "metadata": {
        "id": "krzODj45mpOx"
      },
      "outputs": [],
      "source": [
        "mycolumns = ['Jan','Feb','Mar']"
      ]
    },
    {
      "cell_type": "markdown",
      "metadata": {
        "id": "17f_hLucmtpZ"
      },
      "source": [
        "Создадим объект *DataFrame* из матрицы `mydata` c помощью одноименного метода."
      ]
    },
    {
      "cell_type": "code",
      "execution_count": null,
      "metadata": {
        "colab": {
          "base_uri": "https://localhost:8080/",
          "height": 173
        },
        "id": "qR3b4HLim755",
        "outputId": "11b60c7a-77a2-477f-ded8-47daf78b8540"
      },
      "outputs": [
        {
          "data": {
            "text/html": [
              "<div>\n",
              "<style scoped>\n",
              "    .dataframe tbody tr th:only-of-type {\n",
              "        vertical-align: middle;\n",
              "    }\n",
              "\n",
              "    .dataframe tbody tr th {\n",
              "        vertical-align: top;\n",
              "    }\n",
              "\n",
              "    .dataframe thead th {\n",
              "        text-align: right;\n",
              "    }\n",
              "</style>\n",
              "<table border=\"1\" class=\"dataframe\">\n",
              "  <thead>\n",
              "    <tr style=\"text-align: right;\">\n",
              "      <th></th>\n",
              "      <th>0</th>\n",
              "      <th>1</th>\n",
              "      <th>2</th>\n",
              "    </tr>\n",
              "  </thead>\n",
              "  <tbody>\n",
              "    <tr>\n",
              "      <th>0</th>\n",
              "      <td>95</td>\n",
              "      <td>11</td>\n",
              "      <td>81</td>\n",
              "    </tr>\n",
              "    <tr>\n",
              "      <th>1</th>\n",
              "      <td>70</td>\n",
              "      <td>63</td>\n",
              "      <td>87</td>\n",
              "    </tr>\n",
              "    <tr>\n",
              "      <th>2</th>\n",
              "      <td>75</td>\n",
              "      <td>9</td>\n",
              "      <td>77</td>\n",
              "    </tr>\n",
              "    <tr>\n",
              "      <th>3</th>\n",
              "      <td>40</td>\n",
              "      <td>4</td>\n",
              "      <td>63</td>\n",
              "    </tr>\n",
              "  </tbody>\n",
              "</table>\n",
              "</div>"
            ],
            "text/plain": [
              "    0   1   2\n",
              "0  95  11  81\n",
              "1  70  63  87\n",
              "2  75   9  77\n",
              "3  40   4  63"
            ]
          },
          "execution_count": 57,
          "metadata": {},
          "output_type": "execute_result"
        }
      ],
      "source": [
        "df = pd.DataFrame(data=mydata)\n",
        "df"
      ]
    },
    {
      "cell_type": "markdown",
      "metadata": {
        "id": "trqe9ZyOnyIU"
      },
      "source": [
        "У данного *DataFrame* индексы числовые. Однако, это неудобно для работы с крупными таблицами. Поэтому мы создадим *DataFrame* c индексами для строк и столбцов. Для этого в метод `pd.DataFrame` мы передадим еще и параметры `index` и `columns`:\n"
      ]
    },
    {
      "cell_type": "code",
      "execution_count": null,
      "metadata": {
        "colab": {
          "base_uri": "https://localhost:8080/",
          "height": 173
        },
        "id": "3k6bkRuso3mY",
        "outputId": "c4d39622-ab92-4860-936f-71a62879ef5e"
      },
      "outputs": [
        {
          "data": {
            "text/html": [
              "<div>\n",
              "<style scoped>\n",
              "    .dataframe tbody tr th:only-of-type {\n",
              "        vertical-align: middle;\n",
              "    }\n",
              "\n",
              "    .dataframe tbody tr th {\n",
              "        vertical-align: top;\n",
              "    }\n",
              "\n",
              "    .dataframe thead th {\n",
              "        text-align: right;\n",
              "    }\n",
              "</style>\n",
              "<table border=\"1\" class=\"dataframe\">\n",
              "  <thead>\n",
              "    <tr style=\"text-align: right;\">\n",
              "      <th></th>\n",
              "      <th>Jan</th>\n",
              "      <th>Feb</th>\n",
              "      <th>Mar</th>\n",
              "    </tr>\n",
              "  </thead>\n",
              "  <tbody>\n",
              "    <tr>\n",
              "      <th>KZ</th>\n",
              "      <td>95</td>\n",
              "      <td>11</td>\n",
              "      <td>81</td>\n",
              "    </tr>\n",
              "    <tr>\n",
              "      <th>RU</th>\n",
              "      <td>70</td>\n",
              "      <td>63</td>\n",
              "      <td>87</td>\n",
              "    </tr>\n",
              "    <tr>\n",
              "      <th>JP</th>\n",
              "      <td>75</td>\n",
              "      <td>9</td>\n",
              "      <td>77</td>\n",
              "    </tr>\n",
              "    <tr>\n",
              "      <th>US</th>\n",
              "      <td>40</td>\n",
              "      <td>4</td>\n",
              "      <td>63</td>\n",
              "    </tr>\n",
              "  </tbody>\n",
              "</table>\n",
              "</div>"
            ],
            "text/plain": [
              "    Jan  Feb  Mar\n",
              "KZ   95   11   81\n",
              "RU   70   63   87\n",
              "JP   75    9   77\n",
              "US   40    4   63"
            ]
          },
          "execution_count": 58,
          "metadata": {},
          "output_type": "execute_result"
        }
      ],
      "source": [
        "df = pd.DataFrame(data=mydata,index=myindex,columns=mycolumns)\n",
        "df"
      ]
    },
    {
      "cell_type": "code",
      "execution_count": null,
      "metadata": {
        "colab": {
          "base_uri": "https://localhost:8080/",
          "height": 173
        },
        "id": "VqWXQGLHpDzF",
        "outputId": "6ced1609-28bc-4940-c696-cf2ce20a4fab"
      },
      "outputs": [
        {
          "data": {
            "text/html": [
              "<div>\n",
              "<style scoped>\n",
              "    .dataframe tbody tr th:only-of-type {\n",
              "        vertical-align: middle;\n",
              "    }\n",
              "\n",
              "    .dataframe tbody tr th {\n",
              "        vertical-align: top;\n",
              "    }\n",
              "\n",
              "    .dataframe thead th {\n",
              "        text-align: right;\n",
              "    }\n",
              "</style>\n",
              "<table border=\"1\" class=\"dataframe\">\n",
              "  <thead>\n",
              "    <tr style=\"text-align: right;\">\n",
              "      <th></th>\n",
              "      <th>0</th>\n",
              "      <th>1</th>\n",
              "      <th>2</th>\n",
              "    </tr>\n",
              "  </thead>\n",
              "  <tbody>\n",
              "    <tr>\n",
              "      <th>KZ</th>\n",
              "      <td>95</td>\n",
              "      <td>11</td>\n",
              "      <td>81</td>\n",
              "    </tr>\n",
              "    <tr>\n",
              "      <th>RU</th>\n",
              "      <td>70</td>\n",
              "      <td>63</td>\n",
              "      <td>87</td>\n",
              "    </tr>\n",
              "    <tr>\n",
              "      <th>JP</th>\n",
              "      <td>75</td>\n",
              "      <td>9</td>\n",
              "      <td>77</td>\n",
              "    </tr>\n",
              "    <tr>\n",
              "      <th>US</th>\n",
              "      <td>40</td>\n",
              "      <td>4</td>\n",
              "      <td>63</td>\n",
              "    </tr>\n",
              "  </tbody>\n",
              "</table>\n",
              "</div>"
            ],
            "text/plain": [
              "     0   1   2\n",
              "KZ  95  11  81\n",
              "RU  70  63  87\n",
              "JP  75   9  77\n",
              "US  40   4  63"
            ]
          },
          "execution_count": 59,
          "metadata": {},
          "output_type": "execute_result"
        }
      ],
      "source": [
        "# Кстати, библиотека не запрещает передавать только параметр index или параметр columns\n",
        "df = pd.DataFrame(data=mydata,index=myindex)\n",
        "df"
      ]
    },
    {
      "cell_type": "markdown",
      "metadata": {
        "id": "sQM-cnvGr9HH"
      },
      "source": [
        "## Работа с таблицами:\n",
        "\n",
        "\n",
        "***Замечание: Позже в этом курсе мы рассмотрим много различных типов файлов — `.html`, `.csv`, `.xlsx` и другие. Но сейчас мы ограничимся только форматом `.csv`.***\n",
        "\n",
        "Часто данные для исследования предоставлены в формате .csv (Comma Separated Values), в котором содержатся отдельные значения данных, отделённые друг от друга с помощью знаков-разделителей (чаще всего запятых)."
      ]
    },
    {
      "cell_type": "markdown",
      "metadata": {
        "id": "rWu5wng2bgcO"
      },
      "source": [
        "### Получение информации о датасете"
      ]
    },
    {
      "cell_type": "markdown",
      "metadata": {
        "id": "t6BdQIak93g-"
      },
      "source": [
        "Мы будем работать с датасетом [Countries of the World - 2023](https://www.kaggle.com/datasets/nelgiriyewithana/countries-of-the-world-2023?resource=download)\n",
        "\n",
        "Этот набор данных предоставляет обширную информацию обо всех странах мира. Она охватывает демографическую статистику, экономические показатели, факторы окружающей среды, показатели здравоохранения, статистику образования и многое другое. Поскольку представлена каждая страна, этот набор данных предлагает полный глобальный взгляд на различные аспекты жизни наций, позволяя проводить углубленный анализ и межстрановые сравнения.\n"
      ]
    },
    {
      "cell_type": "markdown",
      "metadata": {
        "id": "RVbQaTTdzpYt"
      },
      "source": [
        "### Загрузка датасета\n"
      ]
    },
    {
      "cell_type": "markdown",
      "metadata": {
        "id": "s7mqrxCT906p"
      },
      "source": [
        "\n",
        "**Путь к файлу**\n",
        "\n",
        "Когда нужно обратиться к файлу в pandas, используется метод `pd.read_csv`, в который нужно передать строку с путем к файлу:\n",
        "\n",
        "1. Если Ваш файл .csv находится **в той же самой** папке, что и файл .py или блокнот .ipynb, то можно просто указать название этого файла .csv. Например:\n",
        "    \n",
        "        df = pd.read_csv('some_file.csv')\n",
        "        \n",
        "2. Либо второй вариант - если файл .csv находится в другой папке, то можно указать полный путь к нему. Обратите внимание, что путь должен быть на 100% правильным. Например:\n",
        "\n",
        "        df = pd.read_csv(\"C:\\\\Users\\\\myself\\\\files\\\\some_file.csv\")\n",
        "\n",
        "\n",
        "Загрузим датасет для занятия:"
      ]
    },
    {
      "cell_type": "code",
      "execution_count": null,
      "metadata": {
        "id": "VLsvrC_ir8c5"
      },
      "outputs": [],
      "source": [
        "df = pd.read_csv('./world-data-2023.csv')"
      ]
    },
    {
      "cell_type": "code",
      "execution_count": null,
      "metadata": {
        "colab": {
          "base_uri": "https://localhost:8080/",
          "height": 534
        },
        "id": "ik5gpMwCwBTB",
        "outputId": "1ee530ab-164b-4296-a21a-bad468cf01e0"
      },
      "outputs": [
        {
          "data": {
            "text/html": [
              "<div>\n",
              "<style scoped>\n",
              "    .dataframe tbody tr th:only-of-type {\n",
              "        vertical-align: middle;\n",
              "    }\n",
              "\n",
              "    .dataframe tbody tr th {\n",
              "        vertical-align: top;\n",
              "    }\n",
              "\n",
              "    .dataframe thead th {\n",
              "        text-align: right;\n",
              "    }\n",
              "</style>\n",
              "<table border=\"1\" class=\"dataframe\">\n",
              "  <thead>\n",
              "    <tr style=\"text-align: right;\">\n",
              "      <th></th>\n",
              "      <th>Country</th>\n",
              "      <th>Density\\n(P/Km2)</th>\n",
              "      <th>Abbreviation</th>\n",
              "      <th>Agricultural Land( %)</th>\n",
              "      <th>Land Area(Km2)</th>\n",
              "      <th>Armed Forces size</th>\n",
              "      <th>Birth Rate</th>\n",
              "      <th>Calling Code</th>\n",
              "      <th>Capital/Major City</th>\n",
              "      <th>Co2-Emissions</th>\n",
              "      <th>...</th>\n",
              "      <th>Out of pocket health expenditure</th>\n",
              "      <th>Physicians per thousand</th>\n",
              "      <th>Population</th>\n",
              "      <th>Population: Labor force participation (%)</th>\n",
              "      <th>Tax revenue (%)</th>\n",
              "      <th>Total tax rate</th>\n",
              "      <th>Unemployment rate</th>\n",
              "      <th>Urban_population</th>\n",
              "      <th>Latitude</th>\n",
              "      <th>Longitude</th>\n",
              "    </tr>\n",
              "  </thead>\n",
              "  <tbody>\n",
              "    <tr>\n",
              "      <th>0</th>\n",
              "      <td>Afghanistan</td>\n",
              "      <td>60</td>\n",
              "      <td>AF</td>\n",
              "      <td>58.10%</td>\n",
              "      <td>652,230</td>\n",
              "      <td>323,000</td>\n",
              "      <td>32.49</td>\n",
              "      <td>93.0</td>\n",
              "      <td>Kabul</td>\n",
              "      <td>8,672</td>\n",
              "      <td>...</td>\n",
              "      <td>78.40%</td>\n",
              "      <td>0.28</td>\n",
              "      <td>38,041,754</td>\n",
              "      <td>48.90%</td>\n",
              "      <td>9.30%</td>\n",
              "      <td>71.40%</td>\n",
              "      <td>11.12%</td>\n",
              "      <td>9,797,273</td>\n",
              "      <td>33.939110</td>\n",
              "      <td>67.709953</td>\n",
              "    </tr>\n",
              "    <tr>\n",
              "      <th>1</th>\n",
              "      <td>Albania</td>\n",
              "      <td>105</td>\n",
              "      <td>AL</td>\n",
              "      <td>43.10%</td>\n",
              "      <td>28,748</td>\n",
              "      <td>9,000</td>\n",
              "      <td>11.78</td>\n",
              "      <td>355.0</td>\n",
              "      <td>Tirana</td>\n",
              "      <td>4,536</td>\n",
              "      <td>...</td>\n",
              "      <td>56.90%</td>\n",
              "      <td>1.20</td>\n",
              "      <td>2,854,191</td>\n",
              "      <td>55.70%</td>\n",
              "      <td>18.60%</td>\n",
              "      <td>36.60%</td>\n",
              "      <td>12.33%</td>\n",
              "      <td>1,747,593</td>\n",
              "      <td>41.153332</td>\n",
              "      <td>20.168331</td>\n",
              "    </tr>\n",
              "    <tr>\n",
              "      <th>2</th>\n",
              "      <td>Algeria</td>\n",
              "      <td>18</td>\n",
              "      <td>DZ</td>\n",
              "      <td>17.40%</td>\n",
              "      <td>2,381,741</td>\n",
              "      <td>317,000</td>\n",
              "      <td>24.28</td>\n",
              "      <td>213.0</td>\n",
              "      <td>Algiers</td>\n",
              "      <td>150,006</td>\n",
              "      <td>...</td>\n",
              "      <td>28.10%</td>\n",
              "      <td>1.72</td>\n",
              "      <td>43,053,054</td>\n",
              "      <td>41.20%</td>\n",
              "      <td>37.20%</td>\n",
              "      <td>66.10%</td>\n",
              "      <td>11.70%</td>\n",
              "      <td>31,510,100</td>\n",
              "      <td>28.033886</td>\n",
              "      <td>1.659626</td>\n",
              "    </tr>\n",
              "    <tr>\n",
              "      <th>3</th>\n",
              "      <td>Andorra</td>\n",
              "      <td>164</td>\n",
              "      <td>AD</td>\n",
              "      <td>40.00%</td>\n",
              "      <td>468</td>\n",
              "      <td>NaN</td>\n",
              "      <td>7.20</td>\n",
              "      <td>376.0</td>\n",
              "      <td>Andorra la Vella</td>\n",
              "      <td>469</td>\n",
              "      <td>...</td>\n",
              "      <td>36.40%</td>\n",
              "      <td>3.33</td>\n",
              "      <td>77,142</td>\n",
              "      <td>NaN</td>\n",
              "      <td>NaN</td>\n",
              "      <td>NaN</td>\n",
              "      <td>NaN</td>\n",
              "      <td>67,873</td>\n",
              "      <td>42.506285</td>\n",
              "      <td>1.521801</td>\n",
              "    </tr>\n",
              "    <tr>\n",
              "      <th>4</th>\n",
              "      <td>Angola</td>\n",
              "      <td>26</td>\n",
              "      <td>AO</td>\n",
              "      <td>47.50%</td>\n",
              "      <td>1,246,700</td>\n",
              "      <td>117,000</td>\n",
              "      <td>40.73</td>\n",
              "      <td>244.0</td>\n",
              "      <td>Luanda</td>\n",
              "      <td>34,693</td>\n",
              "      <td>...</td>\n",
              "      <td>33.40%</td>\n",
              "      <td>0.21</td>\n",
              "      <td>31,825,295</td>\n",
              "      <td>77.50%</td>\n",
              "      <td>9.20%</td>\n",
              "      <td>49.10%</td>\n",
              "      <td>6.89%</td>\n",
              "      <td>21,061,025</td>\n",
              "      <td>-11.202692</td>\n",
              "      <td>17.873887</td>\n",
              "    </tr>\n",
              "    <tr>\n",
              "      <th>...</th>\n",
              "      <td>...</td>\n",
              "      <td>...</td>\n",
              "      <td>...</td>\n",
              "      <td>...</td>\n",
              "      <td>...</td>\n",
              "      <td>...</td>\n",
              "      <td>...</td>\n",
              "      <td>...</td>\n",
              "      <td>...</td>\n",
              "      <td>...</td>\n",
              "      <td>...</td>\n",
              "      <td>...</td>\n",
              "      <td>...</td>\n",
              "      <td>...</td>\n",
              "      <td>...</td>\n",
              "      <td>...</td>\n",
              "      <td>...</td>\n",
              "      <td>...</td>\n",
              "      <td>...</td>\n",
              "      <td>...</td>\n",
              "      <td>...</td>\n",
              "    </tr>\n",
              "    <tr>\n",
              "      <th>190</th>\n",
              "      <td>Venezuela</td>\n",
              "      <td>32</td>\n",
              "      <td>VE</td>\n",
              "      <td>24.50%</td>\n",
              "      <td>912,050</td>\n",
              "      <td>343,000</td>\n",
              "      <td>17.88</td>\n",
              "      <td>58.0</td>\n",
              "      <td>Caracas</td>\n",
              "      <td>164,175</td>\n",
              "      <td>...</td>\n",
              "      <td>45.80%</td>\n",
              "      <td>1.92</td>\n",
              "      <td>28,515,829</td>\n",
              "      <td>59.70%</td>\n",
              "      <td>NaN</td>\n",
              "      <td>73.30%</td>\n",
              "      <td>8.80%</td>\n",
              "      <td>25,162,368</td>\n",
              "      <td>6.423750</td>\n",
              "      <td>-66.589730</td>\n",
              "    </tr>\n",
              "    <tr>\n",
              "      <th>191</th>\n",
              "      <td>Vietnam</td>\n",
              "      <td>314</td>\n",
              "      <td>VN</td>\n",
              "      <td>39.30%</td>\n",
              "      <td>331,210</td>\n",
              "      <td>522,000</td>\n",
              "      <td>16.75</td>\n",
              "      <td>84.0</td>\n",
              "      <td>Hanoi</td>\n",
              "      <td>192,668</td>\n",
              "      <td>...</td>\n",
              "      <td>43.50%</td>\n",
              "      <td>0.82</td>\n",
              "      <td>96,462,106</td>\n",
              "      <td>77.40%</td>\n",
              "      <td>19.10%</td>\n",
              "      <td>37.60%</td>\n",
              "      <td>2.01%</td>\n",
              "      <td>35,332,140</td>\n",
              "      <td>14.058324</td>\n",
              "      <td>108.277199</td>\n",
              "    </tr>\n",
              "    <tr>\n",
              "      <th>192</th>\n",
              "      <td>Yemen</td>\n",
              "      <td>56</td>\n",
              "      <td>YE</td>\n",
              "      <td>44.60%</td>\n",
              "      <td>527,968</td>\n",
              "      <td>40,000</td>\n",
              "      <td>30.45</td>\n",
              "      <td>967.0</td>\n",
              "      <td>Sanaa</td>\n",
              "      <td>10,609</td>\n",
              "      <td>...</td>\n",
              "      <td>81.00%</td>\n",
              "      <td>0.31</td>\n",
              "      <td>29,161,922</td>\n",
              "      <td>38.00%</td>\n",
              "      <td>NaN</td>\n",
              "      <td>26.60%</td>\n",
              "      <td>12.91%</td>\n",
              "      <td>10,869,523</td>\n",
              "      <td>15.552727</td>\n",
              "      <td>48.516388</td>\n",
              "    </tr>\n",
              "    <tr>\n",
              "      <th>193</th>\n",
              "      <td>Zambia</td>\n",
              "      <td>25</td>\n",
              "      <td>ZM</td>\n",
              "      <td>32.10%</td>\n",
              "      <td>752,618</td>\n",
              "      <td>16,000</td>\n",
              "      <td>36.19</td>\n",
              "      <td>260.0</td>\n",
              "      <td>Lusaka</td>\n",
              "      <td>5,141</td>\n",
              "      <td>...</td>\n",
              "      <td>27.50%</td>\n",
              "      <td>1.19</td>\n",
              "      <td>17,861,030</td>\n",
              "      <td>74.60%</td>\n",
              "      <td>16.20%</td>\n",
              "      <td>15.60%</td>\n",
              "      <td>11.43%</td>\n",
              "      <td>7,871,713</td>\n",
              "      <td>-13.133897</td>\n",
              "      <td>27.849332</td>\n",
              "    </tr>\n",
              "    <tr>\n",
              "      <th>194</th>\n",
              "      <td>Zimbabwe</td>\n",
              "      <td>38</td>\n",
              "      <td>ZW</td>\n",
              "      <td>41.90%</td>\n",
              "      <td>390,757</td>\n",
              "      <td>51,000</td>\n",
              "      <td>30.68</td>\n",
              "      <td>263.0</td>\n",
              "      <td>Harare</td>\n",
              "      <td>10,983</td>\n",
              "      <td>...</td>\n",
              "      <td>25.80%</td>\n",
              "      <td>0.21</td>\n",
              "      <td>14,645,468</td>\n",
              "      <td>83.10%</td>\n",
              "      <td>20.70%</td>\n",
              "      <td>31.60%</td>\n",
              "      <td>4.95%</td>\n",
              "      <td>4,717,305</td>\n",
              "      <td>-19.015438</td>\n",
              "      <td>29.154857</td>\n",
              "    </tr>\n",
              "  </tbody>\n",
              "</table>\n",
              "<p>195 rows × 35 columns</p>\n",
              "</div>"
            ],
            "text/plain": [
              "         Country Density\\n(P/Km2) Abbreviation Agricultural Land( %)  \\\n",
              "0    Afghanistan               60           AF                58.10%   \n",
              "1        Albania              105           AL                43.10%   \n",
              "2        Algeria               18           DZ                17.40%   \n",
              "3        Andorra              164           AD                40.00%   \n",
              "4         Angola               26           AO                47.50%   \n",
              "..           ...              ...          ...                   ...   \n",
              "190    Venezuela               32           VE                24.50%   \n",
              "191      Vietnam              314           VN                39.30%   \n",
              "192        Yemen               56           YE                44.60%   \n",
              "193       Zambia               25           ZM                32.10%   \n",
              "194     Zimbabwe               38           ZW                41.90%   \n",
              "\n",
              "    Land Area(Km2) Armed Forces size  Birth Rate  Calling Code  \\\n",
              "0          652,230           323,000       32.49          93.0   \n",
              "1           28,748             9,000       11.78         355.0   \n",
              "2        2,381,741           317,000       24.28         213.0   \n",
              "3              468               NaN        7.20         376.0   \n",
              "4        1,246,700           117,000       40.73         244.0   \n",
              "..             ...               ...         ...           ...   \n",
              "190        912,050           343,000       17.88          58.0   \n",
              "191        331,210           522,000       16.75          84.0   \n",
              "192        527,968            40,000       30.45         967.0   \n",
              "193        752,618            16,000       36.19         260.0   \n",
              "194        390,757            51,000       30.68         263.0   \n",
              "\n",
              "    Capital/Major City Co2-Emissions  ... Out of pocket health expenditure  \\\n",
              "0                Kabul         8,672  ...                           78.40%   \n",
              "1               Tirana         4,536  ...                           56.90%   \n",
              "2              Algiers       150,006  ...                           28.10%   \n",
              "3     Andorra la Vella           469  ...                           36.40%   \n",
              "4               Luanda        34,693  ...                           33.40%   \n",
              "..                 ...           ...  ...                              ...   \n",
              "190            Caracas       164,175  ...                           45.80%   \n",
              "191              Hanoi       192,668  ...                           43.50%   \n",
              "192              Sanaa        10,609  ...                           81.00%   \n",
              "193             Lusaka         5,141  ...                           27.50%   \n",
              "194             Harare        10,983  ...                           25.80%   \n",
              "\n",
              "    Physicians per thousand  Population  \\\n",
              "0                      0.28  38,041,754   \n",
              "1                      1.20   2,854,191   \n",
              "2                      1.72  43,053,054   \n",
              "3                      3.33      77,142   \n",
              "4                      0.21  31,825,295   \n",
              "..                      ...         ...   \n",
              "190                    1.92  28,515,829   \n",
              "191                    0.82  96,462,106   \n",
              "192                    0.31  29,161,922   \n",
              "193                    1.19  17,861,030   \n",
              "194                    0.21  14,645,468   \n",
              "\n",
              "     Population: Labor force participation (%) Tax revenue (%) Total tax rate  \\\n",
              "0                                       48.90%           9.30%         71.40%   \n",
              "1                                       55.70%          18.60%         36.60%   \n",
              "2                                       41.20%          37.20%         66.10%   \n",
              "3                                          NaN             NaN            NaN   \n",
              "4                                       77.50%           9.20%         49.10%   \n",
              "..                                         ...             ...            ...   \n",
              "190                                     59.70%             NaN         73.30%   \n",
              "191                                     77.40%          19.10%         37.60%   \n",
              "192                                     38.00%             NaN         26.60%   \n",
              "193                                     74.60%          16.20%         15.60%   \n",
              "194                                     83.10%          20.70%         31.60%   \n",
              "\n",
              "    Unemployment rate Urban_population   Latitude   Longitude  \n",
              "0              11.12%        9,797,273  33.939110   67.709953  \n",
              "1              12.33%        1,747,593  41.153332   20.168331  \n",
              "2              11.70%       31,510,100  28.033886    1.659626  \n",
              "3                 NaN           67,873  42.506285    1.521801  \n",
              "4               6.89%       21,061,025 -11.202692   17.873887  \n",
              "..                ...              ...        ...         ...  \n",
              "190             8.80%       25,162,368   6.423750  -66.589730  \n",
              "191             2.01%       35,332,140  14.058324  108.277199  \n",
              "192            12.91%       10,869,523  15.552727   48.516388  \n",
              "193            11.43%        7,871,713 -13.133897   27.849332  \n",
              "194             4.95%        4,717,305 -19.015438   29.154857  \n",
              "\n",
              "[195 rows x 35 columns]"
            ]
          },
          "execution_count": 91,
          "metadata": {},
          "output_type": "execute_result"
        }
      ],
      "source": [
        "df"
      ]
    },
    {
      "cell_type": "code",
      "execution_count": null,
      "metadata": {
        "colab": {
          "base_uri": "https://localhost:8080/"
        },
        "id": "KxCZ0iZ9wB3O",
        "outputId": "5c0aef70-c33e-49ba-e806-0389ffc3ef94"
      },
      "outputs": [
        {
          "data": {
            "text/plain": [
              "Index(['Country', 'Density\\n(P/Km2)', 'Abbreviation', 'Agricultural Land( %)',\n",
              "       'Land Area(Km2)', 'Armed Forces size', 'Birth Rate', 'Calling Code',\n",
              "       'Capital/Major City', 'Co2-Emissions', 'CPI', 'CPI Change (%)',\n",
              "       'Currency-Code', 'Fertility Rate', 'Forested Area (%)',\n",
              "       'Gasoline Price', 'GDP', 'Gross primary education enrollment (%)',\n",
              "       'Gross tertiary education enrollment (%)', 'Infant mortality',\n",
              "       'Largest city', 'Life expectancy', 'Maternal mortality ratio',\n",
              "       'Minimum wage', 'Official language', 'Out of pocket health expenditure',\n",
              "       'Physicians per thousand', 'Population',\n",
              "       'Population: Labor force participation (%)', 'Tax revenue (%)',\n",
              "       'Total tax rate', 'Unemployment rate', 'Urban_population', 'Latitude',\n",
              "       'Longitude'],\n",
              "      dtype='object')"
            ]
          },
          "execution_count": 92,
          "metadata": {},
          "output_type": "execute_result"
        }
      ],
      "source": [
        "#Выведем список названий столбцов датасета\n",
        "df.columns"
      ]
    },
    {
      "cell_type": "code",
      "execution_count": null,
      "metadata": {
        "colab": {
          "base_uri": "https://localhost:8080/"
        },
        "id": "X23Jea-zwLNV",
        "outputId": "018b85ad-0879-4922-b857-befcabc579fb"
      },
      "outputs": [
        {
          "data": {
            "text/plain": [
              "RangeIndex(start=0, stop=195, step=1)"
            ]
          },
          "execution_count": 93,
          "metadata": {},
          "output_type": "execute_result"
        }
      ],
      "source": [
        "#Выведем список названий строк датасета\n",
        "#Отметим, что в нашем датасете строки пронумерованы с помощью объекта RangeIndex\n",
        "df.index"
      ]
    },
    {
      "cell_type": "markdown",
      "metadata": {
        "id": "gy75dXWMCueL"
      },
      "source": [
        "У Series и Dataframe индексы можно менять:"
      ]
    },
    {
      "cell_type": "code",
      "execution_count": null,
      "metadata": {
        "id": "9YciNPVFC4ea"
      },
      "outputs": [],
      "source": [
        "df = df.set_index('Country')"
      ]
    },
    {
      "cell_type": "code",
      "execution_count": null,
      "metadata": {
        "colab": {
          "base_uri": "https://localhost:8080/",
          "height": 565
        },
        "id": "omz30TkTC90C",
        "outputId": "fa7dd6ba-b67e-4a9f-bdee-6220302fc59d"
      },
      "outputs": [
        {
          "data": {
            "text/html": [
              "<div>\n",
              "<style scoped>\n",
              "    .dataframe tbody tr th:only-of-type {\n",
              "        vertical-align: middle;\n",
              "    }\n",
              "\n",
              "    .dataframe tbody tr th {\n",
              "        vertical-align: top;\n",
              "    }\n",
              "\n",
              "    .dataframe thead th {\n",
              "        text-align: right;\n",
              "    }\n",
              "</style>\n",
              "<table border=\"1\" class=\"dataframe\">\n",
              "  <thead>\n",
              "    <tr style=\"text-align: right;\">\n",
              "      <th></th>\n",
              "      <th>Density\\n(P/Km2)</th>\n",
              "      <th>Abbreviation</th>\n",
              "      <th>Agricultural Land( %)</th>\n",
              "      <th>Land Area(Km2)</th>\n",
              "      <th>Armed Forces size</th>\n",
              "      <th>Birth Rate</th>\n",
              "      <th>Calling Code</th>\n",
              "      <th>Capital/Major City</th>\n",
              "      <th>Co2-Emissions</th>\n",
              "      <th>CPI</th>\n",
              "      <th>...</th>\n",
              "      <th>Out of pocket health expenditure</th>\n",
              "      <th>Physicians per thousand</th>\n",
              "      <th>Population</th>\n",
              "      <th>Population: Labor force participation (%)</th>\n",
              "      <th>Tax revenue (%)</th>\n",
              "      <th>Total tax rate</th>\n",
              "      <th>Unemployment rate</th>\n",
              "      <th>Urban_population</th>\n",
              "      <th>Latitude</th>\n",
              "      <th>Longitude</th>\n",
              "    </tr>\n",
              "    <tr>\n",
              "      <th>Country</th>\n",
              "      <th></th>\n",
              "      <th></th>\n",
              "      <th></th>\n",
              "      <th></th>\n",
              "      <th></th>\n",
              "      <th></th>\n",
              "      <th></th>\n",
              "      <th></th>\n",
              "      <th></th>\n",
              "      <th></th>\n",
              "      <th></th>\n",
              "      <th></th>\n",
              "      <th></th>\n",
              "      <th></th>\n",
              "      <th></th>\n",
              "      <th></th>\n",
              "      <th></th>\n",
              "      <th></th>\n",
              "      <th></th>\n",
              "      <th></th>\n",
              "      <th></th>\n",
              "    </tr>\n",
              "  </thead>\n",
              "  <tbody>\n",
              "    <tr>\n",
              "      <th>Afghanistan</th>\n",
              "      <td>60</td>\n",
              "      <td>AF</td>\n",
              "      <td>58.10%</td>\n",
              "      <td>652,230</td>\n",
              "      <td>323,000</td>\n",
              "      <td>32.49</td>\n",
              "      <td>93.0</td>\n",
              "      <td>Kabul</td>\n",
              "      <td>8,672</td>\n",
              "      <td>149.9</td>\n",
              "      <td>...</td>\n",
              "      <td>78.40%</td>\n",
              "      <td>0.28</td>\n",
              "      <td>38,041,754</td>\n",
              "      <td>48.90%</td>\n",
              "      <td>9.30%</td>\n",
              "      <td>71.40%</td>\n",
              "      <td>11.12%</td>\n",
              "      <td>9,797,273</td>\n",
              "      <td>33.939110</td>\n",
              "      <td>67.709953</td>\n",
              "    </tr>\n",
              "    <tr>\n",
              "      <th>Albania</th>\n",
              "      <td>105</td>\n",
              "      <td>AL</td>\n",
              "      <td>43.10%</td>\n",
              "      <td>28,748</td>\n",
              "      <td>9,000</td>\n",
              "      <td>11.78</td>\n",
              "      <td>355.0</td>\n",
              "      <td>Tirana</td>\n",
              "      <td>4,536</td>\n",
              "      <td>119.05</td>\n",
              "      <td>...</td>\n",
              "      <td>56.90%</td>\n",
              "      <td>1.20</td>\n",
              "      <td>2,854,191</td>\n",
              "      <td>55.70%</td>\n",
              "      <td>18.60%</td>\n",
              "      <td>36.60%</td>\n",
              "      <td>12.33%</td>\n",
              "      <td>1,747,593</td>\n",
              "      <td>41.153332</td>\n",
              "      <td>20.168331</td>\n",
              "    </tr>\n",
              "    <tr>\n",
              "      <th>Algeria</th>\n",
              "      <td>18</td>\n",
              "      <td>DZ</td>\n",
              "      <td>17.40%</td>\n",
              "      <td>2,381,741</td>\n",
              "      <td>317,000</td>\n",
              "      <td>24.28</td>\n",
              "      <td>213.0</td>\n",
              "      <td>Algiers</td>\n",
              "      <td>150,006</td>\n",
              "      <td>151.36</td>\n",
              "      <td>...</td>\n",
              "      <td>28.10%</td>\n",
              "      <td>1.72</td>\n",
              "      <td>43,053,054</td>\n",
              "      <td>41.20%</td>\n",
              "      <td>37.20%</td>\n",
              "      <td>66.10%</td>\n",
              "      <td>11.70%</td>\n",
              "      <td>31,510,100</td>\n",
              "      <td>28.033886</td>\n",
              "      <td>1.659626</td>\n",
              "    </tr>\n",
              "    <tr>\n",
              "      <th>Andorra</th>\n",
              "      <td>164</td>\n",
              "      <td>AD</td>\n",
              "      <td>40.00%</td>\n",
              "      <td>468</td>\n",
              "      <td>NaN</td>\n",
              "      <td>7.20</td>\n",
              "      <td>376.0</td>\n",
              "      <td>Andorra la Vella</td>\n",
              "      <td>469</td>\n",
              "      <td>NaN</td>\n",
              "      <td>...</td>\n",
              "      <td>36.40%</td>\n",
              "      <td>3.33</td>\n",
              "      <td>77,142</td>\n",
              "      <td>NaN</td>\n",
              "      <td>NaN</td>\n",
              "      <td>NaN</td>\n",
              "      <td>NaN</td>\n",
              "      <td>67,873</td>\n",
              "      <td>42.506285</td>\n",
              "      <td>1.521801</td>\n",
              "    </tr>\n",
              "    <tr>\n",
              "      <th>Angola</th>\n",
              "      <td>26</td>\n",
              "      <td>AO</td>\n",
              "      <td>47.50%</td>\n",
              "      <td>1,246,700</td>\n",
              "      <td>117,000</td>\n",
              "      <td>40.73</td>\n",
              "      <td>244.0</td>\n",
              "      <td>Luanda</td>\n",
              "      <td>34,693</td>\n",
              "      <td>261.73</td>\n",
              "      <td>...</td>\n",
              "      <td>33.40%</td>\n",
              "      <td>0.21</td>\n",
              "      <td>31,825,295</td>\n",
              "      <td>77.50%</td>\n",
              "      <td>9.20%</td>\n",
              "      <td>49.10%</td>\n",
              "      <td>6.89%</td>\n",
              "      <td>21,061,025</td>\n",
              "      <td>-11.202692</td>\n",
              "      <td>17.873887</td>\n",
              "    </tr>\n",
              "    <tr>\n",
              "      <th>...</th>\n",
              "      <td>...</td>\n",
              "      <td>...</td>\n",
              "      <td>...</td>\n",
              "      <td>...</td>\n",
              "      <td>...</td>\n",
              "      <td>...</td>\n",
              "      <td>...</td>\n",
              "      <td>...</td>\n",
              "      <td>...</td>\n",
              "      <td>...</td>\n",
              "      <td>...</td>\n",
              "      <td>...</td>\n",
              "      <td>...</td>\n",
              "      <td>...</td>\n",
              "      <td>...</td>\n",
              "      <td>...</td>\n",
              "      <td>...</td>\n",
              "      <td>...</td>\n",
              "      <td>...</td>\n",
              "      <td>...</td>\n",
              "      <td>...</td>\n",
              "    </tr>\n",
              "    <tr>\n",
              "      <th>Venezuela</th>\n",
              "      <td>32</td>\n",
              "      <td>VE</td>\n",
              "      <td>24.50%</td>\n",
              "      <td>912,050</td>\n",
              "      <td>343,000</td>\n",
              "      <td>17.88</td>\n",
              "      <td>58.0</td>\n",
              "      <td>Caracas</td>\n",
              "      <td>164,175</td>\n",
              "      <td>2,740.27</td>\n",
              "      <td>...</td>\n",
              "      <td>45.80%</td>\n",
              "      <td>1.92</td>\n",
              "      <td>28,515,829</td>\n",
              "      <td>59.70%</td>\n",
              "      <td>NaN</td>\n",
              "      <td>73.30%</td>\n",
              "      <td>8.80%</td>\n",
              "      <td>25,162,368</td>\n",
              "      <td>6.423750</td>\n",
              "      <td>-66.589730</td>\n",
              "    </tr>\n",
              "    <tr>\n",
              "      <th>Vietnam</th>\n",
              "      <td>314</td>\n",
              "      <td>VN</td>\n",
              "      <td>39.30%</td>\n",
              "      <td>331,210</td>\n",
              "      <td>522,000</td>\n",
              "      <td>16.75</td>\n",
              "      <td>84.0</td>\n",
              "      <td>Hanoi</td>\n",
              "      <td>192,668</td>\n",
              "      <td>163.52</td>\n",
              "      <td>...</td>\n",
              "      <td>43.50%</td>\n",
              "      <td>0.82</td>\n",
              "      <td>96,462,106</td>\n",
              "      <td>77.40%</td>\n",
              "      <td>19.10%</td>\n",
              "      <td>37.60%</td>\n",
              "      <td>2.01%</td>\n",
              "      <td>35,332,140</td>\n",
              "      <td>14.058324</td>\n",
              "      <td>108.277199</td>\n",
              "    </tr>\n",
              "    <tr>\n",
              "      <th>Yemen</th>\n",
              "      <td>56</td>\n",
              "      <td>YE</td>\n",
              "      <td>44.60%</td>\n",
              "      <td>527,968</td>\n",
              "      <td>40,000</td>\n",
              "      <td>30.45</td>\n",
              "      <td>967.0</td>\n",
              "      <td>Sanaa</td>\n",
              "      <td>10,609</td>\n",
              "      <td>157.58</td>\n",
              "      <td>...</td>\n",
              "      <td>81.00%</td>\n",
              "      <td>0.31</td>\n",
              "      <td>29,161,922</td>\n",
              "      <td>38.00%</td>\n",
              "      <td>NaN</td>\n",
              "      <td>26.60%</td>\n",
              "      <td>12.91%</td>\n",
              "      <td>10,869,523</td>\n",
              "      <td>15.552727</td>\n",
              "      <td>48.516388</td>\n",
              "    </tr>\n",
              "    <tr>\n",
              "      <th>Zambia</th>\n",
              "      <td>25</td>\n",
              "      <td>ZM</td>\n",
              "      <td>32.10%</td>\n",
              "      <td>752,618</td>\n",
              "      <td>16,000</td>\n",
              "      <td>36.19</td>\n",
              "      <td>260.0</td>\n",
              "      <td>Lusaka</td>\n",
              "      <td>5,141</td>\n",
              "      <td>212.31</td>\n",
              "      <td>...</td>\n",
              "      <td>27.50%</td>\n",
              "      <td>1.19</td>\n",
              "      <td>17,861,030</td>\n",
              "      <td>74.60%</td>\n",
              "      <td>16.20%</td>\n",
              "      <td>15.60%</td>\n",
              "      <td>11.43%</td>\n",
              "      <td>7,871,713</td>\n",
              "      <td>-13.133897</td>\n",
              "      <td>27.849332</td>\n",
              "    </tr>\n",
              "    <tr>\n",
              "      <th>Zimbabwe</th>\n",
              "      <td>38</td>\n",
              "      <td>ZW</td>\n",
              "      <td>41.90%</td>\n",
              "      <td>390,757</td>\n",
              "      <td>51,000</td>\n",
              "      <td>30.68</td>\n",
              "      <td>263.0</td>\n",
              "      <td>Harare</td>\n",
              "      <td>10,983</td>\n",
              "      <td>105.51</td>\n",
              "      <td>...</td>\n",
              "      <td>25.80%</td>\n",
              "      <td>0.21</td>\n",
              "      <td>14,645,468</td>\n",
              "      <td>83.10%</td>\n",
              "      <td>20.70%</td>\n",
              "      <td>31.60%</td>\n",
              "      <td>4.95%</td>\n",
              "      <td>4,717,305</td>\n",
              "      <td>-19.015438</td>\n",
              "      <td>29.154857</td>\n",
              "    </tr>\n",
              "  </tbody>\n",
              "</table>\n",
              "<p>195 rows × 34 columns</p>\n",
              "</div>"
            ],
            "text/plain": [
              "            Density\\n(P/Km2) Abbreviation Agricultural Land( %)  \\\n",
              "Country                                                           \n",
              "Afghanistan               60           AF                58.10%   \n",
              "Albania                  105           AL                43.10%   \n",
              "Algeria                   18           DZ                17.40%   \n",
              "Andorra                  164           AD                40.00%   \n",
              "Angola                    26           AO                47.50%   \n",
              "...                      ...          ...                   ...   \n",
              "Venezuela                 32           VE                24.50%   \n",
              "Vietnam                  314           VN                39.30%   \n",
              "Yemen                     56           YE                44.60%   \n",
              "Zambia                    25           ZM                32.10%   \n",
              "Zimbabwe                  38           ZW                41.90%   \n",
              "\n",
              "            Land Area(Km2) Armed Forces size  Birth Rate  Calling Code  \\\n",
              "Country                                                                  \n",
              "Afghanistan        652,230           323,000       32.49          93.0   \n",
              "Albania             28,748             9,000       11.78         355.0   \n",
              "Algeria          2,381,741           317,000       24.28         213.0   \n",
              "Andorra                468               NaN        7.20         376.0   \n",
              "Angola           1,246,700           117,000       40.73         244.0   \n",
              "...                    ...               ...         ...           ...   \n",
              "Venezuela          912,050           343,000       17.88          58.0   \n",
              "Vietnam            331,210           522,000       16.75          84.0   \n",
              "Yemen              527,968            40,000       30.45         967.0   \n",
              "Zambia             752,618            16,000       36.19         260.0   \n",
              "Zimbabwe           390,757            51,000       30.68         263.0   \n",
              "\n",
              "            Capital/Major City Co2-Emissions       CPI  ...  \\\n",
              "Country                                                 ...   \n",
              "Afghanistan              Kabul         8,672     149.9  ...   \n",
              "Albania                 Tirana         4,536    119.05  ...   \n",
              "Algeria                Algiers       150,006    151.36  ...   \n",
              "Andorra       Andorra la Vella           469       NaN  ...   \n",
              "Angola                  Luanda        34,693    261.73  ...   \n",
              "...                        ...           ...       ...  ...   \n",
              "Venezuela              Caracas       164,175  2,740.27  ...   \n",
              "Vietnam                  Hanoi       192,668    163.52  ...   \n",
              "Yemen                    Sanaa        10,609    157.58  ...   \n",
              "Zambia                  Lusaka         5,141    212.31  ...   \n",
              "Zimbabwe                Harare        10,983    105.51  ...   \n",
              "\n",
              "            Out of pocket health expenditure Physicians per thousand  \\\n",
              "Country                                                                \n",
              "Afghanistan                           78.40%                    0.28   \n",
              "Albania                               56.90%                    1.20   \n",
              "Algeria                               28.10%                    1.72   \n",
              "Andorra                               36.40%                    3.33   \n",
              "Angola                                33.40%                    0.21   \n",
              "...                                      ...                     ...   \n",
              "Venezuela                             45.80%                    1.92   \n",
              "Vietnam                               43.50%                    0.82   \n",
              "Yemen                                 81.00%                    0.31   \n",
              "Zambia                                27.50%                    1.19   \n",
              "Zimbabwe                              25.80%                    0.21   \n",
              "\n",
              "             Population Population: Labor force participation (%)  \\\n",
              "Country                                                             \n",
              "Afghanistan  38,041,754                                    48.90%   \n",
              "Albania       2,854,191                                    55.70%   \n",
              "Algeria      43,053,054                                    41.20%   \n",
              "Andorra          77,142                                       NaN   \n",
              "Angola       31,825,295                                    77.50%   \n",
              "...                 ...                                       ...   \n",
              "Venezuela    28,515,829                                    59.70%   \n",
              "Vietnam      96,462,106                                    77.40%   \n",
              "Yemen        29,161,922                                    38.00%   \n",
              "Zambia       17,861,030                                    74.60%   \n",
              "Zimbabwe     14,645,468                                    83.10%   \n",
              "\n",
              "            Tax revenue (%) Total tax rate Unemployment rate Urban_population  \\\n",
              "Country                                                                         \n",
              "Afghanistan           9.30%         71.40%            11.12%        9,797,273   \n",
              "Albania              18.60%         36.60%            12.33%        1,747,593   \n",
              "Algeria              37.20%         66.10%            11.70%       31,510,100   \n",
              "Andorra                 NaN            NaN               NaN           67,873   \n",
              "Angola                9.20%         49.10%             6.89%       21,061,025   \n",
              "...                     ...            ...               ...              ...   \n",
              "Venezuela               NaN         73.30%             8.80%       25,162,368   \n",
              "Vietnam              19.10%         37.60%             2.01%       35,332,140   \n",
              "Yemen                   NaN         26.60%            12.91%       10,869,523   \n",
              "Zambia               16.20%         15.60%            11.43%        7,871,713   \n",
              "Zimbabwe             20.70%         31.60%             4.95%        4,717,305   \n",
              "\n",
              "              Latitude   Longitude  \n",
              "Country                             \n",
              "Afghanistan  33.939110   67.709953  \n",
              "Albania      41.153332   20.168331  \n",
              "Algeria      28.033886    1.659626  \n",
              "Andorra      42.506285    1.521801  \n",
              "Angola      -11.202692   17.873887  \n",
              "...                ...         ...  \n",
              "Venezuela     6.423750  -66.589730  \n",
              "Vietnam      14.058324  108.277199  \n",
              "Yemen        15.552727   48.516388  \n",
              "Zambia      -13.133897   27.849332  \n",
              "Zimbabwe    -19.015438   29.154857  \n",
              "\n",
              "[195 rows x 34 columns]"
            ]
          },
          "execution_count": 95,
          "metadata": {},
          "output_type": "execute_result"
        }
      ],
      "source": [
        "df"
      ]
    },
    {
      "cell_type": "markdown",
      "metadata": {
        "id": "hZd5rtUy0RQh"
      },
      "source": [
        "Выведем первые 3 строки датасета с помощью команды `df.head(3)`."
      ]
    },
    {
      "cell_type": "code",
      "execution_count": null,
      "metadata": {
        "colab": {
          "base_uri": "https://localhost:8080/",
          "height": 317
        },
        "id": "Cx08f8kcwMib",
        "outputId": "daba530b-a46d-449c-ad87-7f76ece29e77"
      },
      "outputs": [
        {
          "data": {
            "text/html": [
              "<div>\n",
              "<style scoped>\n",
              "    .dataframe tbody tr th:only-of-type {\n",
              "        vertical-align: middle;\n",
              "    }\n",
              "\n",
              "    .dataframe tbody tr th {\n",
              "        vertical-align: top;\n",
              "    }\n",
              "\n",
              "    .dataframe thead th {\n",
              "        text-align: right;\n",
              "    }\n",
              "</style>\n",
              "<table border=\"1\" class=\"dataframe\">\n",
              "  <thead>\n",
              "    <tr style=\"text-align: right;\">\n",
              "      <th></th>\n",
              "      <th>Density\\n(P/Km2)</th>\n",
              "      <th>Abbreviation</th>\n",
              "      <th>Agricultural Land( %)</th>\n",
              "      <th>Land Area(Km2)</th>\n",
              "      <th>Armed Forces size</th>\n",
              "      <th>Birth Rate</th>\n",
              "      <th>Calling Code</th>\n",
              "      <th>Capital/Major City</th>\n",
              "      <th>Co2-Emissions</th>\n",
              "      <th>CPI</th>\n",
              "      <th>...</th>\n",
              "      <th>Out of pocket health expenditure</th>\n",
              "      <th>Physicians per thousand</th>\n",
              "      <th>Population</th>\n",
              "      <th>Population: Labor force participation (%)</th>\n",
              "      <th>Tax revenue (%)</th>\n",
              "      <th>Total tax rate</th>\n",
              "      <th>Unemployment rate</th>\n",
              "      <th>Urban_population</th>\n",
              "      <th>Latitude</th>\n",
              "      <th>Longitude</th>\n",
              "    </tr>\n",
              "    <tr>\n",
              "      <th>Country</th>\n",
              "      <th></th>\n",
              "      <th></th>\n",
              "      <th></th>\n",
              "      <th></th>\n",
              "      <th></th>\n",
              "      <th></th>\n",
              "      <th></th>\n",
              "      <th></th>\n",
              "      <th></th>\n",
              "      <th></th>\n",
              "      <th></th>\n",
              "      <th></th>\n",
              "      <th></th>\n",
              "      <th></th>\n",
              "      <th></th>\n",
              "      <th></th>\n",
              "      <th></th>\n",
              "      <th></th>\n",
              "      <th></th>\n",
              "      <th></th>\n",
              "      <th></th>\n",
              "    </tr>\n",
              "  </thead>\n",
              "  <tbody>\n",
              "    <tr>\n",
              "      <th>Afghanistan</th>\n",
              "      <td>60</td>\n",
              "      <td>AF</td>\n",
              "      <td>58.10%</td>\n",
              "      <td>652,230</td>\n",
              "      <td>323,000</td>\n",
              "      <td>32.49</td>\n",
              "      <td>93.0</td>\n",
              "      <td>Kabul</td>\n",
              "      <td>8,672</td>\n",
              "      <td>149.9</td>\n",
              "      <td>...</td>\n",
              "      <td>78.40%</td>\n",
              "      <td>0.28</td>\n",
              "      <td>38,041,754</td>\n",
              "      <td>48.90%</td>\n",
              "      <td>9.30%</td>\n",
              "      <td>71.40%</td>\n",
              "      <td>11.12%</td>\n",
              "      <td>9,797,273</td>\n",
              "      <td>33.939110</td>\n",
              "      <td>67.709953</td>\n",
              "    </tr>\n",
              "    <tr>\n",
              "      <th>Albania</th>\n",
              "      <td>105</td>\n",
              "      <td>AL</td>\n",
              "      <td>43.10%</td>\n",
              "      <td>28,748</td>\n",
              "      <td>9,000</td>\n",
              "      <td>11.78</td>\n",
              "      <td>355.0</td>\n",
              "      <td>Tirana</td>\n",
              "      <td>4,536</td>\n",
              "      <td>119.05</td>\n",
              "      <td>...</td>\n",
              "      <td>56.90%</td>\n",
              "      <td>1.20</td>\n",
              "      <td>2,854,191</td>\n",
              "      <td>55.70%</td>\n",
              "      <td>18.60%</td>\n",
              "      <td>36.60%</td>\n",
              "      <td>12.33%</td>\n",
              "      <td>1,747,593</td>\n",
              "      <td>41.153332</td>\n",
              "      <td>20.168331</td>\n",
              "    </tr>\n",
              "    <tr>\n",
              "      <th>Algeria</th>\n",
              "      <td>18</td>\n",
              "      <td>DZ</td>\n",
              "      <td>17.40%</td>\n",
              "      <td>2,381,741</td>\n",
              "      <td>317,000</td>\n",
              "      <td>24.28</td>\n",
              "      <td>213.0</td>\n",
              "      <td>Algiers</td>\n",
              "      <td>150,006</td>\n",
              "      <td>151.36</td>\n",
              "      <td>...</td>\n",
              "      <td>28.10%</td>\n",
              "      <td>1.72</td>\n",
              "      <td>43,053,054</td>\n",
              "      <td>41.20%</td>\n",
              "      <td>37.20%</td>\n",
              "      <td>66.10%</td>\n",
              "      <td>11.70%</td>\n",
              "      <td>31,510,100</td>\n",
              "      <td>28.033886</td>\n",
              "      <td>1.659626</td>\n",
              "    </tr>\n",
              "  </tbody>\n",
              "</table>\n",
              "<p>3 rows × 34 columns</p>\n",
              "</div>"
            ],
            "text/plain": [
              "            Density\\n(P/Km2) Abbreviation Agricultural Land( %)  \\\n",
              "Country                                                           \n",
              "Afghanistan               60           AF                58.10%   \n",
              "Albania                  105           AL                43.10%   \n",
              "Algeria                   18           DZ                17.40%   \n",
              "\n",
              "            Land Area(Km2) Armed Forces size  Birth Rate  Calling Code  \\\n",
              "Country                                                                  \n",
              "Afghanistan        652,230           323,000       32.49          93.0   \n",
              "Albania             28,748             9,000       11.78         355.0   \n",
              "Algeria          2,381,741           317,000       24.28         213.0   \n",
              "\n",
              "            Capital/Major City Co2-Emissions     CPI  ...  \\\n",
              "Country                                               ...   \n",
              "Afghanistan              Kabul         8,672   149.9  ...   \n",
              "Albania                 Tirana         4,536  119.05  ...   \n",
              "Algeria                Algiers       150,006  151.36  ...   \n",
              "\n",
              "            Out of pocket health expenditure Physicians per thousand  \\\n",
              "Country                                                                \n",
              "Afghanistan                           78.40%                    0.28   \n",
              "Albania                               56.90%                    1.20   \n",
              "Algeria                               28.10%                    1.72   \n",
              "\n",
              "             Population Population: Labor force participation (%)  \\\n",
              "Country                                                             \n",
              "Afghanistan  38,041,754                                    48.90%   \n",
              "Albania       2,854,191                                    55.70%   \n",
              "Algeria      43,053,054                                    41.20%   \n",
              "\n",
              "            Tax revenue (%) Total tax rate Unemployment rate Urban_population  \\\n",
              "Country                                                                         \n",
              "Afghanistan           9.30%         71.40%            11.12%        9,797,273   \n",
              "Albania              18.60%         36.60%            12.33%        1,747,593   \n",
              "Algeria              37.20%         66.10%            11.70%       31,510,100   \n",
              "\n",
              "              Latitude  Longitude  \n",
              "Country                            \n",
              "Afghanistan  33.939110  67.709953  \n",
              "Albania      41.153332  20.168331  \n",
              "Algeria      28.033886   1.659626  \n",
              "\n",
              "[3 rows x 34 columns]"
            ]
          },
          "execution_count": 96,
          "metadata": {},
          "output_type": "execute_result"
        }
      ],
      "source": [
        "df.head(3)"
      ]
    },
    {
      "cell_type": "markdown",
      "metadata": {
        "id": "gDxYKcgd00ze"
      },
      "source": [
        "Аналогичным образом можно вывести последние 3 строки датасета с помощью команды `df.tail(3)`"
      ]
    },
    {
      "cell_type": "code",
      "execution_count": null,
      "metadata": {
        "colab": {
          "base_uri": "https://localhost:8080/",
          "height": 317
        },
        "id": "T_CKJ41xwPCZ",
        "outputId": "1b5a8aec-2be0-4f1f-b226-ca5abb700098"
      },
      "outputs": [
        {
          "data": {
            "text/html": [
              "<div>\n",
              "<style scoped>\n",
              "    .dataframe tbody tr th:only-of-type {\n",
              "        vertical-align: middle;\n",
              "    }\n",
              "\n",
              "    .dataframe tbody tr th {\n",
              "        vertical-align: top;\n",
              "    }\n",
              "\n",
              "    .dataframe thead th {\n",
              "        text-align: right;\n",
              "    }\n",
              "</style>\n",
              "<table border=\"1\" class=\"dataframe\">\n",
              "  <thead>\n",
              "    <tr style=\"text-align: right;\">\n",
              "      <th></th>\n",
              "      <th>Density\\n(P/Km2)</th>\n",
              "      <th>Abbreviation</th>\n",
              "      <th>Agricultural Land( %)</th>\n",
              "      <th>Land Area(Km2)</th>\n",
              "      <th>Armed Forces size</th>\n",
              "      <th>Birth Rate</th>\n",
              "      <th>Calling Code</th>\n",
              "      <th>Capital/Major City</th>\n",
              "      <th>Co2-Emissions</th>\n",
              "      <th>CPI</th>\n",
              "      <th>...</th>\n",
              "      <th>Out of pocket health expenditure</th>\n",
              "      <th>Physicians per thousand</th>\n",
              "      <th>Population</th>\n",
              "      <th>Population: Labor force participation (%)</th>\n",
              "      <th>Tax revenue (%)</th>\n",
              "      <th>Total tax rate</th>\n",
              "      <th>Unemployment rate</th>\n",
              "      <th>Urban_population</th>\n",
              "      <th>Latitude</th>\n",
              "      <th>Longitude</th>\n",
              "    </tr>\n",
              "    <tr>\n",
              "      <th>Country</th>\n",
              "      <th></th>\n",
              "      <th></th>\n",
              "      <th></th>\n",
              "      <th></th>\n",
              "      <th></th>\n",
              "      <th></th>\n",
              "      <th></th>\n",
              "      <th></th>\n",
              "      <th></th>\n",
              "      <th></th>\n",
              "      <th></th>\n",
              "      <th></th>\n",
              "      <th></th>\n",
              "      <th></th>\n",
              "      <th></th>\n",
              "      <th></th>\n",
              "      <th></th>\n",
              "      <th></th>\n",
              "      <th></th>\n",
              "      <th></th>\n",
              "      <th></th>\n",
              "    </tr>\n",
              "  </thead>\n",
              "  <tbody>\n",
              "    <tr>\n",
              "      <th>Yemen</th>\n",
              "      <td>56</td>\n",
              "      <td>YE</td>\n",
              "      <td>44.60%</td>\n",
              "      <td>527,968</td>\n",
              "      <td>40,000</td>\n",
              "      <td>30.45</td>\n",
              "      <td>967.0</td>\n",
              "      <td>Sanaa</td>\n",
              "      <td>10,609</td>\n",
              "      <td>157.58</td>\n",
              "      <td>...</td>\n",
              "      <td>81.00%</td>\n",
              "      <td>0.31</td>\n",
              "      <td>29,161,922</td>\n",
              "      <td>38.00%</td>\n",
              "      <td>NaN</td>\n",
              "      <td>26.60%</td>\n",
              "      <td>12.91%</td>\n",
              "      <td>10,869,523</td>\n",
              "      <td>15.552727</td>\n",
              "      <td>48.516388</td>\n",
              "    </tr>\n",
              "    <tr>\n",
              "      <th>Zambia</th>\n",
              "      <td>25</td>\n",
              "      <td>ZM</td>\n",
              "      <td>32.10%</td>\n",
              "      <td>752,618</td>\n",
              "      <td>16,000</td>\n",
              "      <td>36.19</td>\n",
              "      <td>260.0</td>\n",
              "      <td>Lusaka</td>\n",
              "      <td>5,141</td>\n",
              "      <td>212.31</td>\n",
              "      <td>...</td>\n",
              "      <td>27.50%</td>\n",
              "      <td>1.19</td>\n",
              "      <td>17,861,030</td>\n",
              "      <td>74.60%</td>\n",
              "      <td>16.20%</td>\n",
              "      <td>15.60%</td>\n",
              "      <td>11.43%</td>\n",
              "      <td>7,871,713</td>\n",
              "      <td>-13.133897</td>\n",
              "      <td>27.849332</td>\n",
              "    </tr>\n",
              "    <tr>\n",
              "      <th>Zimbabwe</th>\n",
              "      <td>38</td>\n",
              "      <td>ZW</td>\n",
              "      <td>41.90%</td>\n",
              "      <td>390,757</td>\n",
              "      <td>51,000</td>\n",
              "      <td>30.68</td>\n",
              "      <td>263.0</td>\n",
              "      <td>Harare</td>\n",
              "      <td>10,983</td>\n",
              "      <td>105.51</td>\n",
              "      <td>...</td>\n",
              "      <td>25.80%</td>\n",
              "      <td>0.21</td>\n",
              "      <td>14,645,468</td>\n",
              "      <td>83.10%</td>\n",
              "      <td>20.70%</td>\n",
              "      <td>31.60%</td>\n",
              "      <td>4.95%</td>\n",
              "      <td>4,717,305</td>\n",
              "      <td>-19.015438</td>\n",
              "      <td>29.154857</td>\n",
              "    </tr>\n",
              "  </tbody>\n",
              "</table>\n",
              "<p>3 rows × 34 columns</p>\n",
              "</div>"
            ],
            "text/plain": [
              "         Density\\n(P/Km2) Abbreviation Agricultural Land( %) Land Area(Km2)  \\\n",
              "Country                                                                       \n",
              "Yemen                  56           YE                44.60%        527,968   \n",
              "Zambia                 25           ZM                32.10%        752,618   \n",
              "Zimbabwe               38           ZW                41.90%        390,757   \n",
              "\n",
              "         Armed Forces size  Birth Rate  Calling Code Capital/Major City  \\\n",
              "Country                                                                   \n",
              "Yemen               40,000       30.45         967.0              Sanaa   \n",
              "Zambia              16,000       36.19         260.0             Lusaka   \n",
              "Zimbabwe            51,000       30.68         263.0             Harare   \n",
              "\n",
              "         Co2-Emissions     CPI  ... Out of pocket health expenditure  \\\n",
              "Country                         ...                                    \n",
              "Yemen           10,609  157.58  ...                           81.00%   \n",
              "Zambia           5,141  212.31  ...                           27.50%   \n",
              "Zimbabwe        10,983  105.51  ...                           25.80%   \n",
              "\n",
              "         Physicians per thousand  Population  \\\n",
              "Country                                        \n",
              "Yemen                       0.31  29,161,922   \n",
              "Zambia                      1.19  17,861,030   \n",
              "Zimbabwe                    0.21  14,645,468   \n",
              "\n",
              "         Population: Labor force participation (%) Tax revenue (%)  \\\n",
              "Country                                                              \n",
              "Yemen                                       38.00%             NaN   \n",
              "Zambia                                      74.60%          16.20%   \n",
              "Zimbabwe                                    83.10%          20.70%   \n",
              "\n",
              "         Total tax rate Unemployment rate Urban_population   Latitude  \\\n",
              "Country                                                                 \n",
              "Yemen            26.60%            12.91%       10,869,523  15.552727   \n",
              "Zambia           15.60%            11.43%        7,871,713 -13.133897   \n",
              "Zimbabwe         31.60%             4.95%        4,717,305 -19.015438   \n",
              "\n",
              "          Longitude  \n",
              "Country              \n",
              "Yemen     48.516388  \n",
              "Zambia    27.849332  \n",
              "Zimbabwe  29.154857  \n",
              "\n",
              "[3 rows x 34 columns]"
            ]
          },
          "execution_count": 97,
          "metadata": {},
          "output_type": "execute_result"
        }
      ],
      "source": [
        "df.tail(3)"
      ]
    },
    {
      "cell_type": "markdown",
      "metadata": {
        "id": "_fBgM5Z41A69"
      },
      "source": [
        "Иногда датасеты бывают огромными, а потому в них очень сложно ориентироваться и находить информацию о том\n",
        "\n",
        "*   сколько пустых значений(NaN) есть в *DataFrame*?\n",
        "\n",
        "*   данные какого типа вводятся в каждом конкретном столбце?\n",
        "\n",
        "*   сколько весит датасет?\n",
        "\n",
        "Для этих целей есть метод `df.info()`\n",
        "\n"
      ]
    },
    {
      "cell_type": "code",
      "execution_count": null,
      "metadata": {
        "colab": {
          "base_uri": "https://localhost:8080/"
        },
        "id": "m9wdXgvRwQVA",
        "outputId": "88d62e06-7a77-4e96-97e6-049fca440936"
      },
      "outputs": [
        {
          "name": "stdout",
          "output_type": "stream",
          "text": [
            "<class 'pandas.core.frame.DataFrame'>\n",
            "Index: 195 entries, Afghanistan to Zimbabwe\n",
            "Data columns (total 34 columns):\n",
            " #   Column                                     Non-Null Count  Dtype  \n",
            "---  ------                                     --------------  -----  \n",
            " 0   Density\n",
            "(P/Km2)                            195 non-null    object \n",
            " 1   Abbreviation                               188 non-null    object \n",
            " 2   Agricultural Land( %)                      188 non-null    object \n",
            " 3   Land Area(Km2)                             194 non-null    object \n",
            " 4   Armed Forces size                          171 non-null    object \n",
            " 5   Birth Rate                                 189 non-null    float64\n",
            " 6   Calling Code                               194 non-null    float64\n",
            " 7   Capital/Major City                         192 non-null    object \n",
            " 8   Co2-Emissions                              188 non-null    object \n",
            " 9   CPI                                        178 non-null    object \n",
            " 10  CPI Change (%)                             179 non-null    object \n",
            " 11  Currency-Code                              180 non-null    object \n",
            " 12  Fertility Rate                             188 non-null    float64\n",
            " 13  Forested Area (%)                          188 non-null    object \n",
            " 14  Gasoline Price                             175 non-null    object \n",
            " 15  GDP                                        193 non-null    object \n",
            " 16  Gross primary education enrollment (%)     188 non-null    object \n",
            " 17  Gross tertiary education enrollment (%)    183 non-null    object \n",
            " 18  Infant mortality                           189 non-null    float64\n",
            " 19  Largest city                               189 non-null    object \n",
            " 20  Life expectancy                            187 non-null    float64\n",
            " 21  Maternal mortality ratio                   181 non-null    float64\n",
            " 22  Minimum wage                               150 non-null    object \n",
            " 23  Official language                          190 non-null    object \n",
            " 24  Out of pocket health expenditure           188 non-null    object \n",
            " 25  Physicians per thousand                    188 non-null    float64\n",
            " 26  Population                                 194 non-null    object \n",
            " 27  Population: Labor force participation (%)  176 non-null    object \n",
            " 28  Tax revenue (%)                            169 non-null    object \n",
            " 29  Total tax rate                             183 non-null    object \n",
            " 30  Unemployment rate                          176 non-null    object \n",
            " 31  Urban_population                           190 non-null    object \n",
            " 32  Latitude                                   194 non-null    float64\n",
            " 33  Longitude                                  194 non-null    float64\n",
            "dtypes: float64(9), object(25)\n",
            "memory usage: 53.3+ KB\n"
          ]
        }
      ],
      "source": [
        "df.info()"
      ]
    },
    {
      "cell_type": "code",
      "execution_count": null,
      "metadata": {
        "colab": {
          "base_uri": "https://localhost:8080/"
        },
        "id": "ihDcWU0gwR02",
        "outputId": "6414257b-ac5c-40a3-aabc-d4304aa16c48"
      },
      "outputs": [
        {
          "data": {
            "text/plain": [
              "195"
            ]
          },
          "execution_count": 99,
          "metadata": {},
          "output_type": "execute_result"
        }
      ],
      "source": [
        "# Также длину датасета можно узнать с помощью len()\n",
        "len(df)"
      ]
    },
    {
      "cell_type": "code",
      "execution_count": null,
      "metadata": {
        "colab": {
          "base_uri": "https://localhost:8080/"
        },
        "id": "ZUdbjMB_3KBq",
        "outputId": "e809aa44-8d79-4964-9c23-25cdc0876e05"
      },
      "outputs": [
        {
          "data": {
            "text/plain": [
              "(195, 34)"
            ]
          },
          "execution_count": 100,
          "metadata": {},
          "output_type": "execute_result"
        }
      ],
      "source": [
        "# Или с помощью df.shape, который выведет число строк и столбцов\n",
        "df.shape"
      ]
    },
    {
      "cell_type": "markdown",
      "metadata": {
        "id": "uy701gyG3ViF"
      },
      "source": [
        "Для столбцов с численными данными можно вывести описательную статистику:\n",
        "\n",
        "*   *count* - Число ненулевых значений.\n",
        "*   *mean* - Среднее значение.\n",
        "*   *std* - Стандартное отклонение.\n",
        "*   *min* - Минимальное значение.\n",
        "*   *25%* - Нижний процентиль\n",
        "*   *50%* - 50% процентиль (совпадает с медианой).\n",
        "*   *75%* - Верхний процентиль.\n",
        "*   *max* - Максимальное значение.\n"
      ]
    },
    {
      "cell_type": "code",
      "execution_count": null,
      "metadata": {
        "colab": {
          "base_uri": "https://localhost:8080/",
          "height": 341
        },
        "id": "KXFQBrKtwS6f",
        "outputId": "5f59a925-9b0b-4f72-8ddf-2628e1eb24ac"
      },
      "outputs": [
        {
          "data": {
            "text/html": [
              "<div>\n",
              "<style scoped>\n",
              "    .dataframe tbody tr th:only-of-type {\n",
              "        vertical-align: middle;\n",
              "    }\n",
              "\n",
              "    .dataframe tbody tr th {\n",
              "        vertical-align: top;\n",
              "    }\n",
              "\n",
              "    .dataframe thead th {\n",
              "        text-align: right;\n",
              "    }\n",
              "</style>\n",
              "<table border=\"1\" class=\"dataframe\">\n",
              "  <thead>\n",
              "    <tr style=\"text-align: right;\">\n",
              "      <th></th>\n",
              "      <th>Birth Rate</th>\n",
              "      <th>Calling Code</th>\n",
              "      <th>Fertility Rate</th>\n",
              "      <th>Infant mortality</th>\n",
              "      <th>Life expectancy</th>\n",
              "      <th>Maternal mortality ratio</th>\n",
              "      <th>Physicians per thousand</th>\n",
              "      <th>Latitude</th>\n",
              "      <th>Longitude</th>\n",
              "    </tr>\n",
              "  </thead>\n",
              "  <tbody>\n",
              "    <tr>\n",
              "      <th>count</th>\n",
              "      <td>189.000000</td>\n",
              "      <td>194.000000</td>\n",
              "      <td>188.000000</td>\n",
              "      <td>189.000000</td>\n",
              "      <td>187.000000</td>\n",
              "      <td>181.000000</td>\n",
              "      <td>188.000000</td>\n",
              "      <td>194.000000</td>\n",
              "      <td>194.000000</td>\n",
              "    </tr>\n",
              "    <tr>\n",
              "      <th>mean</th>\n",
              "      <td>20.214974</td>\n",
              "      <td>360.546392</td>\n",
              "      <td>2.698138</td>\n",
              "      <td>21.332804</td>\n",
              "      <td>72.279679</td>\n",
              "      <td>160.392265</td>\n",
              "      <td>1.839840</td>\n",
              "      <td>19.092351</td>\n",
              "      <td>20.232434</td>\n",
              "    </tr>\n",
              "    <tr>\n",
              "      <th>std</th>\n",
              "      <td>9.945774</td>\n",
              "      <td>323.236419</td>\n",
              "      <td>1.282267</td>\n",
              "      <td>19.548058</td>\n",
              "      <td>7.483661</td>\n",
              "      <td>233.502024</td>\n",
              "      <td>1.684261</td>\n",
              "      <td>23.961779</td>\n",
              "      <td>66.716110</td>\n",
              "    </tr>\n",
              "    <tr>\n",
              "      <th>min</th>\n",
              "      <td>5.900000</td>\n",
              "      <td>1.000000</td>\n",
              "      <td>0.980000</td>\n",
              "      <td>1.400000</td>\n",
              "      <td>52.800000</td>\n",
              "      <td>2.000000</td>\n",
              "      <td>0.010000</td>\n",
              "      <td>-40.900557</td>\n",
              "      <td>-175.198242</td>\n",
              "    </tr>\n",
              "    <tr>\n",
              "      <th>25%</th>\n",
              "      <td>11.300000</td>\n",
              "      <td>82.500000</td>\n",
              "      <td>1.705000</td>\n",
              "      <td>6.000000</td>\n",
              "      <td>67.000000</td>\n",
              "      <td>13.000000</td>\n",
              "      <td>0.332500</td>\n",
              "      <td>4.544175</td>\n",
              "      <td>-7.941496</td>\n",
              "    </tr>\n",
              "    <tr>\n",
              "      <th>50%</th>\n",
              "      <td>17.950000</td>\n",
              "      <td>255.500000</td>\n",
              "      <td>2.245000</td>\n",
              "      <td>14.000000</td>\n",
              "      <td>73.200000</td>\n",
              "      <td>53.000000</td>\n",
              "      <td>1.460000</td>\n",
              "      <td>17.273849</td>\n",
              "      <td>20.972652</td>\n",
              "    </tr>\n",
              "    <tr>\n",
              "      <th>75%</th>\n",
              "      <td>28.750000</td>\n",
              "      <td>506.750000</td>\n",
              "      <td>3.597500</td>\n",
              "      <td>32.700000</td>\n",
              "      <td>77.500000</td>\n",
              "      <td>186.000000</td>\n",
              "      <td>2.935000</td>\n",
              "      <td>40.124603</td>\n",
              "      <td>48.281523</td>\n",
              "    </tr>\n",
              "    <tr>\n",
              "      <th>max</th>\n",
              "      <td>46.080000</td>\n",
              "      <td>1876.000000</td>\n",
              "      <td>6.910000</td>\n",
              "      <td>84.500000</td>\n",
              "      <td>85.400000</td>\n",
              "      <td>1150.000000</td>\n",
              "      <td>8.420000</td>\n",
              "      <td>64.963051</td>\n",
              "      <td>178.065032</td>\n",
              "    </tr>\n",
              "  </tbody>\n",
              "</table>\n",
              "</div>"
            ],
            "text/plain": [
              "       Birth Rate  Calling Code  Fertility Rate  Infant mortality  \\\n",
              "count  189.000000    194.000000      188.000000        189.000000   \n",
              "mean    20.214974    360.546392        2.698138         21.332804   \n",
              "std      9.945774    323.236419        1.282267         19.548058   \n",
              "min      5.900000      1.000000        0.980000          1.400000   \n",
              "25%     11.300000     82.500000        1.705000          6.000000   \n",
              "50%     17.950000    255.500000        2.245000         14.000000   \n",
              "75%     28.750000    506.750000        3.597500         32.700000   \n",
              "max     46.080000   1876.000000        6.910000         84.500000   \n",
              "\n",
              "       Life expectancy  Maternal mortality ratio  Physicians per thousand  \\\n",
              "count       187.000000                181.000000               188.000000   \n",
              "mean         72.279679                160.392265                 1.839840   \n",
              "std           7.483661                233.502024                 1.684261   \n",
              "min          52.800000                  2.000000                 0.010000   \n",
              "25%          67.000000                 13.000000                 0.332500   \n",
              "50%          73.200000                 53.000000                 1.460000   \n",
              "75%          77.500000                186.000000                 2.935000   \n",
              "max          85.400000               1150.000000                 8.420000   \n",
              "\n",
              "         Latitude   Longitude  \n",
              "count  194.000000  194.000000  \n",
              "mean    19.092351   20.232434  \n",
              "std     23.961779   66.716110  \n",
              "min    -40.900557 -175.198242  \n",
              "25%      4.544175   -7.941496  \n",
              "50%     17.273849   20.972652  \n",
              "75%     40.124603   48.281523  \n",
              "max     64.963051  178.065032  "
            ]
          },
          "execution_count": 101,
          "metadata": {},
          "output_type": "execute_result"
        }
      ],
      "source": [
        "df.describe()"
      ]
    },
    {
      "cell_type": "code",
      "execution_count": null,
      "metadata": {
        "colab": {
          "base_uri": "https://localhost:8080/",
          "height": 328
        },
        "id": "5SEn4K76wUgm",
        "outputId": "b58fa986-7626-4219-f986-71d69614dc87"
      },
      "outputs": [
        {
          "data": {
            "text/html": [
              "<div>\n",
              "<style scoped>\n",
              "    .dataframe tbody tr th:only-of-type {\n",
              "        vertical-align: middle;\n",
              "    }\n",
              "\n",
              "    .dataframe tbody tr th {\n",
              "        vertical-align: top;\n",
              "    }\n",
              "\n",
              "    .dataframe thead th {\n",
              "        text-align: right;\n",
              "    }\n",
              "</style>\n",
              "<table border=\"1\" class=\"dataframe\">\n",
              "  <thead>\n",
              "    <tr style=\"text-align: right;\">\n",
              "      <th></th>\n",
              "      <th>count</th>\n",
              "      <th>mean</th>\n",
              "      <th>std</th>\n",
              "      <th>min</th>\n",
              "      <th>25%</th>\n",
              "      <th>50%</th>\n",
              "      <th>75%</th>\n",
              "      <th>max</th>\n",
              "    </tr>\n",
              "  </thead>\n",
              "  <tbody>\n",
              "    <tr>\n",
              "      <th>Birth Rate</th>\n",
              "      <td>189.0</td>\n",
              "      <td>20.214974</td>\n",
              "      <td>9.945774</td>\n",
              "      <td>5.900000</td>\n",
              "      <td>11.300000</td>\n",
              "      <td>17.950000</td>\n",
              "      <td>28.750000</td>\n",
              "      <td>46.080000</td>\n",
              "    </tr>\n",
              "    <tr>\n",
              "      <th>Calling Code</th>\n",
              "      <td>194.0</td>\n",
              "      <td>360.546392</td>\n",
              "      <td>323.236419</td>\n",
              "      <td>1.000000</td>\n",
              "      <td>82.500000</td>\n",
              "      <td>255.500000</td>\n",
              "      <td>506.750000</td>\n",
              "      <td>1876.000000</td>\n",
              "    </tr>\n",
              "    <tr>\n",
              "      <th>Fertility Rate</th>\n",
              "      <td>188.0</td>\n",
              "      <td>2.698138</td>\n",
              "      <td>1.282267</td>\n",
              "      <td>0.980000</td>\n",
              "      <td>1.705000</td>\n",
              "      <td>2.245000</td>\n",
              "      <td>3.597500</td>\n",
              "      <td>6.910000</td>\n",
              "    </tr>\n",
              "    <tr>\n",
              "      <th>Infant mortality</th>\n",
              "      <td>189.0</td>\n",
              "      <td>21.332804</td>\n",
              "      <td>19.548058</td>\n",
              "      <td>1.400000</td>\n",
              "      <td>6.000000</td>\n",
              "      <td>14.000000</td>\n",
              "      <td>32.700000</td>\n",
              "      <td>84.500000</td>\n",
              "    </tr>\n",
              "    <tr>\n",
              "      <th>Life expectancy</th>\n",
              "      <td>187.0</td>\n",
              "      <td>72.279679</td>\n",
              "      <td>7.483661</td>\n",
              "      <td>52.800000</td>\n",
              "      <td>67.000000</td>\n",
              "      <td>73.200000</td>\n",
              "      <td>77.500000</td>\n",
              "      <td>85.400000</td>\n",
              "    </tr>\n",
              "    <tr>\n",
              "      <th>Maternal mortality ratio</th>\n",
              "      <td>181.0</td>\n",
              "      <td>160.392265</td>\n",
              "      <td>233.502024</td>\n",
              "      <td>2.000000</td>\n",
              "      <td>13.000000</td>\n",
              "      <td>53.000000</td>\n",
              "      <td>186.000000</td>\n",
              "      <td>1150.000000</td>\n",
              "    </tr>\n",
              "    <tr>\n",
              "      <th>Physicians per thousand</th>\n",
              "      <td>188.0</td>\n",
              "      <td>1.839840</td>\n",
              "      <td>1.684261</td>\n",
              "      <td>0.010000</td>\n",
              "      <td>0.332500</td>\n",
              "      <td>1.460000</td>\n",
              "      <td>2.935000</td>\n",
              "      <td>8.420000</td>\n",
              "    </tr>\n",
              "    <tr>\n",
              "      <th>Latitude</th>\n",
              "      <td>194.0</td>\n",
              "      <td>19.092351</td>\n",
              "      <td>23.961779</td>\n",
              "      <td>-40.900557</td>\n",
              "      <td>4.544175</td>\n",
              "      <td>17.273849</td>\n",
              "      <td>40.124603</td>\n",
              "      <td>64.963051</td>\n",
              "    </tr>\n",
              "    <tr>\n",
              "      <th>Longitude</th>\n",
              "      <td>194.0</td>\n",
              "      <td>20.232434</td>\n",
              "      <td>66.716110</td>\n",
              "      <td>-175.198242</td>\n",
              "      <td>-7.941496</td>\n",
              "      <td>20.972652</td>\n",
              "      <td>48.281523</td>\n",
              "      <td>178.065032</td>\n",
              "    </tr>\n",
              "  </tbody>\n",
              "</table>\n",
              "</div>"
            ],
            "text/plain": [
              "                          count        mean         std         min  \\\n",
              "Birth Rate                189.0   20.214974    9.945774    5.900000   \n",
              "Calling Code              194.0  360.546392  323.236419    1.000000   \n",
              "Fertility Rate            188.0    2.698138    1.282267    0.980000   \n",
              "Infant mortality          189.0   21.332804   19.548058    1.400000   \n",
              "Life expectancy           187.0   72.279679    7.483661   52.800000   \n",
              "Maternal mortality ratio  181.0  160.392265  233.502024    2.000000   \n",
              "Physicians per thousand   188.0    1.839840    1.684261    0.010000   \n",
              "Latitude                  194.0   19.092351   23.961779  -40.900557   \n",
              "Longitude                 194.0   20.232434   66.716110 -175.198242   \n",
              "\n",
              "                                25%         50%         75%          max  \n",
              "Birth Rate                11.300000   17.950000   28.750000    46.080000  \n",
              "Calling Code              82.500000  255.500000  506.750000  1876.000000  \n",
              "Fertility Rate             1.705000    2.245000    3.597500     6.910000  \n",
              "Infant mortality           6.000000   14.000000   32.700000    84.500000  \n",
              "Life expectancy           67.000000   73.200000   77.500000    85.400000  \n",
              "Maternal mortality ratio  13.000000   53.000000  186.000000  1150.000000  \n",
              "Physicians per thousand    0.332500    1.460000    2.935000     8.420000  \n",
              "Latitude                   4.544175   17.273849   40.124603    64.963051  \n",
              "Longitude                 -7.941496   20.972652   48.281523   178.065032  "
            ]
          },
          "execution_count": 102,
          "metadata": {},
          "output_type": "execute_result"
        }
      ],
      "source": [
        "#Иногда для простоты можно транспонировать DataFrame\n",
        "df.describe().transpose()"
      ]
    },
    {
      "cell_type": "markdown",
      "metadata": {
        "id": "uxqfBduo9PNI"
      },
      "source": [
        "### Получение данных по столбцам"
      ]
    },
    {
      "cell_type": "markdown",
      "metadata": {
        "id": "vbnQjJkL96wO"
      },
      "source": [
        "Получение данных по индексу в DataFrame эквивалентно для Series:"
      ]
    },
    {
      "cell_type": "code",
      "execution_count": null,
      "metadata": {
        "colab": {
          "base_uri": "https://localhost:8080/"
        },
        "id": "7TumjnKfwX_I",
        "outputId": "6620af59-2bb0-48c4-f39c-7cdeddb2849a"
      },
      "outputs": [
        {
          "data": {
            "text/plain": [
              "Country\n",
              "Afghanistan    64.5\n",
              "Albania        78.5\n",
              "Algeria        76.7\n",
              "Andorra         NaN\n",
              "Angola         60.8\n",
              "               ... \n",
              "Venezuela      72.1\n",
              "Vietnam        75.3\n",
              "Yemen          66.1\n",
              "Zambia         63.5\n",
              "Zimbabwe       61.2\n",
              "Name: Life expectancy, Length: 195, dtype: float64"
            ]
          },
          "execution_count": 103,
          "metadata": {},
          "output_type": "execute_result"
        }
      ],
      "source": [
        "df['Life expectancy']"
      ]
    },
    {
      "cell_type": "code",
      "execution_count": null,
      "metadata": {
        "colab": {
          "base_uri": "https://localhost:8080/"
        },
        "id": "LjlaSHKswZpl",
        "outputId": "03d40e56-2eae-4614-92ae-5a0735508304"
      },
      "outputs": [
        {
          "data": {
            "text/plain": [
              "pandas.core.series.Series"
            ]
          },
          "execution_count": 104,
          "metadata": {},
          "output_type": "execute_result"
        }
      ],
      "source": [
        "#Полученный объект является Series\n",
        "type(df['Life expectancy'])"
      ]
    },
    {
      "cell_type": "code",
      "execution_count": null,
      "metadata": {
        "colab": {
          "base_uri": "https://localhost:8080/",
          "height": 450
        },
        "id": "x7wi61ZvwbjR",
        "outputId": "b8cf4a45-5dab-4482-abb0-71ff19985010"
      },
      "outputs": [
        {
          "data": {
            "text/html": [
              "<div>\n",
              "<style scoped>\n",
              "    .dataframe tbody tr th:only-of-type {\n",
              "        vertical-align: middle;\n",
              "    }\n",
              "\n",
              "    .dataframe tbody tr th {\n",
              "        vertical-align: top;\n",
              "    }\n",
              "\n",
              "    .dataframe thead th {\n",
              "        text-align: right;\n",
              "    }\n",
              "</style>\n",
              "<table border=\"1\" class=\"dataframe\">\n",
              "  <thead>\n",
              "    <tr style=\"text-align: right;\">\n",
              "      <th></th>\n",
              "      <th>Life expectancy</th>\n",
              "      <th>Calling Code</th>\n",
              "    </tr>\n",
              "    <tr>\n",
              "      <th>Country</th>\n",
              "      <th></th>\n",
              "      <th></th>\n",
              "    </tr>\n",
              "  </thead>\n",
              "  <tbody>\n",
              "    <tr>\n",
              "      <th>Afghanistan</th>\n",
              "      <td>64.5</td>\n",
              "      <td>93.0</td>\n",
              "    </tr>\n",
              "    <tr>\n",
              "      <th>Albania</th>\n",
              "      <td>78.5</td>\n",
              "      <td>355.0</td>\n",
              "    </tr>\n",
              "    <tr>\n",
              "      <th>Algeria</th>\n",
              "      <td>76.7</td>\n",
              "      <td>213.0</td>\n",
              "    </tr>\n",
              "    <tr>\n",
              "      <th>Andorra</th>\n",
              "      <td>NaN</td>\n",
              "      <td>376.0</td>\n",
              "    </tr>\n",
              "    <tr>\n",
              "      <th>Angola</th>\n",
              "      <td>60.8</td>\n",
              "      <td>244.0</td>\n",
              "    </tr>\n",
              "    <tr>\n",
              "      <th>...</th>\n",
              "      <td>...</td>\n",
              "      <td>...</td>\n",
              "    </tr>\n",
              "    <tr>\n",
              "      <th>Venezuela</th>\n",
              "      <td>72.1</td>\n",
              "      <td>58.0</td>\n",
              "    </tr>\n",
              "    <tr>\n",
              "      <th>Vietnam</th>\n",
              "      <td>75.3</td>\n",
              "      <td>84.0</td>\n",
              "    </tr>\n",
              "    <tr>\n",
              "      <th>Yemen</th>\n",
              "      <td>66.1</td>\n",
              "      <td>967.0</td>\n",
              "    </tr>\n",
              "    <tr>\n",
              "      <th>Zambia</th>\n",
              "      <td>63.5</td>\n",
              "      <td>260.0</td>\n",
              "    </tr>\n",
              "    <tr>\n",
              "      <th>Zimbabwe</th>\n",
              "      <td>61.2</td>\n",
              "      <td>263.0</td>\n",
              "    </tr>\n",
              "  </tbody>\n",
              "</table>\n",
              "<p>195 rows × 2 columns</p>\n",
              "</div>"
            ],
            "text/plain": [
              "             Life expectancy  Calling Code\n",
              "Country                                   \n",
              "Afghanistan             64.5          93.0\n",
              "Albania                 78.5         355.0\n",
              "Algeria                 76.7         213.0\n",
              "Andorra                  NaN         376.0\n",
              "Angola                  60.8         244.0\n",
              "...                      ...           ...\n",
              "Venezuela               72.1          58.0\n",
              "Vietnam                 75.3          84.0\n",
              "Yemen                   66.1         967.0\n",
              "Zambia                  63.5         260.0\n",
              "Zimbabwe                61.2         263.0\n",
              "\n",
              "[195 rows x 2 columns]"
            ]
          },
          "execution_count": 105,
          "metadata": {},
          "output_type": "execute_result"
        }
      ],
      "source": [
        "# Если вы хотите получить данные сразу из нескольких столбцов, то их названия нужно передать списком(list)\n",
        "# Поэтому здесь два набора квадратных скобок.\n",
        "df[['Life expectancy','Calling Code']]"
      ]
    },
    {
      "cell_type": "markdown",
      "metadata": {
        "id": "qFsUuZff_XZp"
      },
      "source": [
        "### Получение данных по строкам"
      ]
    },
    {
      "cell_type": "markdown",
      "metadata": {
        "id": "_Q_Ik4dW_boT"
      },
      "source": [
        "Есть два похожих метода, которые позволяют получать строки из DataFrame — `df.loc` и `df.iloc`. Они похожи, но отличаются тем, что `iloc` используется для получения строки по номеру(число), а `loc` — по названию."
      ]
    },
    {
      "cell_type": "code",
      "execution_count": null,
      "metadata": {
        "colab": {
          "base_uri": "https://localhost:8080/"
        },
        "id": "jGjP9VtO_ide",
        "outputId": "c35d7b36-7d84-43c5-df40-eddc22c46f9c"
      },
      "outputs": [
        {
          "data": {
            "text/plain": [
              "Density\\n(P/Km2)                                           60\n",
              "Abbreviation                                               AF\n",
              "Agricultural Land( %)                                  58.10%\n",
              "Land Area(Km2)                                        652,230\n",
              "Armed Forces size                                     323,000\n",
              "Birth Rate                                              32.49\n",
              "Calling Code                                             93.0\n",
              "Capital/Major City                                      Kabul\n",
              "Co2-Emissions                                           8,672\n",
              "CPI                                                     149.9\n",
              "CPI Change (%)                                          2.30%\n",
              "Currency-Code                                             AFN\n",
              "Fertility Rate                                           4.47\n",
              "Forested Area (%)                                       2.10%\n",
              "Gasoline Price                                         $0.70 \n",
              "GDP                                          $19,101,353,833 \n",
              "Gross primary education enrollment (%)                104.00%\n",
              "Gross tertiary education enrollment (%)                 9.70%\n",
              "Infant mortality                                         47.9\n",
              "Largest city                                            Kabul\n",
              "Life expectancy                                          64.5\n",
              "Maternal mortality ratio                                638.0\n",
              "Minimum wage                                           $0.43 \n",
              "Official language                                      Pashto\n",
              "Out of pocket health expenditure                       78.40%\n",
              "Physicians per thousand                                  0.28\n",
              "Population                                         38,041,754\n",
              "Population: Labor force participation (%)              48.90%\n",
              "Tax revenue (%)                                         9.30%\n",
              "Total tax rate                                         71.40%\n",
              "Unemployment rate                                      11.12%\n",
              "Urban_population                                    9,797,273\n",
              "Latitude                                             33.93911\n",
              "Longitude                                           67.709953\n",
              "Name: Afghanistan, dtype: object"
            ]
          },
          "execution_count": 106,
          "metadata": {},
          "output_type": "execute_result"
        }
      ],
      "source": [
        "# На основе номера строки - числа Integer\n",
        "df.iloc[0]"
      ]
    },
    {
      "cell_type": "markdown",
      "metadata": {
        "id": "CLx621QsBBf6"
      },
      "source": [
        "Если в датасете  индексы заданы строковыми значениями, то можно"
      ]
    },
    {
      "cell_type": "code",
      "execution_count": null,
      "metadata": {
        "colab": {
          "base_uri": "https://localhost:8080/"
        },
        "id": "PhLx92ZR_mAO",
        "outputId": "71b10632-02a9-4d16-f61c-1fea924a7214"
      },
      "outputs": [
        {
          "data": {
            "text/plain": [
              "Density\\n(P/Km2)                                             206\n",
              "Abbreviation                                                  IT\n",
              "Agricultural Land( %)                                     43.20%\n",
              "Land Area(Km2)                                           301,340\n",
              "Armed Forces size                                        347,000\n",
              "Birth Rate                                                   7.3\n",
              "Calling Code                                                39.0\n",
              "Capital/Major City                                          Rome\n",
              "Co2-Emissions                                            320,411\n",
              "CPI                                                       110.62\n",
              "CPI Change (%)                                             0.60%\n",
              "Currency-Code                                                EUR\n",
              "Fertility Rate                                              1.29\n",
              "Forested Area (%)                                         31.80%\n",
              "Gasoline Price                                            $1.61 \n",
              "GDP                                          $2,001,244,392,042 \n",
              "Gross primary education enrollment (%)                   101.90%\n",
              "Gross tertiary education enrollment (%)                   61.90%\n",
              "Infant mortality                                             2.6\n",
              "Largest city                                                Rome\n",
              "Life expectancy                                             82.9\n",
              "Maternal mortality ratio                                     2.0\n",
              "Minimum wage                                                 NaN\n",
              "Official language                                        Italian\n",
              "Out of pocket health expenditure                          22.80%\n",
              "Physicians per thousand                                     3.98\n",
              "Population                                            60,297,396\n",
              "Population: Labor force participation (%)                 49.60%\n",
              "Tax revenue (%)                                           24.30%\n",
              "Total tax rate                                            59.10%\n",
              "Unemployment rate                                          9.89%\n",
              "Urban_population                                      42,651,966\n",
              "Latitude                                                41.87194\n",
              "Longitude                                               12.56738\n",
              "Name: Italy, dtype: object"
            ]
          },
          "execution_count": 107,
          "metadata": {},
          "output_type": "execute_result"
        }
      ],
      "source": [
        "# На основе названия (на основе значения колонки-индекса)\n",
        "df.loc['Italy']"
      ]
    },
    {
      "cell_type": "code",
      "execution_count": null,
      "metadata": {
        "colab": {
          "base_uri": "https://localhost:8080/",
          "height": 458
        },
        "id": "FOQ_Rxjc_obC",
        "outputId": "e165037a-48fb-432d-90d4-865099e8febc"
      },
      "outputs": [
        {
          "data": {
            "text/html": [
              "<div>\n",
              "<style scoped>\n",
              "    .dataframe tbody tr th:only-of-type {\n",
              "        vertical-align: middle;\n",
              "    }\n",
              "\n",
              "    .dataframe tbody tr th {\n",
              "        vertical-align: top;\n",
              "    }\n",
              "\n",
              "    .dataframe thead th {\n",
              "        text-align: right;\n",
              "    }\n",
              "</style>\n",
              "<table border=\"1\" class=\"dataframe\">\n",
              "  <thead>\n",
              "    <tr style=\"text-align: right;\">\n",
              "      <th></th>\n",
              "      <th>Density\\n(P/Km2)</th>\n",
              "      <th>Abbreviation</th>\n",
              "      <th>Agricultural Land( %)</th>\n",
              "      <th>Land Area(Km2)</th>\n",
              "      <th>Armed Forces size</th>\n",
              "      <th>Birth Rate</th>\n",
              "      <th>Calling Code</th>\n",
              "      <th>Capital/Major City</th>\n",
              "      <th>Co2-Emissions</th>\n",
              "      <th>CPI</th>\n",
              "      <th>...</th>\n",
              "      <th>Out of pocket health expenditure</th>\n",
              "      <th>Physicians per thousand</th>\n",
              "      <th>Population</th>\n",
              "      <th>Population: Labor force participation (%)</th>\n",
              "      <th>Tax revenue (%)</th>\n",
              "      <th>Total tax rate</th>\n",
              "      <th>Unemployment rate</th>\n",
              "      <th>Urban_population</th>\n",
              "      <th>Latitude</th>\n",
              "      <th>Longitude</th>\n",
              "    </tr>\n",
              "    <tr>\n",
              "      <th>Country</th>\n",
              "      <th></th>\n",
              "      <th></th>\n",
              "      <th></th>\n",
              "      <th></th>\n",
              "      <th></th>\n",
              "      <th></th>\n",
              "      <th></th>\n",
              "      <th></th>\n",
              "      <th></th>\n",
              "      <th></th>\n",
              "      <th></th>\n",
              "      <th></th>\n",
              "      <th></th>\n",
              "      <th></th>\n",
              "      <th></th>\n",
              "      <th></th>\n",
              "      <th></th>\n",
              "      <th></th>\n",
              "      <th></th>\n",
              "      <th></th>\n",
              "      <th></th>\n",
              "    </tr>\n",
              "  </thead>\n",
              "  <tbody>\n",
              "    <tr>\n",
              "      <th>Afghanistan</th>\n",
              "      <td>60</td>\n",
              "      <td>AF</td>\n",
              "      <td>58.10%</td>\n",
              "      <td>652,230</td>\n",
              "      <td>323,000</td>\n",
              "      <td>32.49</td>\n",
              "      <td>93.0</td>\n",
              "      <td>Kabul</td>\n",
              "      <td>8,672</td>\n",
              "      <td>149.9</td>\n",
              "      <td>...</td>\n",
              "      <td>78.40%</td>\n",
              "      <td>0.28</td>\n",
              "      <td>38,041,754</td>\n",
              "      <td>48.90%</td>\n",
              "      <td>9.30%</td>\n",
              "      <td>71.40%</td>\n",
              "      <td>11.12%</td>\n",
              "      <td>9,797,273</td>\n",
              "      <td>33.939110</td>\n",
              "      <td>67.709953</td>\n",
              "    </tr>\n",
              "    <tr>\n",
              "      <th>Albania</th>\n",
              "      <td>105</td>\n",
              "      <td>AL</td>\n",
              "      <td>43.10%</td>\n",
              "      <td>28,748</td>\n",
              "      <td>9,000</td>\n",
              "      <td>11.78</td>\n",
              "      <td>355.0</td>\n",
              "      <td>Tirana</td>\n",
              "      <td>4,536</td>\n",
              "      <td>119.05</td>\n",
              "      <td>...</td>\n",
              "      <td>56.90%</td>\n",
              "      <td>1.20</td>\n",
              "      <td>2,854,191</td>\n",
              "      <td>55.70%</td>\n",
              "      <td>18.60%</td>\n",
              "      <td>36.60%</td>\n",
              "      <td>12.33%</td>\n",
              "      <td>1,747,593</td>\n",
              "      <td>41.153332</td>\n",
              "      <td>20.168331</td>\n",
              "    </tr>\n",
              "    <tr>\n",
              "      <th>Algeria</th>\n",
              "      <td>18</td>\n",
              "      <td>DZ</td>\n",
              "      <td>17.40%</td>\n",
              "      <td>2,381,741</td>\n",
              "      <td>317,000</td>\n",
              "      <td>24.28</td>\n",
              "      <td>213.0</td>\n",
              "      <td>Algiers</td>\n",
              "      <td>150,006</td>\n",
              "      <td>151.36</td>\n",
              "      <td>...</td>\n",
              "      <td>28.10%</td>\n",
              "      <td>1.72</td>\n",
              "      <td>43,053,054</td>\n",
              "      <td>41.20%</td>\n",
              "      <td>37.20%</td>\n",
              "      <td>66.10%</td>\n",
              "      <td>11.70%</td>\n",
              "      <td>31,510,100</td>\n",
              "      <td>28.033886</td>\n",
              "      <td>1.659626</td>\n",
              "    </tr>\n",
              "    <tr>\n",
              "      <th>Andorra</th>\n",
              "      <td>164</td>\n",
              "      <td>AD</td>\n",
              "      <td>40.00%</td>\n",
              "      <td>468</td>\n",
              "      <td>NaN</td>\n",
              "      <td>7.20</td>\n",
              "      <td>376.0</td>\n",
              "      <td>Andorra la Vella</td>\n",
              "      <td>469</td>\n",
              "      <td>NaN</td>\n",
              "      <td>...</td>\n",
              "      <td>36.40%</td>\n",
              "      <td>3.33</td>\n",
              "      <td>77,142</td>\n",
              "      <td>NaN</td>\n",
              "      <td>NaN</td>\n",
              "      <td>NaN</td>\n",
              "      <td>NaN</td>\n",
              "      <td>67,873</td>\n",
              "      <td>42.506285</td>\n",
              "      <td>1.521801</td>\n",
              "    </tr>\n",
              "    <tr>\n",
              "      <th>Angola</th>\n",
              "      <td>26</td>\n",
              "      <td>AO</td>\n",
              "      <td>47.50%</td>\n",
              "      <td>1,246,700</td>\n",
              "      <td>117,000</td>\n",
              "      <td>40.73</td>\n",
              "      <td>244.0</td>\n",
              "      <td>Luanda</td>\n",
              "      <td>34,693</td>\n",
              "      <td>261.73</td>\n",
              "      <td>...</td>\n",
              "      <td>33.40%</td>\n",
              "      <td>0.21</td>\n",
              "      <td>31,825,295</td>\n",
              "      <td>77.50%</td>\n",
              "      <td>9.20%</td>\n",
              "      <td>49.10%</td>\n",
              "      <td>6.89%</td>\n",
              "      <td>21,061,025</td>\n",
              "      <td>-11.202692</td>\n",
              "      <td>17.873887</td>\n",
              "    </tr>\n",
              "    <tr>\n",
              "      <th>Antigua and Barbuda</th>\n",
              "      <td>223</td>\n",
              "      <td>AG</td>\n",
              "      <td>20.50%</td>\n",
              "      <td>443</td>\n",
              "      <td>0</td>\n",
              "      <td>15.33</td>\n",
              "      <td>1.0</td>\n",
              "      <td>St. John's, Saint John</td>\n",
              "      <td>557</td>\n",
              "      <td>113.81</td>\n",
              "      <td>...</td>\n",
              "      <td>24.30%</td>\n",
              "      <td>2.76</td>\n",
              "      <td>97,118</td>\n",
              "      <td>NaN</td>\n",
              "      <td>16.50%</td>\n",
              "      <td>43.00%</td>\n",
              "      <td>NaN</td>\n",
              "      <td>23,800</td>\n",
              "      <td>17.060816</td>\n",
              "      <td>-61.796428</td>\n",
              "    </tr>\n",
              "    <tr>\n",
              "      <th>Argentina</th>\n",
              "      <td>17</td>\n",
              "      <td>AR</td>\n",
              "      <td>54.30%</td>\n",
              "      <td>2,780,400</td>\n",
              "      <td>105,000</td>\n",
              "      <td>17.02</td>\n",
              "      <td>54.0</td>\n",
              "      <td>Buenos Aires</td>\n",
              "      <td>201,348</td>\n",
              "      <td>232.75</td>\n",
              "      <td>...</td>\n",
              "      <td>17.60%</td>\n",
              "      <td>3.96</td>\n",
              "      <td>44,938,712</td>\n",
              "      <td>61.30%</td>\n",
              "      <td>10.10%</td>\n",
              "      <td>106.30%</td>\n",
              "      <td>9.79%</td>\n",
              "      <td>41,339,571</td>\n",
              "      <td>-38.416097</td>\n",
              "      <td>-63.616672</td>\n",
              "    </tr>\n",
              "  </tbody>\n",
              "</table>\n",
              "<p>7 rows × 34 columns</p>\n",
              "</div>"
            ],
            "text/plain": [
              "                    Density\\n(P/Km2) Abbreviation Agricultural Land( %)  \\\n",
              "Country                                                                   \n",
              "Afghanistan                       60           AF                58.10%   \n",
              "Albania                          105           AL                43.10%   \n",
              "Algeria                           18           DZ                17.40%   \n",
              "Andorra                          164           AD                40.00%   \n",
              "Angola                            26           AO                47.50%   \n",
              "Antigua and Barbuda              223           AG                20.50%   \n",
              "Argentina                         17           AR                54.30%   \n",
              "\n",
              "                    Land Area(Km2) Armed Forces size  Birth Rate  \\\n",
              "Country                                                            \n",
              "Afghanistan                652,230           323,000       32.49   \n",
              "Albania                     28,748             9,000       11.78   \n",
              "Algeria                  2,381,741           317,000       24.28   \n",
              "Andorra                        468               NaN        7.20   \n",
              "Angola                   1,246,700           117,000       40.73   \n",
              "Antigua and Barbuda            443                 0       15.33   \n",
              "Argentina                2,780,400           105,000       17.02   \n",
              "\n",
              "                     Calling Code      Capital/Major City Co2-Emissions  \\\n",
              "Country                                                                   \n",
              "Afghanistan                  93.0                   Kabul         8,672   \n",
              "Albania                     355.0                  Tirana         4,536   \n",
              "Algeria                     213.0                 Algiers       150,006   \n",
              "Andorra                     376.0        Andorra la Vella           469   \n",
              "Angola                      244.0                  Luanda        34,693   \n",
              "Antigua and Barbuda           1.0  St. John's, Saint John           557   \n",
              "Argentina                    54.0            Buenos Aires       201,348   \n",
              "\n",
              "                        CPI  ... Out of pocket health expenditure  \\\n",
              "Country                      ...                                    \n",
              "Afghanistan           149.9  ...                           78.40%   \n",
              "Albania              119.05  ...                           56.90%   \n",
              "Algeria              151.36  ...                           28.10%   \n",
              "Andorra                 NaN  ...                           36.40%   \n",
              "Angola               261.73  ...                           33.40%   \n",
              "Antigua and Barbuda  113.81  ...                           24.30%   \n",
              "Argentina            232.75  ...                           17.60%   \n",
              "\n",
              "                    Physicians per thousand  Population  \\\n",
              "Country                                                   \n",
              "Afghanistan                            0.28  38,041,754   \n",
              "Albania                                1.20   2,854,191   \n",
              "Algeria                                1.72  43,053,054   \n",
              "Andorra                                3.33      77,142   \n",
              "Angola                                 0.21  31,825,295   \n",
              "Antigua and Barbuda                    2.76      97,118   \n",
              "Argentina                              3.96  44,938,712   \n",
              "\n",
              "                    Population: Labor force participation (%) Tax revenue (%)  \\\n",
              "Country                                                                         \n",
              "Afghanistan                                            48.90%           9.30%   \n",
              "Albania                                                55.70%          18.60%   \n",
              "Algeria                                                41.20%          37.20%   \n",
              "Andorra                                                   NaN             NaN   \n",
              "Angola                                                 77.50%           9.20%   \n",
              "Antigua and Barbuda                                       NaN          16.50%   \n",
              "Argentina                                              61.30%          10.10%   \n",
              "\n",
              "                    Total tax rate Unemployment rate Urban_population  \\\n",
              "Country                                                                 \n",
              "Afghanistan                 71.40%            11.12%        9,797,273   \n",
              "Albania                     36.60%            12.33%        1,747,593   \n",
              "Algeria                     66.10%            11.70%       31,510,100   \n",
              "Andorra                        NaN               NaN           67,873   \n",
              "Angola                      49.10%             6.89%       21,061,025   \n",
              "Antigua and Barbuda         43.00%               NaN           23,800   \n",
              "Argentina                  106.30%             9.79%       41,339,571   \n",
              "\n",
              "                      Latitude  Longitude  \n",
              "Country                                    \n",
              "Afghanistan          33.939110  67.709953  \n",
              "Albania              41.153332  20.168331  \n",
              "Algeria              28.033886   1.659626  \n",
              "Andorra              42.506285   1.521801  \n",
              "Angola              -11.202692  17.873887  \n",
              "Antigua and Barbuda  17.060816 -61.796428  \n",
              "Argentina           -38.416097 -63.616672  \n",
              "\n",
              "[7 rows x 34 columns]"
            ]
          },
          "execution_count": 108,
          "metadata": {},
          "output_type": "execute_result"
        }
      ],
      "source": [
        "df.iloc[0:7]"
      ]
    },
    {
      "cell_type": "code",
      "execution_count": null,
      "metadata": {
        "colab": {
          "base_uri": "https://localhost:8080/",
          "height": 286
        },
        "id": "gK8lSoan_qH5",
        "outputId": "01c099c6-9133-4337-9118-e535ca8ab505"
      },
      "outputs": [
        {
          "data": {
            "text/html": [
              "<div>\n",
              "<style scoped>\n",
              "    .dataframe tbody tr th:only-of-type {\n",
              "        vertical-align: middle;\n",
              "    }\n",
              "\n",
              "    .dataframe tbody tr th {\n",
              "        vertical-align: top;\n",
              "    }\n",
              "\n",
              "    .dataframe thead th {\n",
              "        text-align: right;\n",
              "    }\n",
              "</style>\n",
              "<table border=\"1\" class=\"dataframe\">\n",
              "  <thead>\n",
              "    <tr style=\"text-align: right;\">\n",
              "      <th></th>\n",
              "      <th>Density\\n(P/Km2)</th>\n",
              "      <th>Abbreviation</th>\n",
              "      <th>Agricultural Land( %)</th>\n",
              "      <th>Land Area(Km2)</th>\n",
              "      <th>Armed Forces size</th>\n",
              "      <th>Birth Rate</th>\n",
              "      <th>Calling Code</th>\n",
              "      <th>Capital/Major City</th>\n",
              "      <th>Co2-Emissions</th>\n",
              "      <th>CPI</th>\n",
              "      <th>...</th>\n",
              "      <th>Out of pocket health expenditure</th>\n",
              "      <th>Physicians per thousand</th>\n",
              "      <th>Population</th>\n",
              "      <th>Population: Labor force participation (%)</th>\n",
              "      <th>Tax revenue (%)</th>\n",
              "      <th>Total tax rate</th>\n",
              "      <th>Unemployment rate</th>\n",
              "      <th>Urban_population</th>\n",
              "      <th>Latitude</th>\n",
              "      <th>Longitude</th>\n",
              "    </tr>\n",
              "    <tr>\n",
              "      <th>Country</th>\n",
              "      <th></th>\n",
              "      <th></th>\n",
              "      <th></th>\n",
              "      <th></th>\n",
              "      <th></th>\n",
              "      <th></th>\n",
              "      <th></th>\n",
              "      <th></th>\n",
              "      <th></th>\n",
              "      <th></th>\n",
              "      <th></th>\n",
              "      <th></th>\n",
              "      <th></th>\n",
              "      <th></th>\n",
              "      <th></th>\n",
              "      <th></th>\n",
              "      <th></th>\n",
              "      <th></th>\n",
              "      <th></th>\n",
              "      <th></th>\n",
              "      <th></th>\n",
              "    </tr>\n",
              "  </thead>\n",
              "  <tbody>\n",
              "    <tr>\n",
              "      <th>Andorra</th>\n",
              "      <td>164</td>\n",
              "      <td>AD</td>\n",
              "      <td>40.00%</td>\n",
              "      <td>468</td>\n",
              "      <td>NaN</td>\n",
              "      <td>7.20</td>\n",
              "      <td>376.0</td>\n",
              "      <td>Andorra la Vella</td>\n",
              "      <td>469</td>\n",
              "      <td>NaN</td>\n",
              "      <td>...</td>\n",
              "      <td>36.40%</td>\n",
              "      <td>3.33</td>\n",
              "      <td>77,142</td>\n",
              "      <td>NaN</td>\n",
              "      <td>NaN</td>\n",
              "      <td>NaN</td>\n",
              "      <td>NaN</td>\n",
              "      <td>67,873</td>\n",
              "      <td>42.506285</td>\n",
              "      <td>1.521801</td>\n",
              "    </tr>\n",
              "    <tr>\n",
              "      <th>Argentina</th>\n",
              "      <td>17</td>\n",
              "      <td>AR</td>\n",
              "      <td>54.30%</td>\n",
              "      <td>2,780,400</td>\n",
              "      <td>105,000</td>\n",
              "      <td>17.02</td>\n",
              "      <td>54.0</td>\n",
              "      <td>Buenos Aires</td>\n",
              "      <td>201,348</td>\n",
              "      <td>232.75</td>\n",
              "      <td>...</td>\n",
              "      <td>17.60%</td>\n",
              "      <td>3.96</td>\n",
              "      <td>44,938,712</td>\n",
              "      <td>61.30%</td>\n",
              "      <td>10.10%</td>\n",
              "      <td>106.30%</td>\n",
              "      <td>9.79%</td>\n",
              "      <td>41,339,571</td>\n",
              "      <td>-38.416097</td>\n",
              "      <td>-63.616672</td>\n",
              "    </tr>\n",
              "  </tbody>\n",
              "</table>\n",
              "<p>2 rows × 34 columns</p>\n",
              "</div>"
            ],
            "text/plain": [
              "          Density\\n(P/Km2) Abbreviation Agricultural Land( %) Land Area(Km2)  \\\n",
              "Country                                                                        \n",
              "Andorra                164           AD                40.00%            468   \n",
              "Argentina               17           AR                54.30%      2,780,400   \n",
              "\n",
              "          Armed Forces size  Birth Rate  Calling Code Capital/Major City  \\\n",
              "Country                                                                    \n",
              "Andorra                 NaN        7.20         376.0   Andorra la Vella   \n",
              "Argentina           105,000       17.02          54.0       Buenos Aires   \n",
              "\n",
              "          Co2-Emissions     CPI  ... Out of pocket health expenditure  \\\n",
              "Country                          ...                                    \n",
              "Andorra             469     NaN  ...                           36.40%   \n",
              "Argentina       201,348  232.75  ...                           17.60%   \n",
              "\n",
              "          Physicians per thousand  Population  \\\n",
              "Country                                         \n",
              "Andorra                      3.33      77,142   \n",
              "Argentina                    3.96  44,938,712   \n",
              "\n",
              "          Population: Labor force participation (%) Tax revenue (%)  \\\n",
              "Country                                                               \n",
              "Andorra                                         NaN             NaN   \n",
              "Argentina                                    61.30%          10.10%   \n",
              "\n",
              "          Total tax rate Unemployment rate Urban_population   Latitude  \\\n",
              "Country                                                                  \n",
              "Andorra              NaN               NaN           67,873  42.506285   \n",
              "Argentina        106.30%             9.79%       41,339,571 -38.416097   \n",
              "\n",
              "           Longitude  \n",
              "Country               \n",
              "Andorra     1.521801  \n",
              "Argentina -63.616672  \n",
              "\n",
              "[2 rows x 34 columns]"
            ]
          },
          "execution_count": 109,
          "metadata": {},
          "output_type": "execute_result"
        }
      ],
      "source": [
        "df.loc[['Andorra','Argentina']]"
      ]
    },
    {
      "cell_type": "markdown",
      "metadata": {
        "id": "S5NfGTlEGfj3"
      },
      "source": [
        "### Удаление элементов"
      ]
    },
    {
      "cell_type": "markdown",
      "metadata": {
        "id": "vPlrg0eQGo0K"
      },
      "source": [
        "Выведем наш датасет"
      ]
    },
    {
      "cell_type": "code",
      "execution_count": null,
      "metadata": {
        "id": "Kz_Ywc9FGofq",
        "outputId": "7d8c1a2b-efa7-4f33-967a-cdcd0296169c"
      },
      "outputs": [
        {
          "data": {
            "text/html": [
              "<div>\n",
              "<style scoped>\n",
              "    .dataframe tbody tr th:only-of-type {\n",
              "        vertical-align: middle;\n",
              "    }\n",
              "\n",
              "    .dataframe tbody tr th {\n",
              "        vertical-align: top;\n",
              "    }\n",
              "\n",
              "    .dataframe thead th {\n",
              "        text-align: right;\n",
              "    }\n",
              "</style>\n",
              "<table border=\"1\" class=\"dataframe\">\n",
              "  <thead>\n",
              "    <tr style=\"text-align: right;\">\n",
              "      <th></th>\n",
              "      <th>Density\\n(P/Km2)</th>\n",
              "      <th>Abbreviation</th>\n",
              "      <th>Agricultural Land( %)</th>\n",
              "      <th>Land Area(Km2)</th>\n",
              "      <th>Armed Forces size</th>\n",
              "      <th>Birth Rate</th>\n",
              "      <th>Calling Code</th>\n",
              "      <th>Capital/Major City</th>\n",
              "      <th>Co2-Emissions</th>\n",
              "      <th>CPI</th>\n",
              "      <th>...</th>\n",
              "      <th>Out of pocket health expenditure</th>\n",
              "      <th>Physicians per thousand</th>\n",
              "      <th>Population</th>\n",
              "      <th>Population: Labor force participation (%)</th>\n",
              "      <th>Tax revenue (%)</th>\n",
              "      <th>Total tax rate</th>\n",
              "      <th>Unemployment rate</th>\n",
              "      <th>Urban_population</th>\n",
              "      <th>Latitude</th>\n",
              "      <th>Longitude</th>\n",
              "    </tr>\n",
              "    <tr>\n",
              "      <th>Country</th>\n",
              "      <th></th>\n",
              "      <th></th>\n",
              "      <th></th>\n",
              "      <th></th>\n",
              "      <th></th>\n",
              "      <th></th>\n",
              "      <th></th>\n",
              "      <th></th>\n",
              "      <th></th>\n",
              "      <th></th>\n",
              "      <th></th>\n",
              "      <th></th>\n",
              "      <th></th>\n",
              "      <th></th>\n",
              "      <th></th>\n",
              "      <th></th>\n",
              "      <th></th>\n",
              "      <th></th>\n",
              "      <th></th>\n",
              "      <th></th>\n",
              "      <th></th>\n",
              "    </tr>\n",
              "  </thead>\n",
              "  <tbody>\n",
              "    <tr>\n",
              "      <th>Afghanistan</th>\n",
              "      <td>60</td>\n",
              "      <td>AF</td>\n",
              "      <td>58.10%</td>\n",
              "      <td>652,230</td>\n",
              "      <td>323,000</td>\n",
              "      <td>32.49</td>\n",
              "      <td>93.0</td>\n",
              "      <td>Kabul</td>\n",
              "      <td>8,672</td>\n",
              "      <td>149.9</td>\n",
              "      <td>...</td>\n",
              "      <td>78.40%</td>\n",
              "      <td>0.28</td>\n",
              "      <td>38,041,754</td>\n",
              "      <td>48.90%</td>\n",
              "      <td>9.30%</td>\n",
              "      <td>71.40%</td>\n",
              "      <td>11.12%</td>\n",
              "      <td>9,797,273</td>\n",
              "      <td>33.939110</td>\n",
              "      <td>67.709953</td>\n",
              "    </tr>\n",
              "    <tr>\n",
              "      <th>Albania</th>\n",
              "      <td>105</td>\n",
              "      <td>AL</td>\n",
              "      <td>43.10%</td>\n",
              "      <td>28,748</td>\n",
              "      <td>9,000</td>\n",
              "      <td>11.78</td>\n",
              "      <td>355.0</td>\n",
              "      <td>Tirana</td>\n",
              "      <td>4,536</td>\n",
              "      <td>119.05</td>\n",
              "      <td>...</td>\n",
              "      <td>56.90%</td>\n",
              "      <td>1.20</td>\n",
              "      <td>2,854,191</td>\n",
              "      <td>55.70%</td>\n",
              "      <td>18.60%</td>\n",
              "      <td>36.60%</td>\n",
              "      <td>12.33%</td>\n",
              "      <td>1,747,593</td>\n",
              "      <td>41.153332</td>\n",
              "      <td>20.168331</td>\n",
              "    </tr>\n",
              "    <tr>\n",
              "      <th>Algeria</th>\n",
              "      <td>18</td>\n",
              "      <td>DZ</td>\n",
              "      <td>17.40%</td>\n",
              "      <td>2,381,741</td>\n",
              "      <td>317,000</td>\n",
              "      <td>24.28</td>\n",
              "      <td>213.0</td>\n",
              "      <td>Algiers</td>\n",
              "      <td>150,006</td>\n",
              "      <td>151.36</td>\n",
              "      <td>...</td>\n",
              "      <td>28.10%</td>\n",
              "      <td>1.72</td>\n",
              "      <td>43,053,054</td>\n",
              "      <td>41.20%</td>\n",
              "      <td>37.20%</td>\n",
              "      <td>66.10%</td>\n",
              "      <td>11.70%</td>\n",
              "      <td>31,510,100</td>\n",
              "      <td>28.033886</td>\n",
              "      <td>1.659626</td>\n",
              "    </tr>\n",
              "    <tr>\n",
              "      <th>Andorra</th>\n",
              "      <td>164</td>\n",
              "      <td>AD</td>\n",
              "      <td>40.00%</td>\n",
              "      <td>468</td>\n",
              "      <td>NaN</td>\n",
              "      <td>7.20</td>\n",
              "      <td>376.0</td>\n",
              "      <td>Andorra la Vella</td>\n",
              "      <td>469</td>\n",
              "      <td>NaN</td>\n",
              "      <td>...</td>\n",
              "      <td>36.40%</td>\n",
              "      <td>3.33</td>\n",
              "      <td>77,142</td>\n",
              "      <td>NaN</td>\n",
              "      <td>NaN</td>\n",
              "      <td>NaN</td>\n",
              "      <td>NaN</td>\n",
              "      <td>67,873</td>\n",
              "      <td>42.506285</td>\n",
              "      <td>1.521801</td>\n",
              "    </tr>\n",
              "    <tr>\n",
              "      <th>Angola</th>\n",
              "      <td>26</td>\n",
              "      <td>AO</td>\n",
              "      <td>47.50%</td>\n",
              "      <td>1,246,700</td>\n",
              "      <td>117,000</td>\n",
              "      <td>40.73</td>\n",
              "      <td>244.0</td>\n",
              "      <td>Luanda</td>\n",
              "      <td>34,693</td>\n",
              "      <td>261.73</td>\n",
              "      <td>...</td>\n",
              "      <td>33.40%</td>\n",
              "      <td>0.21</td>\n",
              "      <td>31,825,295</td>\n",
              "      <td>77.50%</td>\n",
              "      <td>9.20%</td>\n",
              "      <td>49.10%</td>\n",
              "      <td>6.89%</td>\n",
              "      <td>21,061,025</td>\n",
              "      <td>-11.202692</td>\n",
              "      <td>17.873887</td>\n",
              "    </tr>\n",
              "    <tr>\n",
              "      <th>...</th>\n",
              "      <td>...</td>\n",
              "      <td>...</td>\n",
              "      <td>...</td>\n",
              "      <td>...</td>\n",
              "      <td>...</td>\n",
              "      <td>...</td>\n",
              "      <td>...</td>\n",
              "      <td>...</td>\n",
              "      <td>...</td>\n",
              "      <td>...</td>\n",
              "      <td>...</td>\n",
              "      <td>...</td>\n",
              "      <td>...</td>\n",
              "      <td>...</td>\n",
              "      <td>...</td>\n",
              "      <td>...</td>\n",
              "      <td>...</td>\n",
              "      <td>...</td>\n",
              "      <td>...</td>\n",
              "      <td>...</td>\n",
              "      <td>...</td>\n",
              "    </tr>\n",
              "    <tr>\n",
              "      <th>Venezuela</th>\n",
              "      <td>32</td>\n",
              "      <td>VE</td>\n",
              "      <td>24.50%</td>\n",
              "      <td>912,050</td>\n",
              "      <td>343,000</td>\n",
              "      <td>17.88</td>\n",
              "      <td>58.0</td>\n",
              "      <td>Caracas</td>\n",
              "      <td>164,175</td>\n",
              "      <td>2,740.27</td>\n",
              "      <td>...</td>\n",
              "      <td>45.80%</td>\n",
              "      <td>1.92</td>\n",
              "      <td>28,515,829</td>\n",
              "      <td>59.70%</td>\n",
              "      <td>NaN</td>\n",
              "      <td>73.30%</td>\n",
              "      <td>8.80%</td>\n",
              "      <td>25,162,368</td>\n",
              "      <td>6.423750</td>\n",
              "      <td>-66.589730</td>\n",
              "    </tr>\n",
              "    <tr>\n",
              "      <th>Vietnam</th>\n",
              "      <td>314</td>\n",
              "      <td>VN</td>\n",
              "      <td>39.30%</td>\n",
              "      <td>331,210</td>\n",
              "      <td>522,000</td>\n",
              "      <td>16.75</td>\n",
              "      <td>84.0</td>\n",
              "      <td>Hanoi</td>\n",
              "      <td>192,668</td>\n",
              "      <td>163.52</td>\n",
              "      <td>...</td>\n",
              "      <td>43.50%</td>\n",
              "      <td>0.82</td>\n",
              "      <td>96,462,106</td>\n",
              "      <td>77.40%</td>\n",
              "      <td>19.10%</td>\n",
              "      <td>37.60%</td>\n",
              "      <td>2.01%</td>\n",
              "      <td>35,332,140</td>\n",
              "      <td>14.058324</td>\n",
              "      <td>108.277199</td>\n",
              "    </tr>\n",
              "    <tr>\n",
              "      <th>Yemen</th>\n",
              "      <td>56</td>\n",
              "      <td>YE</td>\n",
              "      <td>44.60%</td>\n",
              "      <td>527,968</td>\n",
              "      <td>40,000</td>\n",
              "      <td>30.45</td>\n",
              "      <td>967.0</td>\n",
              "      <td>Sanaa</td>\n",
              "      <td>10,609</td>\n",
              "      <td>157.58</td>\n",
              "      <td>...</td>\n",
              "      <td>81.00%</td>\n",
              "      <td>0.31</td>\n",
              "      <td>29,161,922</td>\n",
              "      <td>38.00%</td>\n",
              "      <td>NaN</td>\n",
              "      <td>26.60%</td>\n",
              "      <td>12.91%</td>\n",
              "      <td>10,869,523</td>\n",
              "      <td>15.552727</td>\n",
              "      <td>48.516388</td>\n",
              "    </tr>\n",
              "    <tr>\n",
              "      <th>Zambia</th>\n",
              "      <td>25</td>\n",
              "      <td>ZM</td>\n",
              "      <td>32.10%</td>\n",
              "      <td>752,618</td>\n",
              "      <td>16,000</td>\n",
              "      <td>36.19</td>\n",
              "      <td>260.0</td>\n",
              "      <td>Lusaka</td>\n",
              "      <td>5,141</td>\n",
              "      <td>212.31</td>\n",
              "      <td>...</td>\n",
              "      <td>27.50%</td>\n",
              "      <td>1.19</td>\n",
              "      <td>17,861,030</td>\n",
              "      <td>74.60%</td>\n",
              "      <td>16.20%</td>\n",
              "      <td>15.60%</td>\n",
              "      <td>11.43%</td>\n",
              "      <td>7,871,713</td>\n",
              "      <td>-13.133897</td>\n",
              "      <td>27.849332</td>\n",
              "    </tr>\n",
              "    <tr>\n",
              "      <th>Zimbabwe</th>\n",
              "      <td>38</td>\n",
              "      <td>ZW</td>\n",
              "      <td>41.90%</td>\n",
              "      <td>390,757</td>\n",
              "      <td>51,000</td>\n",
              "      <td>30.68</td>\n",
              "      <td>263.0</td>\n",
              "      <td>Harare</td>\n",
              "      <td>10,983</td>\n",
              "      <td>105.51</td>\n",
              "      <td>...</td>\n",
              "      <td>25.80%</td>\n",
              "      <td>0.21</td>\n",
              "      <td>14,645,468</td>\n",
              "      <td>83.10%</td>\n",
              "      <td>20.70%</td>\n",
              "      <td>31.60%</td>\n",
              "      <td>4.95%</td>\n",
              "      <td>4,717,305</td>\n",
              "      <td>-19.015438</td>\n",
              "      <td>29.154857</td>\n",
              "    </tr>\n",
              "  </tbody>\n",
              "</table>\n",
              "<p>195 rows × 34 columns</p>\n",
              "</div>"
            ],
            "text/plain": [
              "            Density\\n(P/Km2) Abbreviation Agricultural Land( %)  \\\n",
              "Country                                                           \n",
              "Afghanistan               60           AF                58.10%   \n",
              "Albania                  105           AL                43.10%   \n",
              "Algeria                   18           DZ                17.40%   \n",
              "Andorra                  164           AD                40.00%   \n",
              "Angola                    26           AO                47.50%   \n",
              "...                      ...          ...                   ...   \n",
              "Venezuela                 32           VE                24.50%   \n",
              "Vietnam                  314           VN                39.30%   \n",
              "Yemen                     56           YE                44.60%   \n",
              "Zambia                    25           ZM                32.10%   \n",
              "Zimbabwe                  38           ZW                41.90%   \n",
              "\n",
              "            Land Area(Km2) Armed Forces size  Birth Rate  Calling Code  \\\n",
              "Country                                                                  \n",
              "Afghanistan        652,230           323,000       32.49          93.0   \n",
              "Albania             28,748             9,000       11.78         355.0   \n",
              "Algeria          2,381,741           317,000       24.28         213.0   \n",
              "Andorra                468               NaN        7.20         376.0   \n",
              "Angola           1,246,700           117,000       40.73         244.0   \n",
              "...                    ...               ...         ...           ...   \n",
              "Venezuela          912,050           343,000       17.88          58.0   \n",
              "Vietnam            331,210           522,000       16.75          84.0   \n",
              "Yemen              527,968            40,000       30.45         967.0   \n",
              "Zambia             752,618            16,000       36.19         260.0   \n",
              "Zimbabwe           390,757            51,000       30.68         263.0   \n",
              "\n",
              "            Capital/Major City Co2-Emissions       CPI  ...  \\\n",
              "Country                                                 ...   \n",
              "Afghanistan              Kabul         8,672     149.9  ...   \n",
              "Albania                 Tirana         4,536    119.05  ...   \n",
              "Algeria                Algiers       150,006    151.36  ...   \n",
              "Andorra       Andorra la Vella           469       NaN  ...   \n",
              "Angola                  Luanda        34,693    261.73  ...   \n",
              "...                        ...           ...       ...  ...   \n",
              "Venezuela              Caracas       164,175  2,740.27  ...   \n",
              "Vietnam                  Hanoi       192,668    163.52  ...   \n",
              "Yemen                    Sanaa        10,609    157.58  ...   \n",
              "Zambia                  Lusaka         5,141    212.31  ...   \n",
              "Zimbabwe                Harare        10,983    105.51  ...   \n",
              "\n",
              "            Out of pocket health expenditure Physicians per thousand  \\\n",
              "Country                                                                \n",
              "Afghanistan                           78.40%                    0.28   \n",
              "Albania                               56.90%                    1.20   \n",
              "Algeria                               28.10%                    1.72   \n",
              "Andorra                               36.40%                    3.33   \n",
              "Angola                                33.40%                    0.21   \n",
              "...                                      ...                     ...   \n",
              "Venezuela                             45.80%                    1.92   \n",
              "Vietnam                               43.50%                    0.82   \n",
              "Yemen                                 81.00%                    0.31   \n",
              "Zambia                                27.50%                    1.19   \n",
              "Zimbabwe                              25.80%                    0.21   \n",
              "\n",
              "             Population Population: Labor force participation (%)  \\\n",
              "Country                                                             \n",
              "Afghanistan  38,041,754                                    48.90%   \n",
              "Albania       2,854,191                                    55.70%   \n",
              "Algeria      43,053,054                                    41.20%   \n",
              "Andorra          77,142                                       NaN   \n",
              "Angola       31,825,295                                    77.50%   \n",
              "...                 ...                                       ...   \n",
              "Venezuela    28,515,829                                    59.70%   \n",
              "Vietnam      96,462,106                                    77.40%   \n",
              "Yemen        29,161,922                                    38.00%   \n",
              "Zambia       17,861,030                                    74.60%   \n",
              "Zimbabwe     14,645,468                                    83.10%   \n",
              "\n",
              "            Tax revenue (%) Total tax rate Unemployment rate Urban_population  \\\n",
              "Country                                                                         \n",
              "Afghanistan           9.30%         71.40%            11.12%        9,797,273   \n",
              "Albania              18.60%         36.60%            12.33%        1,747,593   \n",
              "Algeria              37.20%         66.10%            11.70%       31,510,100   \n",
              "Andorra                 NaN            NaN               NaN           67,873   \n",
              "Angola                9.20%         49.10%             6.89%       21,061,025   \n",
              "...                     ...            ...               ...              ...   \n",
              "Venezuela               NaN         73.30%             8.80%       25,162,368   \n",
              "Vietnam              19.10%         37.60%             2.01%       35,332,140   \n",
              "Yemen                   NaN         26.60%            12.91%       10,869,523   \n",
              "Zambia               16.20%         15.60%            11.43%        7,871,713   \n",
              "Zimbabwe             20.70%         31.60%             4.95%        4,717,305   \n",
              "\n",
              "              Latitude   Longitude  \n",
              "Country                             \n",
              "Afghanistan  33.939110   67.709953  \n",
              "Albania      41.153332   20.168331  \n",
              "Algeria      28.033886    1.659626  \n",
              "Andorra      42.506285    1.521801  \n",
              "Angola      -11.202692   17.873887  \n",
              "...                ...         ...  \n",
              "Venezuela     6.423750  -66.589730  \n",
              "Vietnam      14.058324  108.277199  \n",
              "Yemen        15.552727   48.516388  \n",
              "Zambia      -13.133897   27.849332  \n",
              "Zimbabwe    -19.015438   29.154857  \n",
              "\n",
              "[195 rows x 34 columns]"
            ]
          },
          "execution_count": 110,
          "metadata": {},
          "output_type": "execute_result"
        }
      ],
      "source": [
        "df"
      ]
    },
    {
      "cell_type": "markdown",
      "metadata": {
        "id": "PoHX7XIuGso9"
      },
      "source": [
        "Если мы заходим удалить столбец, то это можно сделать с помощью метода `df.drop`, которому нужно передать название столбца и параметр \"axis=1\".\n",
        "\n",
        "Однако, есть особенность."
      ]
    },
    {
      "cell_type": "code",
      "execution_count": null,
      "metadata": {
        "colab": {
          "base_uri": "https://localhost:8080/",
          "height": 565
        },
        "id": "MB0IjD3bG45I",
        "outputId": "ff475bb8-b0d8-475a-e01b-de6178d6044a"
      },
      "outputs": [
        {
          "data": {
            "text/html": [
              "<div>\n",
              "<style scoped>\n",
              "    .dataframe tbody tr th:only-of-type {\n",
              "        vertical-align: middle;\n",
              "    }\n",
              "\n",
              "    .dataframe tbody tr th {\n",
              "        vertical-align: top;\n",
              "    }\n",
              "\n",
              "    .dataframe thead th {\n",
              "        text-align: right;\n",
              "    }\n",
              "</style>\n",
              "<table border=\"1\" class=\"dataframe\">\n",
              "  <thead>\n",
              "    <tr style=\"text-align: right;\">\n",
              "      <th></th>\n",
              "      <th>Abbreviation</th>\n",
              "      <th>Agricultural Land( %)</th>\n",
              "      <th>Land Area(Km2)</th>\n",
              "      <th>Armed Forces size</th>\n",
              "      <th>Birth Rate</th>\n",
              "      <th>Calling Code</th>\n",
              "      <th>Capital/Major City</th>\n",
              "      <th>Co2-Emissions</th>\n",
              "      <th>CPI</th>\n",
              "      <th>CPI Change (%)</th>\n",
              "      <th>...</th>\n",
              "      <th>Out of pocket health expenditure</th>\n",
              "      <th>Physicians per thousand</th>\n",
              "      <th>Population</th>\n",
              "      <th>Population: Labor force participation (%)</th>\n",
              "      <th>Tax revenue (%)</th>\n",
              "      <th>Total tax rate</th>\n",
              "      <th>Unemployment rate</th>\n",
              "      <th>Urban_population</th>\n",
              "      <th>Latitude</th>\n",
              "      <th>Longitude</th>\n",
              "    </tr>\n",
              "    <tr>\n",
              "      <th>Country</th>\n",
              "      <th></th>\n",
              "      <th></th>\n",
              "      <th></th>\n",
              "      <th></th>\n",
              "      <th></th>\n",
              "      <th></th>\n",
              "      <th></th>\n",
              "      <th></th>\n",
              "      <th></th>\n",
              "      <th></th>\n",
              "      <th></th>\n",
              "      <th></th>\n",
              "      <th></th>\n",
              "      <th></th>\n",
              "      <th></th>\n",
              "      <th></th>\n",
              "      <th></th>\n",
              "      <th></th>\n",
              "      <th></th>\n",
              "      <th></th>\n",
              "      <th></th>\n",
              "    </tr>\n",
              "  </thead>\n",
              "  <tbody>\n",
              "    <tr>\n",
              "      <th>Afghanistan</th>\n",
              "      <td>AF</td>\n",
              "      <td>58.10%</td>\n",
              "      <td>652,230</td>\n",
              "      <td>323,000</td>\n",
              "      <td>32.49</td>\n",
              "      <td>93.0</td>\n",
              "      <td>Kabul</td>\n",
              "      <td>8,672</td>\n",
              "      <td>149.9</td>\n",
              "      <td>2.30%</td>\n",
              "      <td>...</td>\n",
              "      <td>78.40%</td>\n",
              "      <td>0.28</td>\n",
              "      <td>38,041,754</td>\n",
              "      <td>48.90%</td>\n",
              "      <td>9.30%</td>\n",
              "      <td>71.40%</td>\n",
              "      <td>11.12%</td>\n",
              "      <td>9,797,273</td>\n",
              "      <td>33.939110</td>\n",
              "      <td>67.709953</td>\n",
              "    </tr>\n",
              "    <tr>\n",
              "      <th>Albania</th>\n",
              "      <td>AL</td>\n",
              "      <td>43.10%</td>\n",
              "      <td>28,748</td>\n",
              "      <td>9,000</td>\n",
              "      <td>11.78</td>\n",
              "      <td>355.0</td>\n",
              "      <td>Tirana</td>\n",
              "      <td>4,536</td>\n",
              "      <td>119.05</td>\n",
              "      <td>1.40%</td>\n",
              "      <td>...</td>\n",
              "      <td>56.90%</td>\n",
              "      <td>1.20</td>\n",
              "      <td>2,854,191</td>\n",
              "      <td>55.70%</td>\n",
              "      <td>18.60%</td>\n",
              "      <td>36.60%</td>\n",
              "      <td>12.33%</td>\n",
              "      <td>1,747,593</td>\n",
              "      <td>41.153332</td>\n",
              "      <td>20.168331</td>\n",
              "    </tr>\n",
              "    <tr>\n",
              "      <th>Algeria</th>\n",
              "      <td>DZ</td>\n",
              "      <td>17.40%</td>\n",
              "      <td>2,381,741</td>\n",
              "      <td>317,000</td>\n",
              "      <td>24.28</td>\n",
              "      <td>213.0</td>\n",
              "      <td>Algiers</td>\n",
              "      <td>150,006</td>\n",
              "      <td>151.36</td>\n",
              "      <td>2.00%</td>\n",
              "      <td>...</td>\n",
              "      <td>28.10%</td>\n",
              "      <td>1.72</td>\n",
              "      <td>43,053,054</td>\n",
              "      <td>41.20%</td>\n",
              "      <td>37.20%</td>\n",
              "      <td>66.10%</td>\n",
              "      <td>11.70%</td>\n",
              "      <td>31,510,100</td>\n",
              "      <td>28.033886</td>\n",
              "      <td>1.659626</td>\n",
              "    </tr>\n",
              "    <tr>\n",
              "      <th>Andorra</th>\n",
              "      <td>AD</td>\n",
              "      <td>40.00%</td>\n",
              "      <td>468</td>\n",
              "      <td>NaN</td>\n",
              "      <td>7.20</td>\n",
              "      <td>376.0</td>\n",
              "      <td>Andorra la Vella</td>\n",
              "      <td>469</td>\n",
              "      <td>NaN</td>\n",
              "      <td>NaN</td>\n",
              "      <td>...</td>\n",
              "      <td>36.40%</td>\n",
              "      <td>3.33</td>\n",
              "      <td>77,142</td>\n",
              "      <td>NaN</td>\n",
              "      <td>NaN</td>\n",
              "      <td>NaN</td>\n",
              "      <td>NaN</td>\n",
              "      <td>67,873</td>\n",
              "      <td>42.506285</td>\n",
              "      <td>1.521801</td>\n",
              "    </tr>\n",
              "    <tr>\n",
              "      <th>Angola</th>\n",
              "      <td>AO</td>\n",
              "      <td>47.50%</td>\n",
              "      <td>1,246,700</td>\n",
              "      <td>117,000</td>\n",
              "      <td>40.73</td>\n",
              "      <td>244.0</td>\n",
              "      <td>Luanda</td>\n",
              "      <td>34,693</td>\n",
              "      <td>261.73</td>\n",
              "      <td>17.10%</td>\n",
              "      <td>...</td>\n",
              "      <td>33.40%</td>\n",
              "      <td>0.21</td>\n",
              "      <td>31,825,295</td>\n",
              "      <td>77.50%</td>\n",
              "      <td>9.20%</td>\n",
              "      <td>49.10%</td>\n",
              "      <td>6.89%</td>\n",
              "      <td>21,061,025</td>\n",
              "      <td>-11.202692</td>\n",
              "      <td>17.873887</td>\n",
              "    </tr>\n",
              "    <tr>\n",
              "      <th>...</th>\n",
              "      <td>...</td>\n",
              "      <td>...</td>\n",
              "      <td>...</td>\n",
              "      <td>...</td>\n",
              "      <td>...</td>\n",
              "      <td>...</td>\n",
              "      <td>...</td>\n",
              "      <td>...</td>\n",
              "      <td>...</td>\n",
              "      <td>...</td>\n",
              "      <td>...</td>\n",
              "      <td>...</td>\n",
              "      <td>...</td>\n",
              "      <td>...</td>\n",
              "      <td>...</td>\n",
              "      <td>...</td>\n",
              "      <td>...</td>\n",
              "      <td>...</td>\n",
              "      <td>...</td>\n",
              "      <td>...</td>\n",
              "      <td>...</td>\n",
              "    </tr>\n",
              "    <tr>\n",
              "      <th>Venezuela</th>\n",
              "      <td>VE</td>\n",
              "      <td>24.50%</td>\n",
              "      <td>912,050</td>\n",
              "      <td>343,000</td>\n",
              "      <td>17.88</td>\n",
              "      <td>58.0</td>\n",
              "      <td>Caracas</td>\n",
              "      <td>164,175</td>\n",
              "      <td>2,740.27</td>\n",
              "      <td>254.90%</td>\n",
              "      <td>...</td>\n",
              "      <td>45.80%</td>\n",
              "      <td>1.92</td>\n",
              "      <td>28,515,829</td>\n",
              "      <td>59.70%</td>\n",
              "      <td>NaN</td>\n",
              "      <td>73.30%</td>\n",
              "      <td>8.80%</td>\n",
              "      <td>25,162,368</td>\n",
              "      <td>6.423750</td>\n",
              "      <td>-66.589730</td>\n",
              "    </tr>\n",
              "    <tr>\n",
              "      <th>Vietnam</th>\n",
              "      <td>VN</td>\n",
              "      <td>39.30%</td>\n",
              "      <td>331,210</td>\n",
              "      <td>522,000</td>\n",
              "      <td>16.75</td>\n",
              "      <td>84.0</td>\n",
              "      <td>Hanoi</td>\n",
              "      <td>192,668</td>\n",
              "      <td>163.52</td>\n",
              "      <td>2.80%</td>\n",
              "      <td>...</td>\n",
              "      <td>43.50%</td>\n",
              "      <td>0.82</td>\n",
              "      <td>96,462,106</td>\n",
              "      <td>77.40%</td>\n",
              "      <td>19.10%</td>\n",
              "      <td>37.60%</td>\n",
              "      <td>2.01%</td>\n",
              "      <td>35,332,140</td>\n",
              "      <td>14.058324</td>\n",
              "      <td>108.277199</td>\n",
              "    </tr>\n",
              "    <tr>\n",
              "      <th>Yemen</th>\n",
              "      <td>YE</td>\n",
              "      <td>44.60%</td>\n",
              "      <td>527,968</td>\n",
              "      <td>40,000</td>\n",
              "      <td>30.45</td>\n",
              "      <td>967.0</td>\n",
              "      <td>Sanaa</td>\n",
              "      <td>10,609</td>\n",
              "      <td>157.58</td>\n",
              "      <td>8.10%</td>\n",
              "      <td>...</td>\n",
              "      <td>81.00%</td>\n",
              "      <td>0.31</td>\n",
              "      <td>29,161,922</td>\n",
              "      <td>38.00%</td>\n",
              "      <td>NaN</td>\n",
              "      <td>26.60%</td>\n",
              "      <td>12.91%</td>\n",
              "      <td>10,869,523</td>\n",
              "      <td>15.552727</td>\n",
              "      <td>48.516388</td>\n",
              "    </tr>\n",
              "    <tr>\n",
              "      <th>Zambia</th>\n",
              "      <td>ZM</td>\n",
              "      <td>32.10%</td>\n",
              "      <td>752,618</td>\n",
              "      <td>16,000</td>\n",
              "      <td>36.19</td>\n",
              "      <td>260.0</td>\n",
              "      <td>Lusaka</td>\n",
              "      <td>5,141</td>\n",
              "      <td>212.31</td>\n",
              "      <td>9.20%</td>\n",
              "      <td>...</td>\n",
              "      <td>27.50%</td>\n",
              "      <td>1.19</td>\n",
              "      <td>17,861,030</td>\n",
              "      <td>74.60%</td>\n",
              "      <td>16.20%</td>\n",
              "      <td>15.60%</td>\n",
              "      <td>11.43%</td>\n",
              "      <td>7,871,713</td>\n",
              "      <td>-13.133897</td>\n",
              "      <td>27.849332</td>\n",
              "    </tr>\n",
              "    <tr>\n",
              "      <th>Zimbabwe</th>\n",
              "      <td>ZW</td>\n",
              "      <td>41.90%</td>\n",
              "      <td>390,757</td>\n",
              "      <td>51,000</td>\n",
              "      <td>30.68</td>\n",
              "      <td>263.0</td>\n",
              "      <td>Harare</td>\n",
              "      <td>10,983</td>\n",
              "      <td>105.51</td>\n",
              "      <td>0.90%</td>\n",
              "      <td>...</td>\n",
              "      <td>25.80%</td>\n",
              "      <td>0.21</td>\n",
              "      <td>14,645,468</td>\n",
              "      <td>83.10%</td>\n",
              "      <td>20.70%</td>\n",
              "      <td>31.60%</td>\n",
              "      <td>4.95%</td>\n",
              "      <td>4,717,305</td>\n",
              "      <td>-19.015438</td>\n",
              "      <td>29.154857</td>\n",
              "    </tr>\n",
              "  </tbody>\n",
              "</table>\n",
              "<p>195 rows × 33 columns</p>\n",
              "</div>"
            ],
            "text/plain": [
              "            Abbreviation Agricultural Land( %) Land Area(Km2)  \\\n",
              "Country                                                         \n",
              "Afghanistan           AF                58.10%        652,230   \n",
              "Albania               AL                43.10%         28,748   \n",
              "Algeria               DZ                17.40%      2,381,741   \n",
              "Andorra               AD                40.00%            468   \n",
              "Angola                AO                47.50%      1,246,700   \n",
              "...                  ...                   ...            ...   \n",
              "Venezuela             VE                24.50%        912,050   \n",
              "Vietnam               VN                39.30%        331,210   \n",
              "Yemen                 YE                44.60%        527,968   \n",
              "Zambia                ZM                32.10%        752,618   \n",
              "Zimbabwe              ZW                41.90%        390,757   \n",
              "\n",
              "            Armed Forces size  Birth Rate  Calling Code Capital/Major City  \\\n",
              "Country                                                                      \n",
              "Afghanistan           323,000       32.49          93.0              Kabul   \n",
              "Albania                 9,000       11.78         355.0             Tirana   \n",
              "Algeria               317,000       24.28         213.0            Algiers   \n",
              "Andorra                   NaN        7.20         376.0   Andorra la Vella   \n",
              "Angola                117,000       40.73         244.0             Luanda   \n",
              "...                       ...         ...           ...                ...   \n",
              "Venezuela             343,000       17.88          58.0            Caracas   \n",
              "Vietnam               522,000       16.75          84.0              Hanoi   \n",
              "Yemen                  40,000       30.45         967.0              Sanaa   \n",
              "Zambia                 16,000       36.19         260.0             Lusaka   \n",
              "Zimbabwe               51,000       30.68         263.0             Harare   \n",
              "\n",
              "            Co2-Emissions       CPI CPI Change (%)  ...  \\\n",
              "Country                                             ...   \n",
              "Afghanistan         8,672     149.9          2.30%  ...   \n",
              "Albania             4,536    119.05          1.40%  ...   \n",
              "Algeria           150,006    151.36          2.00%  ...   \n",
              "Andorra               469       NaN            NaN  ...   \n",
              "Angola             34,693    261.73         17.10%  ...   \n",
              "...                   ...       ...            ...  ...   \n",
              "Venezuela         164,175  2,740.27        254.90%  ...   \n",
              "Vietnam           192,668    163.52          2.80%  ...   \n",
              "Yemen              10,609    157.58          8.10%  ...   \n",
              "Zambia              5,141    212.31          9.20%  ...   \n",
              "Zimbabwe           10,983    105.51          0.90%  ...   \n",
              "\n",
              "            Out of pocket health expenditure  Physicians per thousand  \\\n",
              "Country                                                                 \n",
              "Afghanistan                           78.40%                     0.28   \n",
              "Albania                               56.90%                     1.20   \n",
              "Algeria                               28.10%                     1.72   \n",
              "Andorra                               36.40%                     3.33   \n",
              "Angola                                33.40%                     0.21   \n",
              "...                                      ...                      ...   \n",
              "Venezuela                             45.80%                     1.92   \n",
              "Vietnam                               43.50%                     0.82   \n",
              "Yemen                                 81.00%                     0.31   \n",
              "Zambia                                27.50%                     1.19   \n",
              "Zimbabwe                              25.80%                     0.21   \n",
              "\n",
              "             Population Population: Labor force participation (%)  \\\n",
              "Country                                                             \n",
              "Afghanistan  38,041,754                                    48.90%   \n",
              "Albania       2,854,191                                    55.70%   \n",
              "Algeria      43,053,054                                    41.20%   \n",
              "Andorra          77,142                                       NaN   \n",
              "Angola       31,825,295                                    77.50%   \n",
              "...                 ...                                       ...   \n",
              "Venezuela    28,515,829                                    59.70%   \n",
              "Vietnam      96,462,106                                    77.40%   \n",
              "Yemen        29,161,922                                    38.00%   \n",
              "Zambia       17,861,030                                    74.60%   \n",
              "Zimbabwe     14,645,468                                    83.10%   \n",
              "\n",
              "            Tax revenue (%) Total tax rate Unemployment rate  \\\n",
              "Country                                                        \n",
              "Afghanistan           9.30%         71.40%            11.12%   \n",
              "Albania              18.60%         36.60%            12.33%   \n",
              "Algeria              37.20%         66.10%            11.70%   \n",
              "Andorra                 NaN            NaN               NaN   \n",
              "Angola                9.20%         49.10%             6.89%   \n",
              "...                     ...            ...               ...   \n",
              "Venezuela               NaN         73.30%             8.80%   \n",
              "Vietnam              19.10%         37.60%             2.01%   \n",
              "Yemen                   NaN         26.60%            12.91%   \n",
              "Zambia               16.20%         15.60%            11.43%   \n",
              "Zimbabwe             20.70%         31.60%             4.95%   \n",
              "\n",
              "             Urban_population   Latitude   Longitude  \n",
              "Country                                               \n",
              "Afghanistan         9,797,273  33.939110   67.709953  \n",
              "Albania             1,747,593  41.153332   20.168331  \n",
              "Algeria            31,510,100  28.033886    1.659626  \n",
              "Andorra                67,873  42.506285    1.521801  \n",
              "Angola             21,061,025 -11.202692   17.873887  \n",
              "...                       ...        ...         ...  \n",
              "Venezuela          25,162,368   6.423750  -66.589730  \n",
              "Vietnam            35,332,140  14.058324  108.277199  \n",
              "Yemen              10,869,523  15.552727   48.516388  \n",
              "Zambia              7,871,713 -13.133897   27.849332  \n",
              "Zimbabwe            4,717,305 -19.015438   29.154857  \n",
              "\n",
              "[195 rows x 33 columns]"
            ]
          },
          "execution_count": 111,
          "metadata": {},
          "output_type": "execute_result"
        }
      ],
      "source": [
        "df.drop('Density\\n(P/Km2)', axis=1)"
      ]
    },
    {
      "cell_type": "markdown",
      "metadata": {
        "id": "kf7GfpKuHXa0"
      },
      "source": [
        "Однако, есть особенность.\n",
        "\n",
        "Если снова вывести датасет, то удаленный столбец окажется на своем месте"
      ]
    },
    {
      "cell_type": "code",
      "execution_count": null,
      "metadata": {
        "colab": {
          "base_uri": "https://localhost:8080/",
          "height": 565
        },
        "id": "19gJ2nKbHWKa",
        "outputId": "c083347f-33f4-4a2d-c06e-186c2d54d418"
      },
      "outputs": [
        {
          "data": {
            "text/html": [
              "<div>\n",
              "<style scoped>\n",
              "    .dataframe tbody tr th:only-of-type {\n",
              "        vertical-align: middle;\n",
              "    }\n",
              "\n",
              "    .dataframe tbody tr th {\n",
              "        vertical-align: top;\n",
              "    }\n",
              "\n",
              "    .dataframe thead th {\n",
              "        text-align: right;\n",
              "    }\n",
              "</style>\n",
              "<table border=\"1\" class=\"dataframe\">\n",
              "  <thead>\n",
              "    <tr style=\"text-align: right;\">\n",
              "      <th></th>\n",
              "      <th>Density\\n(P/Km2)</th>\n",
              "      <th>Abbreviation</th>\n",
              "      <th>Agricultural Land( %)</th>\n",
              "      <th>Land Area(Km2)</th>\n",
              "      <th>Armed Forces size</th>\n",
              "      <th>Birth Rate</th>\n",
              "      <th>Calling Code</th>\n",
              "      <th>Capital/Major City</th>\n",
              "      <th>Co2-Emissions</th>\n",
              "      <th>CPI</th>\n",
              "      <th>...</th>\n",
              "      <th>Out of pocket health expenditure</th>\n",
              "      <th>Physicians per thousand</th>\n",
              "      <th>Population</th>\n",
              "      <th>Population: Labor force participation (%)</th>\n",
              "      <th>Tax revenue (%)</th>\n",
              "      <th>Total tax rate</th>\n",
              "      <th>Unemployment rate</th>\n",
              "      <th>Urban_population</th>\n",
              "      <th>Latitude</th>\n",
              "      <th>Longitude</th>\n",
              "    </tr>\n",
              "    <tr>\n",
              "      <th>Country</th>\n",
              "      <th></th>\n",
              "      <th></th>\n",
              "      <th></th>\n",
              "      <th></th>\n",
              "      <th></th>\n",
              "      <th></th>\n",
              "      <th></th>\n",
              "      <th></th>\n",
              "      <th></th>\n",
              "      <th></th>\n",
              "      <th></th>\n",
              "      <th></th>\n",
              "      <th></th>\n",
              "      <th></th>\n",
              "      <th></th>\n",
              "      <th></th>\n",
              "      <th></th>\n",
              "      <th></th>\n",
              "      <th></th>\n",
              "      <th></th>\n",
              "      <th></th>\n",
              "    </tr>\n",
              "  </thead>\n",
              "  <tbody>\n",
              "    <tr>\n",
              "      <th>Afghanistan</th>\n",
              "      <td>60</td>\n",
              "      <td>AF</td>\n",
              "      <td>58.10%</td>\n",
              "      <td>652,230</td>\n",
              "      <td>323,000</td>\n",
              "      <td>32.49</td>\n",
              "      <td>93.0</td>\n",
              "      <td>Kabul</td>\n",
              "      <td>8,672</td>\n",
              "      <td>149.9</td>\n",
              "      <td>...</td>\n",
              "      <td>78.40%</td>\n",
              "      <td>0.28</td>\n",
              "      <td>38,041,754</td>\n",
              "      <td>48.90%</td>\n",
              "      <td>9.30%</td>\n",
              "      <td>71.40%</td>\n",
              "      <td>11.12%</td>\n",
              "      <td>9,797,273</td>\n",
              "      <td>33.939110</td>\n",
              "      <td>67.709953</td>\n",
              "    </tr>\n",
              "    <tr>\n",
              "      <th>Albania</th>\n",
              "      <td>105</td>\n",
              "      <td>AL</td>\n",
              "      <td>43.10%</td>\n",
              "      <td>28,748</td>\n",
              "      <td>9,000</td>\n",
              "      <td>11.78</td>\n",
              "      <td>355.0</td>\n",
              "      <td>Tirana</td>\n",
              "      <td>4,536</td>\n",
              "      <td>119.05</td>\n",
              "      <td>...</td>\n",
              "      <td>56.90%</td>\n",
              "      <td>1.20</td>\n",
              "      <td>2,854,191</td>\n",
              "      <td>55.70%</td>\n",
              "      <td>18.60%</td>\n",
              "      <td>36.60%</td>\n",
              "      <td>12.33%</td>\n",
              "      <td>1,747,593</td>\n",
              "      <td>41.153332</td>\n",
              "      <td>20.168331</td>\n",
              "    </tr>\n",
              "    <tr>\n",
              "      <th>Algeria</th>\n",
              "      <td>18</td>\n",
              "      <td>DZ</td>\n",
              "      <td>17.40%</td>\n",
              "      <td>2,381,741</td>\n",
              "      <td>317,000</td>\n",
              "      <td>24.28</td>\n",
              "      <td>213.0</td>\n",
              "      <td>Algiers</td>\n",
              "      <td>150,006</td>\n",
              "      <td>151.36</td>\n",
              "      <td>...</td>\n",
              "      <td>28.10%</td>\n",
              "      <td>1.72</td>\n",
              "      <td>43,053,054</td>\n",
              "      <td>41.20%</td>\n",
              "      <td>37.20%</td>\n",
              "      <td>66.10%</td>\n",
              "      <td>11.70%</td>\n",
              "      <td>31,510,100</td>\n",
              "      <td>28.033886</td>\n",
              "      <td>1.659626</td>\n",
              "    </tr>\n",
              "    <tr>\n",
              "      <th>Andorra</th>\n",
              "      <td>164</td>\n",
              "      <td>AD</td>\n",
              "      <td>40.00%</td>\n",
              "      <td>468</td>\n",
              "      <td>NaN</td>\n",
              "      <td>7.20</td>\n",
              "      <td>376.0</td>\n",
              "      <td>Andorra la Vella</td>\n",
              "      <td>469</td>\n",
              "      <td>NaN</td>\n",
              "      <td>...</td>\n",
              "      <td>36.40%</td>\n",
              "      <td>3.33</td>\n",
              "      <td>77,142</td>\n",
              "      <td>NaN</td>\n",
              "      <td>NaN</td>\n",
              "      <td>NaN</td>\n",
              "      <td>NaN</td>\n",
              "      <td>67,873</td>\n",
              "      <td>42.506285</td>\n",
              "      <td>1.521801</td>\n",
              "    </tr>\n",
              "    <tr>\n",
              "      <th>Angola</th>\n",
              "      <td>26</td>\n",
              "      <td>AO</td>\n",
              "      <td>47.50%</td>\n",
              "      <td>1,246,700</td>\n",
              "      <td>117,000</td>\n",
              "      <td>40.73</td>\n",
              "      <td>244.0</td>\n",
              "      <td>Luanda</td>\n",
              "      <td>34,693</td>\n",
              "      <td>261.73</td>\n",
              "      <td>...</td>\n",
              "      <td>33.40%</td>\n",
              "      <td>0.21</td>\n",
              "      <td>31,825,295</td>\n",
              "      <td>77.50%</td>\n",
              "      <td>9.20%</td>\n",
              "      <td>49.10%</td>\n",
              "      <td>6.89%</td>\n",
              "      <td>21,061,025</td>\n",
              "      <td>-11.202692</td>\n",
              "      <td>17.873887</td>\n",
              "    </tr>\n",
              "    <tr>\n",
              "      <th>...</th>\n",
              "      <td>...</td>\n",
              "      <td>...</td>\n",
              "      <td>...</td>\n",
              "      <td>...</td>\n",
              "      <td>...</td>\n",
              "      <td>...</td>\n",
              "      <td>...</td>\n",
              "      <td>...</td>\n",
              "      <td>...</td>\n",
              "      <td>...</td>\n",
              "      <td>...</td>\n",
              "      <td>...</td>\n",
              "      <td>...</td>\n",
              "      <td>...</td>\n",
              "      <td>...</td>\n",
              "      <td>...</td>\n",
              "      <td>...</td>\n",
              "      <td>...</td>\n",
              "      <td>...</td>\n",
              "      <td>...</td>\n",
              "      <td>...</td>\n",
              "    </tr>\n",
              "    <tr>\n",
              "      <th>Venezuela</th>\n",
              "      <td>32</td>\n",
              "      <td>VE</td>\n",
              "      <td>24.50%</td>\n",
              "      <td>912,050</td>\n",
              "      <td>343,000</td>\n",
              "      <td>17.88</td>\n",
              "      <td>58.0</td>\n",
              "      <td>Caracas</td>\n",
              "      <td>164,175</td>\n",
              "      <td>2,740.27</td>\n",
              "      <td>...</td>\n",
              "      <td>45.80%</td>\n",
              "      <td>1.92</td>\n",
              "      <td>28,515,829</td>\n",
              "      <td>59.70%</td>\n",
              "      <td>NaN</td>\n",
              "      <td>73.30%</td>\n",
              "      <td>8.80%</td>\n",
              "      <td>25,162,368</td>\n",
              "      <td>6.423750</td>\n",
              "      <td>-66.589730</td>\n",
              "    </tr>\n",
              "    <tr>\n",
              "      <th>Vietnam</th>\n",
              "      <td>314</td>\n",
              "      <td>VN</td>\n",
              "      <td>39.30%</td>\n",
              "      <td>331,210</td>\n",
              "      <td>522,000</td>\n",
              "      <td>16.75</td>\n",
              "      <td>84.0</td>\n",
              "      <td>Hanoi</td>\n",
              "      <td>192,668</td>\n",
              "      <td>163.52</td>\n",
              "      <td>...</td>\n",
              "      <td>43.50%</td>\n",
              "      <td>0.82</td>\n",
              "      <td>96,462,106</td>\n",
              "      <td>77.40%</td>\n",
              "      <td>19.10%</td>\n",
              "      <td>37.60%</td>\n",
              "      <td>2.01%</td>\n",
              "      <td>35,332,140</td>\n",
              "      <td>14.058324</td>\n",
              "      <td>108.277199</td>\n",
              "    </tr>\n",
              "    <tr>\n",
              "      <th>Yemen</th>\n",
              "      <td>56</td>\n",
              "      <td>YE</td>\n",
              "      <td>44.60%</td>\n",
              "      <td>527,968</td>\n",
              "      <td>40,000</td>\n",
              "      <td>30.45</td>\n",
              "      <td>967.0</td>\n",
              "      <td>Sanaa</td>\n",
              "      <td>10,609</td>\n",
              "      <td>157.58</td>\n",
              "      <td>...</td>\n",
              "      <td>81.00%</td>\n",
              "      <td>0.31</td>\n",
              "      <td>29,161,922</td>\n",
              "      <td>38.00%</td>\n",
              "      <td>NaN</td>\n",
              "      <td>26.60%</td>\n",
              "      <td>12.91%</td>\n",
              "      <td>10,869,523</td>\n",
              "      <td>15.552727</td>\n",
              "      <td>48.516388</td>\n",
              "    </tr>\n",
              "    <tr>\n",
              "      <th>Zambia</th>\n",
              "      <td>25</td>\n",
              "      <td>ZM</td>\n",
              "      <td>32.10%</td>\n",
              "      <td>752,618</td>\n",
              "      <td>16,000</td>\n",
              "      <td>36.19</td>\n",
              "      <td>260.0</td>\n",
              "      <td>Lusaka</td>\n",
              "      <td>5,141</td>\n",
              "      <td>212.31</td>\n",
              "      <td>...</td>\n",
              "      <td>27.50%</td>\n",
              "      <td>1.19</td>\n",
              "      <td>17,861,030</td>\n",
              "      <td>74.60%</td>\n",
              "      <td>16.20%</td>\n",
              "      <td>15.60%</td>\n",
              "      <td>11.43%</td>\n",
              "      <td>7,871,713</td>\n",
              "      <td>-13.133897</td>\n",
              "      <td>27.849332</td>\n",
              "    </tr>\n",
              "    <tr>\n",
              "      <th>Zimbabwe</th>\n",
              "      <td>38</td>\n",
              "      <td>ZW</td>\n",
              "      <td>41.90%</td>\n",
              "      <td>390,757</td>\n",
              "      <td>51,000</td>\n",
              "      <td>30.68</td>\n",
              "      <td>263.0</td>\n",
              "      <td>Harare</td>\n",
              "      <td>10,983</td>\n",
              "      <td>105.51</td>\n",
              "      <td>...</td>\n",
              "      <td>25.80%</td>\n",
              "      <td>0.21</td>\n",
              "      <td>14,645,468</td>\n",
              "      <td>83.10%</td>\n",
              "      <td>20.70%</td>\n",
              "      <td>31.60%</td>\n",
              "      <td>4.95%</td>\n",
              "      <td>4,717,305</td>\n",
              "      <td>-19.015438</td>\n",
              "      <td>29.154857</td>\n",
              "    </tr>\n",
              "  </tbody>\n",
              "</table>\n",
              "<p>195 rows × 34 columns</p>\n",
              "</div>"
            ],
            "text/plain": [
              "            Density\\n(P/Km2) Abbreviation Agricultural Land( %)  \\\n",
              "Country                                                           \n",
              "Afghanistan               60           AF                58.10%   \n",
              "Albania                  105           AL                43.10%   \n",
              "Algeria                   18           DZ                17.40%   \n",
              "Andorra                  164           AD                40.00%   \n",
              "Angola                    26           AO                47.50%   \n",
              "...                      ...          ...                   ...   \n",
              "Venezuela                 32           VE                24.50%   \n",
              "Vietnam                  314           VN                39.30%   \n",
              "Yemen                     56           YE                44.60%   \n",
              "Zambia                    25           ZM                32.10%   \n",
              "Zimbabwe                  38           ZW                41.90%   \n",
              "\n",
              "            Land Area(Km2) Armed Forces size  Birth Rate  Calling Code  \\\n",
              "Country                                                                  \n",
              "Afghanistan        652,230           323,000       32.49          93.0   \n",
              "Albania             28,748             9,000       11.78         355.0   \n",
              "Algeria          2,381,741           317,000       24.28         213.0   \n",
              "Andorra                468               NaN        7.20         376.0   \n",
              "Angola           1,246,700           117,000       40.73         244.0   \n",
              "...                    ...               ...         ...           ...   \n",
              "Venezuela          912,050           343,000       17.88          58.0   \n",
              "Vietnam            331,210           522,000       16.75          84.0   \n",
              "Yemen              527,968            40,000       30.45         967.0   \n",
              "Zambia             752,618            16,000       36.19         260.0   \n",
              "Zimbabwe           390,757            51,000       30.68         263.0   \n",
              "\n",
              "            Capital/Major City Co2-Emissions       CPI  ...  \\\n",
              "Country                                                 ...   \n",
              "Afghanistan              Kabul         8,672     149.9  ...   \n",
              "Albania                 Tirana         4,536    119.05  ...   \n",
              "Algeria                Algiers       150,006    151.36  ...   \n",
              "Andorra       Andorra la Vella           469       NaN  ...   \n",
              "Angola                  Luanda        34,693    261.73  ...   \n",
              "...                        ...           ...       ...  ...   \n",
              "Venezuela              Caracas       164,175  2,740.27  ...   \n",
              "Vietnam                  Hanoi       192,668    163.52  ...   \n",
              "Yemen                    Sanaa        10,609    157.58  ...   \n",
              "Zambia                  Lusaka         5,141    212.31  ...   \n",
              "Zimbabwe                Harare        10,983    105.51  ...   \n",
              "\n",
              "            Out of pocket health expenditure Physicians per thousand  \\\n",
              "Country                                                                \n",
              "Afghanistan                           78.40%                    0.28   \n",
              "Albania                               56.90%                    1.20   \n",
              "Algeria                               28.10%                    1.72   \n",
              "Andorra                               36.40%                    3.33   \n",
              "Angola                                33.40%                    0.21   \n",
              "...                                      ...                     ...   \n",
              "Venezuela                             45.80%                    1.92   \n",
              "Vietnam                               43.50%                    0.82   \n",
              "Yemen                                 81.00%                    0.31   \n",
              "Zambia                                27.50%                    1.19   \n",
              "Zimbabwe                              25.80%                    0.21   \n",
              "\n",
              "             Population Population: Labor force participation (%)  \\\n",
              "Country                                                             \n",
              "Afghanistan  38,041,754                                    48.90%   \n",
              "Albania       2,854,191                                    55.70%   \n",
              "Algeria      43,053,054                                    41.20%   \n",
              "Andorra          77,142                                       NaN   \n",
              "Angola       31,825,295                                    77.50%   \n",
              "...                 ...                                       ...   \n",
              "Venezuela    28,515,829                                    59.70%   \n",
              "Vietnam      96,462,106                                    77.40%   \n",
              "Yemen        29,161,922                                    38.00%   \n",
              "Zambia       17,861,030                                    74.60%   \n",
              "Zimbabwe     14,645,468                                    83.10%   \n",
              "\n",
              "            Tax revenue (%) Total tax rate Unemployment rate Urban_population  \\\n",
              "Country                                                                         \n",
              "Afghanistan           9.30%         71.40%            11.12%        9,797,273   \n",
              "Albania              18.60%         36.60%            12.33%        1,747,593   \n",
              "Algeria              37.20%         66.10%            11.70%       31,510,100   \n",
              "Andorra                 NaN            NaN               NaN           67,873   \n",
              "Angola                9.20%         49.10%             6.89%       21,061,025   \n",
              "...                     ...            ...               ...              ...   \n",
              "Venezuela               NaN         73.30%             8.80%       25,162,368   \n",
              "Vietnam              19.10%         37.60%             2.01%       35,332,140   \n",
              "Yemen                   NaN         26.60%            12.91%       10,869,523   \n",
              "Zambia               16.20%         15.60%            11.43%        7,871,713   \n",
              "Zimbabwe             20.70%         31.60%             4.95%        4,717,305   \n",
              "\n",
              "              Latitude   Longitude  \n",
              "Country                             \n",
              "Afghanistan  33.939110   67.709953  \n",
              "Albania      41.153332   20.168331  \n",
              "Algeria      28.033886    1.659626  \n",
              "Andorra      42.506285    1.521801  \n",
              "Angola      -11.202692   17.873887  \n",
              "...                ...         ...  \n",
              "Venezuela     6.423750  -66.589730  \n",
              "Vietnam      14.058324  108.277199  \n",
              "Yemen        15.552727   48.516388  \n",
              "Zambia      -13.133897   27.849332  \n",
              "Zimbabwe    -19.015438   29.154857  \n",
              "\n",
              "[195 rows x 34 columns]"
            ]
          },
          "execution_count": 112,
          "metadata": {},
          "output_type": "execute_result"
        }
      ],
      "source": [
        "df"
      ]
    },
    {
      "cell_type": "markdown",
      "metadata": {
        "id": "W-HqGqFGHhad"
      },
      "source": [
        "Если столбец все же нужно окончательно удалить из датасета, то нужно воспользоваться следующей конструкцией, которая переопределит исходный датасет."
      ]
    },
    {
      "cell_type": "code",
      "execution_count": null,
      "metadata": {
        "id": "f1K3isnoIMT-"
      },
      "outputs": [],
      "source": [
        "df = df.drop('Density\\n(P/Km2)', axis=1)"
      ]
    },
    {
      "cell_type": "code",
      "execution_count": null,
      "metadata": {
        "colab": {
          "base_uri": "https://localhost:8080/",
          "height": 565
        },
        "id": "vQRtB361Iak0",
        "outputId": "bea986ea-be31-4a10-ff9b-56679ce8c32a"
      },
      "outputs": [
        {
          "data": {
            "text/html": [
              "<div>\n",
              "<style scoped>\n",
              "    .dataframe tbody tr th:only-of-type {\n",
              "        vertical-align: middle;\n",
              "    }\n",
              "\n",
              "    .dataframe tbody tr th {\n",
              "        vertical-align: top;\n",
              "    }\n",
              "\n",
              "    .dataframe thead th {\n",
              "        text-align: right;\n",
              "    }\n",
              "</style>\n",
              "<table border=\"1\" class=\"dataframe\">\n",
              "  <thead>\n",
              "    <tr style=\"text-align: right;\">\n",
              "      <th></th>\n",
              "      <th>Abbreviation</th>\n",
              "      <th>Agricultural Land( %)</th>\n",
              "      <th>Land Area(Km2)</th>\n",
              "      <th>Armed Forces size</th>\n",
              "      <th>Birth Rate</th>\n",
              "      <th>Calling Code</th>\n",
              "      <th>Capital/Major City</th>\n",
              "      <th>Co2-Emissions</th>\n",
              "      <th>CPI</th>\n",
              "      <th>CPI Change (%)</th>\n",
              "      <th>...</th>\n",
              "      <th>Out of pocket health expenditure</th>\n",
              "      <th>Physicians per thousand</th>\n",
              "      <th>Population</th>\n",
              "      <th>Population: Labor force participation (%)</th>\n",
              "      <th>Tax revenue (%)</th>\n",
              "      <th>Total tax rate</th>\n",
              "      <th>Unemployment rate</th>\n",
              "      <th>Urban_population</th>\n",
              "      <th>Latitude</th>\n",
              "      <th>Longitude</th>\n",
              "    </tr>\n",
              "    <tr>\n",
              "      <th>Country</th>\n",
              "      <th></th>\n",
              "      <th></th>\n",
              "      <th></th>\n",
              "      <th></th>\n",
              "      <th></th>\n",
              "      <th></th>\n",
              "      <th></th>\n",
              "      <th></th>\n",
              "      <th></th>\n",
              "      <th></th>\n",
              "      <th></th>\n",
              "      <th></th>\n",
              "      <th></th>\n",
              "      <th></th>\n",
              "      <th></th>\n",
              "      <th></th>\n",
              "      <th></th>\n",
              "      <th></th>\n",
              "      <th></th>\n",
              "      <th></th>\n",
              "      <th></th>\n",
              "    </tr>\n",
              "  </thead>\n",
              "  <tbody>\n",
              "    <tr>\n",
              "      <th>Afghanistan</th>\n",
              "      <td>AF</td>\n",
              "      <td>58.10%</td>\n",
              "      <td>652,230</td>\n",
              "      <td>323,000</td>\n",
              "      <td>32.49</td>\n",
              "      <td>93.0</td>\n",
              "      <td>Kabul</td>\n",
              "      <td>8,672</td>\n",
              "      <td>149.9</td>\n",
              "      <td>2.30%</td>\n",
              "      <td>...</td>\n",
              "      <td>78.40%</td>\n",
              "      <td>0.28</td>\n",
              "      <td>38,041,754</td>\n",
              "      <td>48.90%</td>\n",
              "      <td>9.30%</td>\n",
              "      <td>71.40%</td>\n",
              "      <td>11.12%</td>\n",
              "      <td>9,797,273</td>\n",
              "      <td>33.939110</td>\n",
              "      <td>67.709953</td>\n",
              "    </tr>\n",
              "    <tr>\n",
              "      <th>Albania</th>\n",
              "      <td>AL</td>\n",
              "      <td>43.10%</td>\n",
              "      <td>28,748</td>\n",
              "      <td>9,000</td>\n",
              "      <td>11.78</td>\n",
              "      <td>355.0</td>\n",
              "      <td>Tirana</td>\n",
              "      <td>4,536</td>\n",
              "      <td>119.05</td>\n",
              "      <td>1.40%</td>\n",
              "      <td>...</td>\n",
              "      <td>56.90%</td>\n",
              "      <td>1.20</td>\n",
              "      <td>2,854,191</td>\n",
              "      <td>55.70%</td>\n",
              "      <td>18.60%</td>\n",
              "      <td>36.60%</td>\n",
              "      <td>12.33%</td>\n",
              "      <td>1,747,593</td>\n",
              "      <td>41.153332</td>\n",
              "      <td>20.168331</td>\n",
              "    </tr>\n",
              "    <tr>\n",
              "      <th>Algeria</th>\n",
              "      <td>DZ</td>\n",
              "      <td>17.40%</td>\n",
              "      <td>2,381,741</td>\n",
              "      <td>317,000</td>\n",
              "      <td>24.28</td>\n",
              "      <td>213.0</td>\n",
              "      <td>Algiers</td>\n",
              "      <td>150,006</td>\n",
              "      <td>151.36</td>\n",
              "      <td>2.00%</td>\n",
              "      <td>...</td>\n",
              "      <td>28.10%</td>\n",
              "      <td>1.72</td>\n",
              "      <td>43,053,054</td>\n",
              "      <td>41.20%</td>\n",
              "      <td>37.20%</td>\n",
              "      <td>66.10%</td>\n",
              "      <td>11.70%</td>\n",
              "      <td>31,510,100</td>\n",
              "      <td>28.033886</td>\n",
              "      <td>1.659626</td>\n",
              "    </tr>\n",
              "    <tr>\n",
              "      <th>Andorra</th>\n",
              "      <td>AD</td>\n",
              "      <td>40.00%</td>\n",
              "      <td>468</td>\n",
              "      <td>NaN</td>\n",
              "      <td>7.20</td>\n",
              "      <td>376.0</td>\n",
              "      <td>Andorra la Vella</td>\n",
              "      <td>469</td>\n",
              "      <td>NaN</td>\n",
              "      <td>NaN</td>\n",
              "      <td>...</td>\n",
              "      <td>36.40%</td>\n",
              "      <td>3.33</td>\n",
              "      <td>77,142</td>\n",
              "      <td>NaN</td>\n",
              "      <td>NaN</td>\n",
              "      <td>NaN</td>\n",
              "      <td>NaN</td>\n",
              "      <td>67,873</td>\n",
              "      <td>42.506285</td>\n",
              "      <td>1.521801</td>\n",
              "    </tr>\n",
              "    <tr>\n",
              "      <th>Angola</th>\n",
              "      <td>AO</td>\n",
              "      <td>47.50%</td>\n",
              "      <td>1,246,700</td>\n",
              "      <td>117,000</td>\n",
              "      <td>40.73</td>\n",
              "      <td>244.0</td>\n",
              "      <td>Luanda</td>\n",
              "      <td>34,693</td>\n",
              "      <td>261.73</td>\n",
              "      <td>17.10%</td>\n",
              "      <td>...</td>\n",
              "      <td>33.40%</td>\n",
              "      <td>0.21</td>\n",
              "      <td>31,825,295</td>\n",
              "      <td>77.50%</td>\n",
              "      <td>9.20%</td>\n",
              "      <td>49.10%</td>\n",
              "      <td>6.89%</td>\n",
              "      <td>21,061,025</td>\n",
              "      <td>-11.202692</td>\n",
              "      <td>17.873887</td>\n",
              "    </tr>\n",
              "    <tr>\n",
              "      <th>...</th>\n",
              "      <td>...</td>\n",
              "      <td>...</td>\n",
              "      <td>...</td>\n",
              "      <td>...</td>\n",
              "      <td>...</td>\n",
              "      <td>...</td>\n",
              "      <td>...</td>\n",
              "      <td>...</td>\n",
              "      <td>...</td>\n",
              "      <td>...</td>\n",
              "      <td>...</td>\n",
              "      <td>...</td>\n",
              "      <td>...</td>\n",
              "      <td>...</td>\n",
              "      <td>...</td>\n",
              "      <td>...</td>\n",
              "      <td>...</td>\n",
              "      <td>...</td>\n",
              "      <td>...</td>\n",
              "      <td>...</td>\n",
              "      <td>...</td>\n",
              "    </tr>\n",
              "    <tr>\n",
              "      <th>Venezuela</th>\n",
              "      <td>VE</td>\n",
              "      <td>24.50%</td>\n",
              "      <td>912,050</td>\n",
              "      <td>343,000</td>\n",
              "      <td>17.88</td>\n",
              "      <td>58.0</td>\n",
              "      <td>Caracas</td>\n",
              "      <td>164,175</td>\n",
              "      <td>2,740.27</td>\n",
              "      <td>254.90%</td>\n",
              "      <td>...</td>\n",
              "      <td>45.80%</td>\n",
              "      <td>1.92</td>\n",
              "      <td>28,515,829</td>\n",
              "      <td>59.70%</td>\n",
              "      <td>NaN</td>\n",
              "      <td>73.30%</td>\n",
              "      <td>8.80%</td>\n",
              "      <td>25,162,368</td>\n",
              "      <td>6.423750</td>\n",
              "      <td>-66.589730</td>\n",
              "    </tr>\n",
              "    <tr>\n",
              "      <th>Vietnam</th>\n",
              "      <td>VN</td>\n",
              "      <td>39.30%</td>\n",
              "      <td>331,210</td>\n",
              "      <td>522,000</td>\n",
              "      <td>16.75</td>\n",
              "      <td>84.0</td>\n",
              "      <td>Hanoi</td>\n",
              "      <td>192,668</td>\n",
              "      <td>163.52</td>\n",
              "      <td>2.80%</td>\n",
              "      <td>...</td>\n",
              "      <td>43.50%</td>\n",
              "      <td>0.82</td>\n",
              "      <td>96,462,106</td>\n",
              "      <td>77.40%</td>\n",
              "      <td>19.10%</td>\n",
              "      <td>37.60%</td>\n",
              "      <td>2.01%</td>\n",
              "      <td>35,332,140</td>\n",
              "      <td>14.058324</td>\n",
              "      <td>108.277199</td>\n",
              "    </tr>\n",
              "    <tr>\n",
              "      <th>Yemen</th>\n",
              "      <td>YE</td>\n",
              "      <td>44.60%</td>\n",
              "      <td>527,968</td>\n",
              "      <td>40,000</td>\n",
              "      <td>30.45</td>\n",
              "      <td>967.0</td>\n",
              "      <td>Sanaa</td>\n",
              "      <td>10,609</td>\n",
              "      <td>157.58</td>\n",
              "      <td>8.10%</td>\n",
              "      <td>...</td>\n",
              "      <td>81.00%</td>\n",
              "      <td>0.31</td>\n",
              "      <td>29,161,922</td>\n",
              "      <td>38.00%</td>\n",
              "      <td>NaN</td>\n",
              "      <td>26.60%</td>\n",
              "      <td>12.91%</td>\n",
              "      <td>10,869,523</td>\n",
              "      <td>15.552727</td>\n",
              "      <td>48.516388</td>\n",
              "    </tr>\n",
              "    <tr>\n",
              "      <th>Zambia</th>\n",
              "      <td>ZM</td>\n",
              "      <td>32.10%</td>\n",
              "      <td>752,618</td>\n",
              "      <td>16,000</td>\n",
              "      <td>36.19</td>\n",
              "      <td>260.0</td>\n",
              "      <td>Lusaka</td>\n",
              "      <td>5,141</td>\n",
              "      <td>212.31</td>\n",
              "      <td>9.20%</td>\n",
              "      <td>...</td>\n",
              "      <td>27.50%</td>\n",
              "      <td>1.19</td>\n",
              "      <td>17,861,030</td>\n",
              "      <td>74.60%</td>\n",
              "      <td>16.20%</td>\n",
              "      <td>15.60%</td>\n",
              "      <td>11.43%</td>\n",
              "      <td>7,871,713</td>\n",
              "      <td>-13.133897</td>\n",
              "      <td>27.849332</td>\n",
              "    </tr>\n",
              "    <tr>\n",
              "      <th>Zimbabwe</th>\n",
              "      <td>ZW</td>\n",
              "      <td>41.90%</td>\n",
              "      <td>390,757</td>\n",
              "      <td>51,000</td>\n",
              "      <td>30.68</td>\n",
              "      <td>263.0</td>\n",
              "      <td>Harare</td>\n",
              "      <td>10,983</td>\n",
              "      <td>105.51</td>\n",
              "      <td>0.90%</td>\n",
              "      <td>...</td>\n",
              "      <td>25.80%</td>\n",
              "      <td>0.21</td>\n",
              "      <td>14,645,468</td>\n",
              "      <td>83.10%</td>\n",
              "      <td>20.70%</td>\n",
              "      <td>31.60%</td>\n",
              "      <td>4.95%</td>\n",
              "      <td>4,717,305</td>\n",
              "      <td>-19.015438</td>\n",
              "      <td>29.154857</td>\n",
              "    </tr>\n",
              "  </tbody>\n",
              "</table>\n",
              "<p>195 rows × 33 columns</p>\n",
              "</div>"
            ],
            "text/plain": [
              "            Abbreviation Agricultural Land( %) Land Area(Km2)  \\\n",
              "Country                                                         \n",
              "Afghanistan           AF                58.10%        652,230   \n",
              "Albania               AL                43.10%         28,748   \n",
              "Algeria               DZ                17.40%      2,381,741   \n",
              "Andorra               AD                40.00%            468   \n",
              "Angola                AO                47.50%      1,246,700   \n",
              "...                  ...                   ...            ...   \n",
              "Venezuela             VE                24.50%        912,050   \n",
              "Vietnam               VN                39.30%        331,210   \n",
              "Yemen                 YE                44.60%        527,968   \n",
              "Zambia                ZM                32.10%        752,618   \n",
              "Zimbabwe              ZW                41.90%        390,757   \n",
              "\n",
              "            Armed Forces size  Birth Rate  Calling Code Capital/Major City  \\\n",
              "Country                                                                      \n",
              "Afghanistan           323,000       32.49          93.0              Kabul   \n",
              "Albania                 9,000       11.78         355.0             Tirana   \n",
              "Algeria               317,000       24.28         213.0            Algiers   \n",
              "Andorra                   NaN        7.20         376.0   Andorra la Vella   \n",
              "Angola                117,000       40.73         244.0             Luanda   \n",
              "...                       ...         ...           ...                ...   \n",
              "Venezuela             343,000       17.88          58.0            Caracas   \n",
              "Vietnam               522,000       16.75          84.0              Hanoi   \n",
              "Yemen                  40,000       30.45         967.0              Sanaa   \n",
              "Zambia                 16,000       36.19         260.0             Lusaka   \n",
              "Zimbabwe               51,000       30.68         263.0             Harare   \n",
              "\n",
              "            Co2-Emissions       CPI CPI Change (%)  ...  \\\n",
              "Country                                             ...   \n",
              "Afghanistan         8,672     149.9          2.30%  ...   \n",
              "Albania             4,536    119.05          1.40%  ...   \n",
              "Algeria           150,006    151.36          2.00%  ...   \n",
              "Andorra               469       NaN            NaN  ...   \n",
              "Angola             34,693    261.73         17.10%  ...   \n",
              "...                   ...       ...            ...  ...   \n",
              "Venezuela         164,175  2,740.27        254.90%  ...   \n",
              "Vietnam           192,668    163.52          2.80%  ...   \n",
              "Yemen              10,609    157.58          8.10%  ...   \n",
              "Zambia              5,141    212.31          9.20%  ...   \n",
              "Zimbabwe           10,983    105.51          0.90%  ...   \n",
              "\n",
              "            Out of pocket health expenditure  Physicians per thousand  \\\n",
              "Country                                                                 \n",
              "Afghanistan                           78.40%                     0.28   \n",
              "Albania                               56.90%                     1.20   \n",
              "Algeria                               28.10%                     1.72   \n",
              "Andorra                               36.40%                     3.33   \n",
              "Angola                                33.40%                     0.21   \n",
              "...                                      ...                      ...   \n",
              "Venezuela                             45.80%                     1.92   \n",
              "Vietnam                               43.50%                     0.82   \n",
              "Yemen                                 81.00%                     0.31   \n",
              "Zambia                                27.50%                     1.19   \n",
              "Zimbabwe                              25.80%                     0.21   \n",
              "\n",
              "             Population Population: Labor force participation (%)  \\\n",
              "Country                                                             \n",
              "Afghanistan  38,041,754                                    48.90%   \n",
              "Albania       2,854,191                                    55.70%   \n",
              "Algeria      43,053,054                                    41.20%   \n",
              "Andorra          77,142                                       NaN   \n",
              "Angola       31,825,295                                    77.50%   \n",
              "...                 ...                                       ...   \n",
              "Venezuela    28,515,829                                    59.70%   \n",
              "Vietnam      96,462,106                                    77.40%   \n",
              "Yemen        29,161,922                                    38.00%   \n",
              "Zambia       17,861,030                                    74.60%   \n",
              "Zimbabwe     14,645,468                                    83.10%   \n",
              "\n",
              "            Tax revenue (%) Total tax rate Unemployment rate  \\\n",
              "Country                                                        \n",
              "Afghanistan           9.30%         71.40%            11.12%   \n",
              "Albania              18.60%         36.60%            12.33%   \n",
              "Algeria              37.20%         66.10%            11.70%   \n",
              "Andorra                 NaN            NaN               NaN   \n",
              "Angola                9.20%         49.10%             6.89%   \n",
              "...                     ...            ...               ...   \n",
              "Venezuela               NaN         73.30%             8.80%   \n",
              "Vietnam              19.10%         37.60%             2.01%   \n",
              "Yemen                   NaN         26.60%            12.91%   \n",
              "Zambia               16.20%         15.60%            11.43%   \n",
              "Zimbabwe             20.70%         31.60%             4.95%   \n",
              "\n",
              "             Urban_population   Latitude   Longitude  \n",
              "Country                                               \n",
              "Afghanistan         9,797,273  33.939110   67.709953  \n",
              "Albania             1,747,593  41.153332   20.168331  \n",
              "Algeria            31,510,100  28.033886    1.659626  \n",
              "Andorra                67,873  42.506285    1.521801  \n",
              "Angola             21,061,025 -11.202692   17.873887  \n",
              "...                       ...        ...         ...  \n",
              "Venezuela          25,162,368   6.423750  -66.589730  \n",
              "Vietnam            35,332,140  14.058324  108.277199  \n",
              "Yemen              10,869,523  15.552727   48.516388  \n",
              "Zambia              7,871,713 -13.133897   27.849332  \n",
              "Zimbabwe            4,717,305 -19.015438   29.154857  \n",
              "\n",
              "[195 rows x 33 columns]"
            ]
          },
          "execution_count": 114,
          "metadata": {},
          "output_type": "execute_result"
        }
      ],
      "source": [
        "df"
      ]
    },
    {
      "cell_type": "markdown",
      "metadata": {
        "id": "wDU5LitjJYpc"
      },
      "source": [
        "Удаление строки осуществляется с помощью метода `df.drop`, которому нужно передать название столбца и параметр \"axis=1\"."
      ]
    },
    {
      "cell_type": "code",
      "execution_count": null,
      "metadata": {
        "colab": {
          "base_uri": "https://localhost:8080/",
          "height": 379
        },
        "id": "rymx8OmsJhMZ",
        "outputId": "c799ee3d-f9f5-441e-cd28-5bb512288f14"
      },
      "outputs": [
        {
          "data": {
            "text/html": [
              "<div>\n",
              "<style scoped>\n",
              "    .dataframe tbody tr th:only-of-type {\n",
              "        vertical-align: middle;\n",
              "    }\n",
              "\n",
              "    .dataframe tbody tr th {\n",
              "        vertical-align: top;\n",
              "    }\n",
              "\n",
              "    .dataframe thead th {\n",
              "        text-align: right;\n",
              "    }\n",
              "</style>\n",
              "<table border=\"1\" class=\"dataframe\">\n",
              "  <thead>\n",
              "    <tr style=\"text-align: right;\">\n",
              "      <th></th>\n",
              "      <th>Abbreviation</th>\n",
              "      <th>Agricultural Land( %)</th>\n",
              "      <th>Land Area(Km2)</th>\n",
              "      <th>Armed Forces size</th>\n",
              "      <th>Birth Rate</th>\n",
              "      <th>Calling Code</th>\n",
              "      <th>Capital/Major City</th>\n",
              "      <th>Co2-Emissions</th>\n",
              "      <th>CPI</th>\n",
              "      <th>CPI Change (%)</th>\n",
              "      <th>...</th>\n",
              "      <th>Out of pocket health expenditure</th>\n",
              "      <th>Physicians per thousand</th>\n",
              "      <th>Population</th>\n",
              "      <th>Population: Labor force participation (%)</th>\n",
              "      <th>Tax revenue (%)</th>\n",
              "      <th>Total tax rate</th>\n",
              "      <th>Unemployment rate</th>\n",
              "      <th>Urban_population</th>\n",
              "      <th>Latitude</th>\n",
              "      <th>Longitude</th>\n",
              "    </tr>\n",
              "    <tr>\n",
              "      <th>Country</th>\n",
              "      <th></th>\n",
              "      <th></th>\n",
              "      <th></th>\n",
              "      <th></th>\n",
              "      <th></th>\n",
              "      <th></th>\n",
              "      <th></th>\n",
              "      <th></th>\n",
              "      <th></th>\n",
              "      <th></th>\n",
              "      <th></th>\n",
              "      <th></th>\n",
              "      <th></th>\n",
              "      <th></th>\n",
              "      <th></th>\n",
              "      <th></th>\n",
              "      <th></th>\n",
              "      <th></th>\n",
              "      <th></th>\n",
              "      <th></th>\n",
              "      <th></th>\n",
              "    </tr>\n",
              "  </thead>\n",
              "  <tbody>\n",
              "    <tr>\n",
              "      <th>Vanuatu</th>\n",
              "      <td>VU</td>\n",
              "      <td>15.30%</td>\n",
              "      <td>12,189</td>\n",
              "      <td>NaN</td>\n",
              "      <td>29.60</td>\n",
              "      <td>678.0</td>\n",
              "      <td>Port Vila</td>\n",
              "      <td>147</td>\n",
              "      <td>117.13</td>\n",
              "      <td>2.80%</td>\n",
              "      <td>...</td>\n",
              "      <td>8.90%</td>\n",
              "      <td>0.17</td>\n",
              "      <td>299,882</td>\n",
              "      <td>69.90%</td>\n",
              "      <td>17.80%</td>\n",
              "      <td>8.50%</td>\n",
              "      <td>4.39%</td>\n",
              "      <td>76,152</td>\n",
              "      <td>-15.376706</td>\n",
              "      <td>166.959158</td>\n",
              "    </tr>\n",
              "    <tr>\n",
              "      <th>Venezuela</th>\n",
              "      <td>VE</td>\n",
              "      <td>24.50%</td>\n",
              "      <td>912,050</td>\n",
              "      <td>343,000</td>\n",
              "      <td>17.88</td>\n",
              "      <td>58.0</td>\n",
              "      <td>Caracas</td>\n",
              "      <td>164,175</td>\n",
              "      <td>2,740.27</td>\n",
              "      <td>254.90%</td>\n",
              "      <td>...</td>\n",
              "      <td>45.80%</td>\n",
              "      <td>1.92</td>\n",
              "      <td>28,515,829</td>\n",
              "      <td>59.70%</td>\n",
              "      <td>NaN</td>\n",
              "      <td>73.30%</td>\n",
              "      <td>8.80%</td>\n",
              "      <td>25,162,368</td>\n",
              "      <td>6.423750</td>\n",
              "      <td>-66.589730</td>\n",
              "    </tr>\n",
              "    <tr>\n",
              "      <th>Vietnam</th>\n",
              "      <td>VN</td>\n",
              "      <td>39.30%</td>\n",
              "      <td>331,210</td>\n",
              "      <td>522,000</td>\n",
              "      <td>16.75</td>\n",
              "      <td>84.0</td>\n",
              "      <td>Hanoi</td>\n",
              "      <td>192,668</td>\n",
              "      <td>163.52</td>\n",
              "      <td>2.80%</td>\n",
              "      <td>...</td>\n",
              "      <td>43.50%</td>\n",
              "      <td>0.82</td>\n",
              "      <td>96,462,106</td>\n",
              "      <td>77.40%</td>\n",
              "      <td>19.10%</td>\n",
              "      <td>37.60%</td>\n",
              "      <td>2.01%</td>\n",
              "      <td>35,332,140</td>\n",
              "      <td>14.058324</td>\n",
              "      <td>108.277199</td>\n",
              "    </tr>\n",
              "    <tr>\n",
              "      <th>Zambia</th>\n",
              "      <td>ZM</td>\n",
              "      <td>32.10%</td>\n",
              "      <td>752,618</td>\n",
              "      <td>16,000</td>\n",
              "      <td>36.19</td>\n",
              "      <td>260.0</td>\n",
              "      <td>Lusaka</td>\n",
              "      <td>5,141</td>\n",
              "      <td>212.31</td>\n",
              "      <td>9.20%</td>\n",
              "      <td>...</td>\n",
              "      <td>27.50%</td>\n",
              "      <td>1.19</td>\n",
              "      <td>17,861,030</td>\n",
              "      <td>74.60%</td>\n",
              "      <td>16.20%</td>\n",
              "      <td>15.60%</td>\n",
              "      <td>11.43%</td>\n",
              "      <td>7,871,713</td>\n",
              "      <td>-13.133897</td>\n",
              "      <td>27.849332</td>\n",
              "    </tr>\n",
              "    <tr>\n",
              "      <th>Zimbabwe</th>\n",
              "      <td>ZW</td>\n",
              "      <td>41.90%</td>\n",
              "      <td>390,757</td>\n",
              "      <td>51,000</td>\n",
              "      <td>30.68</td>\n",
              "      <td>263.0</td>\n",
              "      <td>Harare</td>\n",
              "      <td>10,983</td>\n",
              "      <td>105.51</td>\n",
              "      <td>0.90%</td>\n",
              "      <td>...</td>\n",
              "      <td>25.80%</td>\n",
              "      <td>0.21</td>\n",
              "      <td>14,645,468</td>\n",
              "      <td>83.10%</td>\n",
              "      <td>20.70%</td>\n",
              "      <td>31.60%</td>\n",
              "      <td>4.95%</td>\n",
              "      <td>4,717,305</td>\n",
              "      <td>-19.015438</td>\n",
              "      <td>29.154857</td>\n",
              "    </tr>\n",
              "  </tbody>\n",
              "</table>\n",
              "<p>5 rows × 33 columns</p>\n",
              "</div>"
            ],
            "text/plain": [
              "          Abbreviation Agricultural Land( %) Land Area(Km2) Armed Forces size  \\\n",
              "Country                                                                         \n",
              "Vanuatu             VU                15.30%         12,189               NaN   \n",
              "Venezuela           VE                24.50%        912,050           343,000   \n",
              "Vietnam             VN                39.30%        331,210           522,000   \n",
              "Zambia              ZM                32.10%        752,618            16,000   \n",
              "Zimbabwe            ZW                41.90%        390,757            51,000   \n",
              "\n",
              "           Birth Rate  Calling Code Capital/Major City Co2-Emissions  \\\n",
              "Country                                                                \n",
              "Vanuatu         29.60         678.0          Port Vila           147   \n",
              "Venezuela       17.88          58.0            Caracas       164,175   \n",
              "Vietnam         16.75          84.0              Hanoi       192,668   \n",
              "Zambia          36.19         260.0             Lusaka         5,141   \n",
              "Zimbabwe        30.68         263.0             Harare        10,983   \n",
              "\n",
              "                CPI CPI Change (%)  ... Out of pocket health expenditure  \\\n",
              "Country                             ...                                    \n",
              "Vanuatu      117.13          2.80%  ...                            8.90%   \n",
              "Venezuela  2,740.27        254.90%  ...                           45.80%   \n",
              "Vietnam      163.52          2.80%  ...                           43.50%   \n",
              "Zambia       212.31          9.20%  ...                           27.50%   \n",
              "Zimbabwe     105.51          0.90%  ...                           25.80%   \n",
              "\n",
              "           Physicians per thousand  Population  \\\n",
              "Country                                          \n",
              "Vanuatu                       0.17     299,882   \n",
              "Venezuela                     1.92  28,515,829   \n",
              "Vietnam                       0.82  96,462,106   \n",
              "Zambia                        1.19  17,861,030   \n",
              "Zimbabwe                      0.21  14,645,468   \n",
              "\n",
              "          Population: Labor force participation (%) Tax revenue (%)  \\\n",
              "Country                                                               \n",
              "Vanuatu                                      69.90%          17.80%   \n",
              "Venezuela                                    59.70%             NaN   \n",
              "Vietnam                                      77.40%          19.10%   \n",
              "Zambia                                       74.60%          16.20%   \n",
              "Zimbabwe                                     83.10%          20.70%   \n",
              "\n",
              "          Total tax rate Unemployment rate  Urban_population   Latitude  \\\n",
              "Country                                                                   \n",
              "Vanuatu            8.50%             4.39%            76,152 -15.376706   \n",
              "Venezuela         73.30%             8.80%        25,162,368   6.423750   \n",
              "Vietnam           37.60%             2.01%        35,332,140  14.058324   \n",
              "Zambia            15.60%            11.43%         7,871,713 -13.133897   \n",
              "Zimbabwe          31.60%             4.95%         4,717,305 -19.015438   \n",
              "\n",
              "            Longitude  \n",
              "Country                \n",
              "Vanuatu    166.959158  \n",
              "Venezuela  -66.589730  \n",
              "Vietnam    108.277199  \n",
              "Zambia      27.849332  \n",
              "Zimbabwe    29.154857  \n",
              "\n",
              "[5 rows x 33 columns]"
            ]
          },
          "execution_count": 115,
          "metadata": {},
          "output_type": "execute_result"
        }
      ],
      "source": [
        "df.drop('Yemen',axis=0).tail()"
      ]
    },
    {
      "cell_type": "markdown",
      "metadata": {
        "id": "rF2SGkjOJ_Eh"
      },
      "source": [
        "### Условия"
      ]
    },
    {
      "cell_type": "markdown",
      "metadata": {
        "id": "rrj8d9L0KGAH"
      },
      "source": [
        "На практике вы скорее всего не будете выбирать данные по строкам или столбцам. Наиболее вероятно, что вы будете фильтровать значения по условиям. Для проведения фильтрации по значениям столбца можно воспользоваться бродкастингом.\n",
        "\n",
        "Мы хотим отфильтровать страны, рождаемость в которых выше 30. Для этого запишем условие фильтрации:"
      ]
    },
    {
      "cell_type": "code",
      "execution_count": null,
      "metadata": {
        "id": "pP6JHTnJKyB5",
        "outputId": "047d2558-26e6-4866-8b45-1ed3253cfb19"
      },
      "outputs": [
        {
          "data": {
            "text/html": [
              "<div>\n",
              "<style scoped>\n",
              "    .dataframe tbody tr th:only-of-type {\n",
              "        vertical-align: middle;\n",
              "    }\n",
              "\n",
              "    .dataframe tbody tr th {\n",
              "        vertical-align: top;\n",
              "    }\n",
              "\n",
              "    .dataframe thead th {\n",
              "        text-align: right;\n",
              "    }\n",
              "</style>\n",
              "<table border=\"1\" class=\"dataframe\">\n",
              "  <thead>\n",
              "    <tr style=\"text-align: right;\">\n",
              "      <th></th>\n",
              "      <th>Abbreviation</th>\n",
              "      <th>Agricultural Land( %)</th>\n",
              "      <th>Land Area(Km2)</th>\n",
              "      <th>Armed Forces size</th>\n",
              "      <th>Birth Rate</th>\n",
              "      <th>Calling Code</th>\n",
              "      <th>Capital/Major City</th>\n",
              "      <th>Co2-Emissions</th>\n",
              "      <th>CPI</th>\n",
              "      <th>CPI Change (%)</th>\n",
              "      <th>...</th>\n",
              "      <th>Out of pocket health expenditure</th>\n",
              "      <th>Physicians per thousand</th>\n",
              "      <th>Population</th>\n",
              "      <th>Population: Labor force participation (%)</th>\n",
              "      <th>Tax revenue (%)</th>\n",
              "      <th>Total tax rate</th>\n",
              "      <th>Unemployment rate</th>\n",
              "      <th>Urban_population</th>\n",
              "      <th>Latitude</th>\n",
              "      <th>Longitude</th>\n",
              "    </tr>\n",
              "    <tr>\n",
              "      <th>Country</th>\n",
              "      <th></th>\n",
              "      <th></th>\n",
              "      <th></th>\n",
              "      <th></th>\n",
              "      <th></th>\n",
              "      <th></th>\n",
              "      <th></th>\n",
              "      <th></th>\n",
              "      <th></th>\n",
              "      <th></th>\n",
              "      <th></th>\n",
              "      <th></th>\n",
              "      <th></th>\n",
              "      <th></th>\n",
              "      <th></th>\n",
              "      <th></th>\n",
              "      <th></th>\n",
              "      <th></th>\n",
              "      <th></th>\n",
              "      <th></th>\n",
              "      <th></th>\n",
              "    </tr>\n",
              "  </thead>\n",
              "  <tbody>\n",
              "    <tr>\n",
              "      <th>Afghanistan</th>\n",
              "      <td>AF</td>\n",
              "      <td>58.10%</td>\n",
              "      <td>652,230</td>\n",
              "      <td>323,000</td>\n",
              "      <td>32.49</td>\n",
              "      <td>93.0</td>\n",
              "      <td>Kabul</td>\n",
              "      <td>8,672</td>\n",
              "      <td>149.9</td>\n",
              "      <td>2.30%</td>\n",
              "      <td>...</td>\n",
              "      <td>78.40%</td>\n",
              "      <td>0.28</td>\n",
              "      <td>38,041,754</td>\n",
              "      <td>48.90%</td>\n",
              "      <td>9.30%</td>\n",
              "      <td>71.40%</td>\n",
              "      <td>11.12%</td>\n",
              "      <td>9,797,273</td>\n",
              "      <td>33.939110</td>\n",
              "      <td>67.709953</td>\n",
              "    </tr>\n",
              "    <tr>\n",
              "      <th>Angola</th>\n",
              "      <td>AO</td>\n",
              "      <td>47.50%</td>\n",
              "      <td>1,246,700</td>\n",
              "      <td>117,000</td>\n",
              "      <td>40.73</td>\n",
              "      <td>244.0</td>\n",
              "      <td>Luanda</td>\n",
              "      <td>34,693</td>\n",
              "      <td>261.73</td>\n",
              "      <td>17.10%</td>\n",
              "      <td>...</td>\n",
              "      <td>33.40%</td>\n",
              "      <td>0.21</td>\n",
              "      <td>31,825,295</td>\n",
              "      <td>77.50%</td>\n",
              "      <td>9.20%</td>\n",
              "      <td>49.10%</td>\n",
              "      <td>6.89%</td>\n",
              "      <td>21,061,025</td>\n",
              "      <td>-11.202692</td>\n",
              "      <td>17.873887</td>\n",
              "    </tr>\n",
              "    <tr>\n",
              "      <th>Benin</th>\n",
              "      <td>BJ</td>\n",
              "      <td>33.30%</td>\n",
              "      <td>112,622</td>\n",
              "      <td>12,000</td>\n",
              "      <td>36.22</td>\n",
              "      <td>229.0</td>\n",
              "      <td>Porto-Novo</td>\n",
              "      <td>6,476</td>\n",
              "      <td>110.71</td>\n",
              "      <td>-0.90%</td>\n",
              "      <td>...</td>\n",
              "      <td>40.50%</td>\n",
              "      <td>0.08</td>\n",
              "      <td>11,801,151</td>\n",
              "      <td>70.90%</td>\n",
              "      <td>10.80%</td>\n",
              "      <td>48.90%</td>\n",
              "      <td>2.23%</td>\n",
              "      <td>5,648,149</td>\n",
              "      <td>9.307690</td>\n",
              "      <td>2.315834</td>\n",
              "    </tr>\n",
              "    <tr>\n",
              "      <th>Burkina Faso</th>\n",
              "      <td>BF</td>\n",
              "      <td>44.20%</td>\n",
              "      <td>274,200</td>\n",
              "      <td>11,000</td>\n",
              "      <td>37.93</td>\n",
              "      <td>226.0</td>\n",
              "      <td>Ouagadougou</td>\n",
              "      <td>3,418</td>\n",
              "      <td>106.58</td>\n",
              "      <td>-3.20%</td>\n",
              "      <td>...</td>\n",
              "      <td>36.10%</td>\n",
              "      <td>0.08</td>\n",
              "      <td>20,321,378</td>\n",
              "      <td>66.40%</td>\n",
              "      <td>15.00%</td>\n",
              "      <td>41.30%</td>\n",
              "      <td>6.26%</td>\n",
              "      <td>6,092,349</td>\n",
              "      <td>12.238333</td>\n",
              "      <td>-1.561593</td>\n",
              "    </tr>\n",
              "    <tr>\n",
              "      <th>Burundi</th>\n",
              "      <td>BI</td>\n",
              "      <td>79.20%</td>\n",
              "      <td>27,830</td>\n",
              "      <td>31,000</td>\n",
              "      <td>39.01</td>\n",
              "      <td>257.0</td>\n",
              "      <td>Bujumbura</td>\n",
              "      <td>495</td>\n",
              "      <td>182.11</td>\n",
              "      <td>-0.70%</td>\n",
              "      <td>...</td>\n",
              "      <td>19.10%</td>\n",
              "      <td>0.10</td>\n",
              "      <td>11,530,580</td>\n",
              "      <td>79.20%</td>\n",
              "      <td>13.60%</td>\n",
              "      <td>41.20%</td>\n",
              "      <td>1.43%</td>\n",
              "      <td>1,541,177</td>\n",
              "      <td>-3.373056</td>\n",
              "      <td>29.918886</td>\n",
              "    </tr>\n",
              "    <tr>\n",
              "      <th>Ivory Coast</th>\n",
              "      <td>CI</td>\n",
              "      <td>64.80%</td>\n",
              "      <td>322,463</td>\n",
              "      <td>27,000</td>\n",
              "      <td>35.74</td>\n",
              "      <td>225.0</td>\n",
              "      <td>Yamoussoukro</td>\n",
              "      <td>9,674</td>\n",
              "      <td>111.61</td>\n",
              "      <td>-0.90%</td>\n",
              "      <td>...</td>\n",
              "      <td>36.00%</td>\n",
              "      <td>0.23</td>\n",
              "      <td>25,716,544</td>\n",
              "      <td>57.00%</td>\n",
              "      <td>11.80%</td>\n",
              "      <td>50.10%</td>\n",
              "      <td>3.32%</td>\n",
              "      <td>13,176,900</td>\n",
              "      <td>7.539989</td>\n",
              "      <td>-5.547080</td>\n",
              "    </tr>\n",
              "    <tr>\n",
              "      <th>Cameroon</th>\n",
              "      <td>CM</td>\n",
              "      <td>20.60%</td>\n",
              "      <td>475,440</td>\n",
              "      <td>24,000</td>\n",
              "      <td>35.39</td>\n",
              "      <td>237.0</td>\n",
              "      <td>Yaound�</td>\n",
              "      <td>8,291</td>\n",
              "      <td>118.65</td>\n",
              "      <td>2.50%</td>\n",
              "      <td>...</td>\n",
              "      <td>69.70%</td>\n",
              "      <td>0.09</td>\n",
              "      <td>25,876,380</td>\n",
              "      <td>76.10%</td>\n",
              "      <td>12.80%</td>\n",
              "      <td>57.70%</td>\n",
              "      <td>3.38%</td>\n",
              "      <td>14,741,256</td>\n",
              "      <td>7.369722</td>\n",
              "      <td>12.354722</td>\n",
              "    </tr>\n",
              "    <tr>\n",
              "      <th>Central African Republic</th>\n",
              "      <td>CF</td>\n",
              "      <td>8.20%</td>\n",
              "      <td>622,984</td>\n",
              "      <td>8,000</td>\n",
              "      <td>35.35</td>\n",
              "      <td>236.0</td>\n",
              "      <td>Bangui</td>\n",
              "      <td>297</td>\n",
              "      <td>186.86</td>\n",
              "      <td>37.10%</td>\n",
              "      <td>...</td>\n",
              "      <td>39.60%</td>\n",
              "      <td>0.06</td>\n",
              "      <td>4,745,185</td>\n",
              "      <td>72.00%</td>\n",
              "      <td>8.60%</td>\n",
              "      <td>73.30%</td>\n",
              "      <td>3.68%</td>\n",
              "      <td>1,982,064</td>\n",
              "      <td>6.611111</td>\n",
              "      <td>20.939444</td>\n",
              "    </tr>\n",
              "    <tr>\n",
              "      <th>Chad</th>\n",
              "      <td>TD</td>\n",
              "      <td>39.70%</td>\n",
              "      <td>1,284,000</td>\n",
              "      <td>35,000</td>\n",
              "      <td>42.17</td>\n",
              "      <td>235.0</td>\n",
              "      <td>N'Djamena</td>\n",
              "      <td>1,016</td>\n",
              "      <td>117.7</td>\n",
              "      <td>-1.00%</td>\n",
              "      <td>...</td>\n",
              "      <td>56.40%</td>\n",
              "      <td>0.04</td>\n",
              "      <td>15,946,876</td>\n",
              "      <td>70.70%</td>\n",
              "      <td>NaN</td>\n",
              "      <td>63.50%</td>\n",
              "      <td>1.89%</td>\n",
              "      <td>3,712,273</td>\n",
              "      <td>15.454166</td>\n",
              "      <td>18.732207</td>\n",
              "    </tr>\n",
              "    <tr>\n",
              "      <th>Comoros</th>\n",
              "      <td>KM</td>\n",
              "      <td>71.50%</td>\n",
              "      <td>2,235</td>\n",
              "      <td>NaN</td>\n",
              "      <td>31.88</td>\n",
              "      <td>269.0</td>\n",
              "      <td>Moroni, Comoros</td>\n",
              "      <td>202</td>\n",
              "      <td>103.62</td>\n",
              "      <td>-4.30%</td>\n",
              "      <td>...</td>\n",
              "      <td>74.80%</td>\n",
              "      <td>0.27</td>\n",
              "      <td>850,886</td>\n",
              "      <td>43.30%</td>\n",
              "      <td>NaN</td>\n",
              "      <td>219.60%</td>\n",
              "      <td>4.34%</td>\n",
              "      <td>248,152</td>\n",
              "      <td>-11.645500</td>\n",
              "      <td>43.333300</td>\n",
              "    </tr>\n",
              "    <tr>\n",
              "      <th>Republic of the Congo</th>\n",
              "      <td>NaN</td>\n",
              "      <td>31.10%</td>\n",
              "      <td>342,000</td>\n",
              "      <td>12,000</td>\n",
              "      <td>32.86</td>\n",
              "      <td>242.0</td>\n",
              "      <td>Brazzaville</td>\n",
              "      <td>3,282</td>\n",
              "      <td>124.74</td>\n",
              "      <td>2.20%</td>\n",
              "      <td>...</td>\n",
              "      <td>43.80%</td>\n",
              "      <td>0.12</td>\n",
              "      <td>5,380,508</td>\n",
              "      <td>69.40%</td>\n",
              "      <td>9.00%</td>\n",
              "      <td>54.30%</td>\n",
              "      <td>9.47%</td>\n",
              "      <td>3,625,010</td>\n",
              "      <td>-0.228021</td>\n",
              "      <td>15.827659</td>\n",
              "    </tr>\n",
              "    <tr>\n",
              "      <th>Democratic Republic of the Congo</th>\n",
              "      <td>CD</td>\n",
              "      <td>11.60%</td>\n",
              "      <td>2,344,858</td>\n",
              "      <td>134,000</td>\n",
              "      <td>41.18</td>\n",
              "      <td>243.0</td>\n",
              "      <td>Kinshasa</td>\n",
              "      <td>2,021</td>\n",
              "      <td>133.85</td>\n",
              "      <td>2.90%</td>\n",
              "      <td>...</td>\n",
              "      <td>37.40%</td>\n",
              "      <td>0.07</td>\n",
              "      <td>86,790,567</td>\n",
              "      <td>63.50%</td>\n",
              "      <td>10.70%</td>\n",
              "      <td>50.70%</td>\n",
              "      <td>4.24%</td>\n",
              "      <td>39,095,679</td>\n",
              "      <td>-4.038333</td>\n",
              "      <td>21.758664</td>\n",
              "    </tr>\n",
              "    <tr>\n",
              "      <th>Equatorial Guinea</th>\n",
              "      <td>GQ</td>\n",
              "      <td>10.10%</td>\n",
              "      <td>28,051</td>\n",
              "      <td>1,000</td>\n",
              "      <td>33.24</td>\n",
              "      <td>240.0</td>\n",
              "      <td>Malabo</td>\n",
              "      <td>5,655</td>\n",
              "      <td>124.35</td>\n",
              "      <td>1.20%</td>\n",
              "      <td>...</td>\n",
              "      <td>72.00%</td>\n",
              "      <td>0.40</td>\n",
              "      <td>1,355,986</td>\n",
              "      <td>62.00%</td>\n",
              "      <td>6.10%</td>\n",
              "      <td>79.40%</td>\n",
              "      <td>6.43%</td>\n",
              "      <td>984,812</td>\n",
              "      <td>1.650801</td>\n",
              "      <td>10.267895</td>\n",
              "    </tr>\n",
              "    <tr>\n",
              "      <th>Eritrea</th>\n",
              "      <td>ER</td>\n",
              "      <td>75.20%</td>\n",
              "      <td>117,600</td>\n",
              "      <td>202,000</td>\n",
              "      <td>30.30</td>\n",
              "      <td>291.0</td>\n",
              "      <td>Asmara</td>\n",
              "      <td>711</td>\n",
              "      <td>NaN</td>\n",
              "      <td>NaN</td>\n",
              "      <td>...</td>\n",
              "      <td>52.40%</td>\n",
              "      <td>0.06</td>\n",
              "      <td>6,333,135</td>\n",
              "      <td>78.40%</td>\n",
              "      <td>NaN</td>\n",
              "      <td>83.70%</td>\n",
              "      <td>5.14%</td>\n",
              "      <td>1,149,670</td>\n",
              "      <td>15.179384</td>\n",
              "      <td>39.782334</td>\n",
              "    </tr>\n",
              "    <tr>\n",
              "      <th>Ethiopia</th>\n",
              "      <td>ET</td>\n",
              "      <td>36.30%</td>\n",
              "      <td>1,104,300</td>\n",
              "      <td>138,000</td>\n",
              "      <td>32.34</td>\n",
              "      <td>251.0</td>\n",
              "      <td>Addis Ababa</td>\n",
              "      <td>14,870</td>\n",
              "      <td>143.86</td>\n",
              "      <td>15.80%</td>\n",
              "      <td>...</td>\n",
              "      <td>37.80%</td>\n",
              "      <td>0.08</td>\n",
              "      <td>112,078,730</td>\n",
              "      <td>79.60%</td>\n",
              "      <td>7.50%</td>\n",
              "      <td>37.70%</td>\n",
              "      <td>2.08%</td>\n",
              "      <td>23,788,710</td>\n",
              "      <td>9.145000</td>\n",
              "      <td>40.489673</td>\n",
              "    </tr>\n",
              "    <tr>\n",
              "      <th>Gabon</th>\n",
              "      <td>GA</td>\n",
              "      <td>20.00%</td>\n",
              "      <td>267,667</td>\n",
              "      <td>7,000</td>\n",
              "      <td>31.61</td>\n",
              "      <td>241.0</td>\n",
              "      <td>Libreville</td>\n",
              "      <td>5,321</td>\n",
              "      <td>122.19</td>\n",
              "      <td>2.10%</td>\n",
              "      <td>...</td>\n",
              "      <td>25.90%</td>\n",
              "      <td>0.68</td>\n",
              "      <td>2,172,579</td>\n",
              "      <td>52.90%</td>\n",
              "      <td>10.20%</td>\n",
              "      <td>47.10%</td>\n",
              "      <td>20.00%</td>\n",
              "      <td>1,949,694</td>\n",
              "      <td>-0.803689</td>\n",
              "      <td>11.609444</td>\n",
              "    </tr>\n",
              "    <tr>\n",
              "      <th>The Gambia</th>\n",
              "      <td>GM</td>\n",
              "      <td>59.80%</td>\n",
              "      <td>11,300</td>\n",
              "      <td>1,000</td>\n",
              "      <td>38.54</td>\n",
              "      <td>220.0</td>\n",
              "      <td>Banjul</td>\n",
              "      <td>532</td>\n",
              "      <td>172.73</td>\n",
              "      <td>7.10%</td>\n",
              "      <td>...</td>\n",
              "      <td>20.30%</td>\n",
              "      <td>0.10</td>\n",
              "      <td>2,347,706</td>\n",
              "      <td>59.40%</td>\n",
              "      <td>9.40%</td>\n",
              "      <td>48.40%</td>\n",
              "      <td>9.06%</td>\n",
              "      <td>1,453,958</td>\n",
              "      <td>13.443182</td>\n",
              "      <td>-15.310139</td>\n",
              "    </tr>\n",
              "    <tr>\n",
              "      <th>Guinea</th>\n",
              "      <td>GN</td>\n",
              "      <td>59.00%</td>\n",
              "      <td>245,857</td>\n",
              "      <td>13,000</td>\n",
              "      <td>36.36</td>\n",
              "      <td>224.0</td>\n",
              "      <td>Conakry</td>\n",
              "      <td>2,996</td>\n",
              "      <td>262.95</td>\n",
              "      <td>9.50%</td>\n",
              "      <td>...</td>\n",
              "      <td>54.50%</td>\n",
              "      <td>0.08</td>\n",
              "      <td>12,771,246</td>\n",
              "      <td>61.50%</td>\n",
              "      <td>10.80%</td>\n",
              "      <td>69.30%</td>\n",
              "      <td>4.30%</td>\n",
              "      <td>4,661,505</td>\n",
              "      <td>9.945587</td>\n",
              "      <td>-9.696645</td>\n",
              "    </tr>\n",
              "    <tr>\n",
              "      <th>Guinea-Bissau</th>\n",
              "      <td>GW</td>\n",
              "      <td>58.00%</td>\n",
              "      <td>36,125</td>\n",
              "      <td>4,000</td>\n",
              "      <td>35.13</td>\n",
              "      <td>245.0</td>\n",
              "      <td>Bissau</td>\n",
              "      <td>293</td>\n",
              "      <td>111.65</td>\n",
              "      <td>1.40%</td>\n",
              "      <td>...</td>\n",
              "      <td>37.20%</td>\n",
              "      <td>0.13</td>\n",
              "      <td>1,920,922</td>\n",
              "      <td>72.00%</td>\n",
              "      <td>10.30%</td>\n",
              "      <td>45.50%</td>\n",
              "      <td>2.47%</td>\n",
              "      <td>840,922</td>\n",
              "      <td>11.803749</td>\n",
              "      <td>-15.180413</td>\n",
              "    </tr>\n",
              "    <tr>\n",
              "      <th>Liberia</th>\n",
              "      <td>LR</td>\n",
              "      <td>28.00%</td>\n",
              "      <td>111,369</td>\n",
              "      <td>2,000</td>\n",
              "      <td>33.04</td>\n",
              "      <td>231.0</td>\n",
              "      <td>Monrovia</td>\n",
              "      <td>1,386</td>\n",
              "      <td>223.13</td>\n",
              "      <td>23.60%</td>\n",
              "      <td>...</td>\n",
              "      <td>19.60%</td>\n",
              "      <td>0.04</td>\n",
              "      <td>4,937,374</td>\n",
              "      <td>76.30%</td>\n",
              "      <td>12.90%</td>\n",
              "      <td>46.20%</td>\n",
              "      <td>2.81%</td>\n",
              "      <td>2,548,426</td>\n",
              "      <td>6.428055</td>\n",
              "      <td>-9.429499</td>\n",
              "    </tr>\n",
              "    <tr>\n",
              "      <th>Madagascar</th>\n",
              "      <td>MG</td>\n",
              "      <td>71.20%</td>\n",
              "      <td>587,041</td>\n",
              "      <td>22,000</td>\n",
              "      <td>32.66</td>\n",
              "      <td>261.0</td>\n",
              "      <td>Antananarivo</td>\n",
              "      <td>3,905</td>\n",
              "      <td>184.33</td>\n",
              "      <td>5.60%</td>\n",
              "      <td>...</td>\n",
              "      <td>21.70%</td>\n",
              "      <td>0.18</td>\n",
              "      <td>26,969,307</td>\n",
              "      <td>86.10%</td>\n",
              "      <td>10.20%</td>\n",
              "      <td>38.30%</td>\n",
              "      <td>1.76%</td>\n",
              "      <td>10,210,849</td>\n",
              "      <td>-18.766947</td>\n",
              "      <td>46.869107</td>\n",
              "    </tr>\n",
              "    <tr>\n",
              "      <th>Malawi</th>\n",
              "      <td>MW</td>\n",
              "      <td>61.40%</td>\n",
              "      <td>118,484</td>\n",
              "      <td>15,000</td>\n",
              "      <td>34.12</td>\n",
              "      <td>265.0</td>\n",
              "      <td>Lilongwe</td>\n",
              "      <td>1,298</td>\n",
              "      <td>418.34</td>\n",
              "      <td>9.40%</td>\n",
              "      <td>...</td>\n",
              "      <td>11.00%</td>\n",
              "      <td>0.04</td>\n",
              "      <td>18,628,747</td>\n",
              "      <td>76.70%</td>\n",
              "      <td>17.30%</td>\n",
              "      <td>34.50%</td>\n",
              "      <td>5.65%</td>\n",
              "      <td>3,199,301</td>\n",
              "      <td>-13.254308</td>\n",
              "      <td>34.301525</td>\n",
              "    </tr>\n",
              "    <tr>\n",
              "      <th>Mali</th>\n",
              "      <td>ML</td>\n",
              "      <td>33.80%</td>\n",
              "      <td>1,240,192</td>\n",
              "      <td>18,000</td>\n",
              "      <td>41.54</td>\n",
              "      <td>223.0</td>\n",
              "      <td>Bamako</td>\n",
              "      <td>3,179</td>\n",
              "      <td>108.73</td>\n",
              "      <td>-1.70%</td>\n",
              "      <td>...</td>\n",
              "      <td>46.30%</td>\n",
              "      <td>0.13</td>\n",
              "      <td>19,658,031</td>\n",
              "      <td>70.80%</td>\n",
              "      <td>11.60%</td>\n",
              "      <td>54.50%</td>\n",
              "      <td>7.22%</td>\n",
              "      <td>8,479,688</td>\n",
              "      <td>17.570692</td>\n",
              "      <td>-3.996166</td>\n",
              "    </tr>\n",
              "    <tr>\n",
              "      <th>Mauritania</th>\n",
              "      <td>MR</td>\n",
              "      <td>38.50%</td>\n",
              "      <td>1,030,700</td>\n",
              "      <td>21,000</td>\n",
              "      <td>33.69</td>\n",
              "      <td>222.0</td>\n",
              "      <td>Nouakchott</td>\n",
              "      <td>2,739</td>\n",
              "      <td>135.02</td>\n",
              "      <td>2.30%</td>\n",
              "      <td>...</td>\n",
              "      <td>48.20%</td>\n",
              "      <td>0.19</td>\n",
              "      <td>4,525,696</td>\n",
              "      <td>45.90%</td>\n",
              "      <td>NaN</td>\n",
              "      <td>67.00%</td>\n",
              "      <td>9.55%</td>\n",
              "      <td>2,466,821</td>\n",
              "      <td>21.007890</td>\n",
              "      <td>-10.940835</td>\n",
              "    </tr>\n",
              "    <tr>\n",
              "      <th>Mozambique</th>\n",
              "      <td>MZ</td>\n",
              "      <td>63.50%</td>\n",
              "      <td>799,380</td>\n",
              "      <td>11,000</td>\n",
              "      <td>37.52</td>\n",
              "      <td>258.0</td>\n",
              "      <td>Maputo</td>\n",
              "      <td>7,943</td>\n",
              "      <td>182.31</td>\n",
              "      <td>2.80%</td>\n",
              "      <td>...</td>\n",
              "      <td>6.80%</td>\n",
              "      <td>0.08</td>\n",
              "      <td>30,366,036</td>\n",
              "      <td>78.10%</td>\n",
              "      <td>0.00%</td>\n",
              "      <td>36.10%</td>\n",
              "      <td>3.24%</td>\n",
              "      <td>11,092,106</td>\n",
              "      <td>-18.665695</td>\n",
              "      <td>35.529562</td>\n",
              "    </tr>\n",
              "    <tr>\n",
              "      <th>Niger</th>\n",
              "      <td>NE</td>\n",
              "      <td>36.10%</td>\n",
              "      <td>1,267,000</td>\n",
              "      <td>10,000</td>\n",
              "      <td>46.08</td>\n",
              "      <td>227.0</td>\n",
              "      <td>Niamey</td>\n",
              "      <td>2,017</td>\n",
              "      <td>109.32</td>\n",
              "      <td>-2.50%</td>\n",
              "      <td>...</td>\n",
              "      <td>52.30%</td>\n",
              "      <td>0.04</td>\n",
              "      <td>23,310,715</td>\n",
              "      <td>72.00%</td>\n",
              "      <td>11.80%</td>\n",
              "      <td>47.20%</td>\n",
              "      <td>0.47%</td>\n",
              "      <td>3,850,231</td>\n",
              "      <td>17.607789</td>\n",
              "      <td>8.081666</td>\n",
              "    </tr>\n",
              "    <tr>\n",
              "      <th>Nigeria</th>\n",
              "      <td>NG</td>\n",
              "      <td>77.70%</td>\n",
              "      <td>923,768</td>\n",
              "      <td>215,000</td>\n",
              "      <td>37.91</td>\n",
              "      <td>234.0</td>\n",
              "      <td>Abuja</td>\n",
              "      <td>120,369</td>\n",
              "      <td>267.51</td>\n",
              "      <td>11.40%</td>\n",
              "      <td>...</td>\n",
              "      <td>72.20%</td>\n",
              "      <td>0.38</td>\n",
              "      <td>200,963,599</td>\n",
              "      <td>52.90%</td>\n",
              "      <td>1.50%</td>\n",
              "      <td>34.80%</td>\n",
              "      <td>8.10%</td>\n",
              "      <td>102,806,948</td>\n",
              "      <td>9.081999</td>\n",
              "      <td>8.675277</td>\n",
              "    </tr>\n",
              "    <tr>\n",
              "      <th>Rwanda</th>\n",
              "      <td>RW</td>\n",
              "      <td>73.40%</td>\n",
              "      <td>26,338</td>\n",
              "      <td>35,000</td>\n",
              "      <td>31.70</td>\n",
              "      <td>250.0</td>\n",
              "      <td>Kigali</td>\n",
              "      <td>1,115</td>\n",
              "      <td>151.09</td>\n",
              "      <td>3.40%</td>\n",
              "      <td>...</td>\n",
              "      <td>26.00%</td>\n",
              "      <td>0.13</td>\n",
              "      <td>12,626,950</td>\n",
              "      <td>83.70%</td>\n",
              "      <td>14.30%</td>\n",
              "      <td>33.20%</td>\n",
              "      <td>1.03%</td>\n",
              "      <td>2,186,104</td>\n",
              "      <td>-1.940278</td>\n",
              "      <td>29.873888</td>\n",
              "    </tr>\n",
              "    <tr>\n",
              "      <th>S�����������</th>\n",
              "      <td>ST</td>\n",
              "      <td>50.70%</td>\n",
              "      <td>964</td>\n",
              "      <td>1,000</td>\n",
              "      <td>31.54</td>\n",
              "      <td>239.0</td>\n",
              "      <td>S����</td>\n",
              "      <td>121</td>\n",
              "      <td>185.09</td>\n",
              "      <td>7.90%</td>\n",
              "      <td>...</td>\n",
              "      <td>11.70%</td>\n",
              "      <td>0.05</td>\n",
              "      <td>215,056</td>\n",
              "      <td>57.80%</td>\n",
              "      <td>14.60%</td>\n",
              "      <td>37.00%</td>\n",
              "      <td>13.37%</td>\n",
              "      <td>158,277</td>\n",
              "      <td>NaN</td>\n",
              "      <td>NaN</td>\n",
              "    </tr>\n",
              "    <tr>\n",
              "      <th>Senegal</th>\n",
              "      <td>SN</td>\n",
              "      <td>46.10%</td>\n",
              "      <td>196,722</td>\n",
              "      <td>19,000</td>\n",
              "      <td>34.52</td>\n",
              "      <td>221.0</td>\n",
              "      <td>Dakar</td>\n",
              "      <td>10,902</td>\n",
              "      <td>109.25</td>\n",
              "      <td>1.80%</td>\n",
              "      <td>...</td>\n",
              "      <td>44.20%</td>\n",
              "      <td>0.07</td>\n",
              "      <td>16,296,364</td>\n",
              "      <td>45.70%</td>\n",
              "      <td>16.30%</td>\n",
              "      <td>44.80%</td>\n",
              "      <td>6.60%</td>\n",
              "      <td>7,765,706</td>\n",
              "      <td>14.497401</td>\n",
              "      <td>-14.452362</td>\n",
              "    </tr>\n",
              "    <tr>\n",
              "      <th>Sierra Leone</th>\n",
              "      <td>SL</td>\n",
              "      <td>54.70%</td>\n",
              "      <td>71,740</td>\n",
              "      <td>9,000</td>\n",
              "      <td>33.41</td>\n",
              "      <td>232.0</td>\n",
              "      <td>Freetown</td>\n",
              "      <td>1,093</td>\n",
              "      <td>234.16</td>\n",
              "      <td>14.80%</td>\n",
              "      <td>...</td>\n",
              "      <td>38.20%</td>\n",
              "      <td>0.03</td>\n",
              "      <td>7,813,215</td>\n",
              "      <td>57.90%</td>\n",
              "      <td>8.60%</td>\n",
              "      <td>30.70%</td>\n",
              "      <td>4.43%</td>\n",
              "      <td>3,319,366</td>\n",
              "      <td>8.460555</td>\n",
              "      <td>-11.779889</td>\n",
              "    </tr>\n",
              "    <tr>\n",
              "      <th>Solomon Islands</th>\n",
              "      <td>SB</td>\n",
              "      <td>3.90%</td>\n",
              "      <td>28,896</td>\n",
              "      <td>NaN</td>\n",
              "      <td>32.44</td>\n",
              "      <td>677.0</td>\n",
              "      <td>Honiara</td>\n",
              "      <td>169</td>\n",
              "      <td>133.06</td>\n",
              "      <td>1.60%</td>\n",
              "      <td>...</td>\n",
              "      <td>3.30%</td>\n",
              "      <td>0.19</td>\n",
              "      <td>669,823</td>\n",
              "      <td>83.80%</td>\n",
              "      <td>29.50%</td>\n",
              "      <td>32.00%</td>\n",
              "      <td>0.58%</td>\n",
              "      <td>162,164</td>\n",
              "      <td>-9.645710</td>\n",
              "      <td>160.156194</td>\n",
              "    </tr>\n",
              "    <tr>\n",
              "      <th>Somalia</th>\n",
              "      <td>SO</td>\n",
              "      <td>70.30%</td>\n",
              "      <td>637,657</td>\n",
              "      <td>20,000</td>\n",
              "      <td>41.75</td>\n",
              "      <td>252.0</td>\n",
              "      <td>Mogadishu</td>\n",
              "      <td>645</td>\n",
              "      <td>NaN</td>\n",
              "      <td>NaN</td>\n",
              "      <td>...</td>\n",
              "      <td>NaN</td>\n",
              "      <td>0.02</td>\n",
              "      <td>15,442,905</td>\n",
              "      <td>47.40%</td>\n",
              "      <td>0.00%</td>\n",
              "      <td>NaN</td>\n",
              "      <td>11.35%</td>\n",
              "      <td>7,034,861</td>\n",
              "      <td>5.152149</td>\n",
              "      <td>46.199616</td>\n",
              "    </tr>\n",
              "    <tr>\n",
              "      <th>South Sudan</th>\n",
              "      <td>SS</td>\n",
              "      <td>NaN</td>\n",
              "      <td>644,329</td>\n",
              "      <td>185,000</td>\n",
              "      <td>35.01</td>\n",
              "      <td>211.0</td>\n",
              "      <td>Juba</td>\n",
              "      <td>1,727</td>\n",
              "      <td>4,583.71</td>\n",
              "      <td>187.90%</td>\n",
              "      <td>...</td>\n",
              "      <td>61.30%</td>\n",
              "      <td>NaN</td>\n",
              "      <td>11,062,113</td>\n",
              "      <td>72.40%</td>\n",
              "      <td>NaN</td>\n",
              "      <td>31.40%</td>\n",
              "      <td>12.24%</td>\n",
              "      <td>2,201,250</td>\n",
              "      <td>6.876992</td>\n",
              "      <td>31.306979</td>\n",
              "    </tr>\n",
              "    <tr>\n",
              "      <th>Sudan</th>\n",
              "      <td>SD</td>\n",
              "      <td>28.70%</td>\n",
              "      <td>1,861,484</td>\n",
              "      <td>124,000</td>\n",
              "      <td>32.18</td>\n",
              "      <td>249.0</td>\n",
              "      <td>Khartoum</td>\n",
              "      <td>20,000</td>\n",
              "      <td>1,344.19</td>\n",
              "      <td>51.00%</td>\n",
              "      <td>...</td>\n",
              "      <td>63.20%</td>\n",
              "      <td>0.26</td>\n",
              "      <td>42,813,238</td>\n",
              "      <td>48.40%</td>\n",
              "      <td>8.00%</td>\n",
              "      <td>45.40%</td>\n",
              "      <td>16.53%</td>\n",
              "      <td>14,957,233</td>\n",
              "      <td>12.862807</td>\n",
              "      <td>30.217636</td>\n",
              "    </tr>\n",
              "    <tr>\n",
              "      <th>Tajikistan</th>\n",
              "      <td>TJ</td>\n",
              "      <td>34.10%</td>\n",
              "      <td>144,100</td>\n",
              "      <td>17,000</td>\n",
              "      <td>30.76</td>\n",
              "      <td>992.0</td>\n",
              "      <td>Dushanbe</td>\n",
              "      <td>5,310</td>\n",
              "      <td>148.57</td>\n",
              "      <td>6.00%</td>\n",
              "      <td>...</td>\n",
              "      <td>63.10%</td>\n",
              "      <td>1.70</td>\n",
              "      <td>9,321,018</td>\n",
              "      <td>42.00%</td>\n",
              "      <td>9.80%</td>\n",
              "      <td>67.30%</td>\n",
              "      <td>11.02%</td>\n",
              "      <td>2,545,477</td>\n",
              "      <td>38.861034</td>\n",
              "      <td>71.276093</td>\n",
              "    </tr>\n",
              "    <tr>\n",
              "      <th>Tanzania</th>\n",
              "      <td>TZ</td>\n",
              "      <td>44.80%</td>\n",
              "      <td>947,300</td>\n",
              "      <td>28,000</td>\n",
              "      <td>36.70</td>\n",
              "      <td>255.0</td>\n",
              "      <td>Dodoma</td>\n",
              "      <td>11,973</td>\n",
              "      <td>187.43</td>\n",
              "      <td>3.50%</td>\n",
              "      <td>...</td>\n",
              "      <td>26.10%</td>\n",
              "      <td>0.01</td>\n",
              "      <td>58,005,463</td>\n",
              "      <td>83.40%</td>\n",
              "      <td>11.50%</td>\n",
              "      <td>43.80%</td>\n",
              "      <td>1.98%</td>\n",
              "      <td>20,011,885</td>\n",
              "      <td>-6.369028</td>\n",
              "      <td>34.888822</td>\n",
              "    </tr>\n",
              "    <tr>\n",
              "      <th>Togo</th>\n",
              "      <td>TG</td>\n",
              "      <td>70.20%</td>\n",
              "      <td>56,785</td>\n",
              "      <td>10,000</td>\n",
              "      <td>33.11</td>\n",
              "      <td>228.0</td>\n",
              "      <td>Lom�</td>\n",
              "      <td>3,000</td>\n",
              "      <td>113.3</td>\n",
              "      <td>0.70%</td>\n",
              "      <td>...</td>\n",
              "      <td>51.00%</td>\n",
              "      <td>0.08</td>\n",
              "      <td>8,082,366</td>\n",
              "      <td>77.60%</td>\n",
              "      <td>16.90%</td>\n",
              "      <td>48.20%</td>\n",
              "      <td>2.04%</td>\n",
              "      <td>3,414,638</td>\n",
              "      <td>8.619543</td>\n",
              "      <td>0.824782</td>\n",
              "    </tr>\n",
              "    <tr>\n",
              "      <th>Uganda</th>\n",
              "      <td>UG</td>\n",
              "      <td>71.90%</td>\n",
              "      <td>241,038</td>\n",
              "      <td>46,000</td>\n",
              "      <td>38.14</td>\n",
              "      <td>256.0</td>\n",
              "      <td>Kampala</td>\n",
              "      <td>5,680</td>\n",
              "      <td>173.87</td>\n",
              "      <td>2.90%</td>\n",
              "      <td>...</td>\n",
              "      <td>40.50%</td>\n",
              "      <td>0.17</td>\n",
              "      <td>44,269,594</td>\n",
              "      <td>70.30%</td>\n",
              "      <td>11.70%</td>\n",
              "      <td>33.70%</td>\n",
              "      <td>1.84%</td>\n",
              "      <td>10,784,516</td>\n",
              "      <td>1.373333</td>\n",
              "      <td>32.290275</td>\n",
              "    </tr>\n",
              "    <tr>\n",
              "      <th>Yemen</th>\n",
              "      <td>YE</td>\n",
              "      <td>44.60%</td>\n",
              "      <td>527,968</td>\n",
              "      <td>40,000</td>\n",
              "      <td>30.45</td>\n",
              "      <td>967.0</td>\n",
              "      <td>Sanaa</td>\n",
              "      <td>10,609</td>\n",
              "      <td>157.58</td>\n",
              "      <td>8.10%</td>\n",
              "      <td>...</td>\n",
              "      <td>81.00%</td>\n",
              "      <td>0.31</td>\n",
              "      <td>29,161,922</td>\n",
              "      <td>38.00%</td>\n",
              "      <td>NaN</td>\n",
              "      <td>26.60%</td>\n",
              "      <td>12.91%</td>\n",
              "      <td>10,869,523</td>\n",
              "      <td>15.552727</td>\n",
              "      <td>48.516388</td>\n",
              "    </tr>\n",
              "    <tr>\n",
              "      <th>Zambia</th>\n",
              "      <td>ZM</td>\n",
              "      <td>32.10%</td>\n",
              "      <td>752,618</td>\n",
              "      <td>16,000</td>\n",
              "      <td>36.19</td>\n",
              "      <td>260.0</td>\n",
              "      <td>Lusaka</td>\n",
              "      <td>5,141</td>\n",
              "      <td>212.31</td>\n",
              "      <td>9.20%</td>\n",
              "      <td>...</td>\n",
              "      <td>27.50%</td>\n",
              "      <td>1.19</td>\n",
              "      <td>17,861,030</td>\n",
              "      <td>74.60%</td>\n",
              "      <td>16.20%</td>\n",
              "      <td>15.60%</td>\n",
              "      <td>11.43%</td>\n",
              "      <td>7,871,713</td>\n",
              "      <td>-13.133897</td>\n",
              "      <td>27.849332</td>\n",
              "    </tr>\n",
              "    <tr>\n",
              "      <th>Zimbabwe</th>\n",
              "      <td>ZW</td>\n",
              "      <td>41.90%</td>\n",
              "      <td>390,757</td>\n",
              "      <td>51,000</td>\n",
              "      <td>30.68</td>\n",
              "      <td>263.0</td>\n",
              "      <td>Harare</td>\n",
              "      <td>10,983</td>\n",
              "      <td>105.51</td>\n",
              "      <td>0.90%</td>\n",
              "      <td>...</td>\n",
              "      <td>25.80%</td>\n",
              "      <td>0.21</td>\n",
              "      <td>14,645,468</td>\n",
              "      <td>83.10%</td>\n",
              "      <td>20.70%</td>\n",
              "      <td>31.60%</td>\n",
              "      <td>4.95%</td>\n",
              "      <td>4,717,305</td>\n",
              "      <td>-19.015438</td>\n",
              "      <td>29.154857</td>\n",
              "    </tr>\n",
              "  </tbody>\n",
              "</table>\n",
              "<p>42 rows × 33 columns</p>\n",
              "</div>"
            ],
            "text/plain": [
              "                                 Abbreviation Agricultural Land( %)  \\\n",
              "Country                                                               \n",
              "Afghanistan                                AF                58.10%   \n",
              "Angola                                     AO                47.50%   \n",
              "Benin                                      BJ                33.30%   \n",
              "Burkina Faso                               BF                44.20%   \n",
              "Burundi                                    BI                79.20%   \n",
              "Ivory Coast                                CI                64.80%   \n",
              "Cameroon                                   CM                20.60%   \n",
              "Central African Republic                   CF                 8.20%   \n",
              "Chad                                       TD                39.70%   \n",
              "Comoros                                    KM                71.50%   \n",
              "Republic of the Congo                     NaN                31.10%   \n",
              "Democratic Republic of the Congo           CD                11.60%   \n",
              "Equatorial Guinea                          GQ                10.10%   \n",
              "Eritrea                                    ER                75.20%   \n",
              "Ethiopia                                   ET                36.30%   \n",
              "Gabon                                      GA                20.00%   \n",
              "The Gambia                                 GM                59.80%   \n",
              "Guinea                                     GN                59.00%   \n",
              "Guinea-Bissau                              GW                58.00%   \n",
              "Liberia                                    LR                28.00%   \n",
              "Madagascar                                 MG                71.20%   \n",
              "Malawi                                     MW                61.40%   \n",
              "Mali                                       ML                33.80%   \n",
              "Mauritania                                 MR                38.50%   \n",
              "Mozambique                                 MZ                63.50%   \n",
              "Niger                                      NE                36.10%   \n",
              "Nigeria                                    NG                77.70%   \n",
              "Rwanda                                     RW                73.40%   \n",
              "S�����������                               ST                50.70%   \n",
              "Senegal                                    SN                46.10%   \n",
              "Sierra Leone                               SL                54.70%   \n",
              "Solomon Islands                            SB                 3.90%   \n",
              "Somalia                                    SO                70.30%   \n",
              "South Sudan                                SS                   NaN   \n",
              "Sudan                                      SD                28.70%   \n",
              "Tajikistan                                 TJ                34.10%   \n",
              "Tanzania                                   TZ                44.80%   \n",
              "Togo                                       TG                70.20%   \n",
              "Uganda                                     UG                71.90%   \n",
              "Yemen                                      YE                44.60%   \n",
              "Zambia                                     ZM                32.10%   \n",
              "Zimbabwe                                   ZW                41.90%   \n",
              "\n",
              "                                 Land Area(Km2) Armed Forces size  Birth Rate  \\\n",
              "Country                                                                         \n",
              "Afghanistan                             652,230           323,000       32.49   \n",
              "Angola                                1,246,700           117,000       40.73   \n",
              "Benin                                   112,622            12,000       36.22   \n",
              "Burkina Faso                            274,200            11,000       37.93   \n",
              "Burundi                                  27,830            31,000       39.01   \n",
              "Ivory Coast                             322,463            27,000       35.74   \n",
              "Cameroon                                475,440            24,000       35.39   \n",
              "Central African Republic                622,984             8,000       35.35   \n",
              "Chad                                  1,284,000            35,000       42.17   \n",
              "Comoros                                   2,235               NaN       31.88   \n",
              "Republic of the Congo                   342,000            12,000       32.86   \n",
              "Democratic Republic of the Congo      2,344,858           134,000       41.18   \n",
              "Equatorial Guinea                        28,051             1,000       33.24   \n",
              "Eritrea                                 117,600           202,000       30.30   \n",
              "Ethiopia                              1,104,300           138,000       32.34   \n",
              "Gabon                                   267,667             7,000       31.61   \n",
              "The Gambia                               11,300             1,000       38.54   \n",
              "Guinea                                  245,857            13,000       36.36   \n",
              "Guinea-Bissau                            36,125             4,000       35.13   \n",
              "Liberia                                 111,369             2,000       33.04   \n",
              "Madagascar                              587,041            22,000       32.66   \n",
              "Malawi                                  118,484            15,000       34.12   \n",
              "Mali                                  1,240,192            18,000       41.54   \n",
              "Mauritania                            1,030,700            21,000       33.69   \n",
              "Mozambique                              799,380            11,000       37.52   \n",
              "Niger                                 1,267,000            10,000       46.08   \n",
              "Nigeria                                 923,768           215,000       37.91   \n",
              "Rwanda                                   26,338            35,000       31.70   \n",
              "S�����������                                964             1,000       31.54   \n",
              "Senegal                                 196,722            19,000       34.52   \n",
              "Sierra Leone                             71,740             9,000       33.41   \n",
              "Solomon Islands                          28,896               NaN       32.44   \n",
              "Somalia                                 637,657            20,000       41.75   \n",
              "South Sudan                             644,329           185,000       35.01   \n",
              "Sudan                                 1,861,484           124,000       32.18   \n",
              "Tajikistan                              144,100            17,000       30.76   \n",
              "Tanzania                                947,300            28,000       36.70   \n",
              "Togo                                     56,785            10,000       33.11   \n",
              "Uganda                                  241,038            46,000       38.14   \n",
              "Yemen                                   527,968            40,000       30.45   \n",
              "Zambia                                  752,618            16,000       36.19   \n",
              "Zimbabwe                                390,757            51,000       30.68   \n",
              "\n",
              "                                  Calling Code Capital/Major City  \\\n",
              "Country                                                             \n",
              "Afghanistan                               93.0              Kabul   \n",
              "Angola                                   244.0             Luanda   \n",
              "Benin                                    229.0         Porto-Novo   \n",
              "Burkina Faso                             226.0        Ouagadougou   \n",
              "Burundi                                  257.0          Bujumbura   \n",
              "Ivory Coast                              225.0       Yamoussoukro   \n",
              "Cameroon                                 237.0            Yaound�   \n",
              "Central African Republic                 236.0             Bangui   \n",
              "Chad                                     235.0          N'Djamena   \n",
              "Comoros                                  269.0    Moroni, Comoros   \n",
              "Republic of the Congo                    242.0        Brazzaville   \n",
              "Democratic Republic of the Congo         243.0           Kinshasa   \n",
              "Equatorial Guinea                        240.0             Malabo   \n",
              "Eritrea                                  291.0             Asmara   \n",
              "Ethiopia                                 251.0        Addis Ababa   \n",
              "Gabon                                    241.0         Libreville   \n",
              "The Gambia                               220.0             Banjul   \n",
              "Guinea                                   224.0            Conakry   \n",
              "Guinea-Bissau                            245.0             Bissau   \n",
              "Liberia                                  231.0           Monrovia   \n",
              "Madagascar                               261.0       Antananarivo   \n",
              "Malawi                                   265.0           Lilongwe   \n",
              "Mali                                     223.0             Bamako   \n",
              "Mauritania                               222.0         Nouakchott   \n",
              "Mozambique                               258.0             Maputo   \n",
              "Niger                                    227.0             Niamey   \n",
              "Nigeria                                  234.0              Abuja   \n",
              "Rwanda                                   250.0             Kigali   \n",
              "S�����������                             239.0              S����   \n",
              "Senegal                                  221.0              Dakar   \n",
              "Sierra Leone                             232.0           Freetown   \n",
              "Solomon Islands                          677.0            Honiara   \n",
              "Somalia                                  252.0          Mogadishu   \n",
              "South Sudan                              211.0               Juba   \n",
              "Sudan                                    249.0           Khartoum   \n",
              "Tajikistan                               992.0           Dushanbe   \n",
              "Tanzania                                 255.0             Dodoma   \n",
              "Togo                                     228.0               Lom�   \n",
              "Uganda                                   256.0            Kampala   \n",
              "Yemen                                    967.0              Sanaa   \n",
              "Zambia                                   260.0             Lusaka   \n",
              "Zimbabwe                                 263.0             Harare   \n",
              "\n",
              "                                 Co2-Emissions       CPI CPI Change (%)  ...  \\\n",
              "Country                                                                  ...   \n",
              "Afghanistan                              8,672     149.9          2.30%  ...   \n",
              "Angola                                  34,693    261.73         17.10%  ...   \n",
              "Benin                                    6,476    110.71         -0.90%  ...   \n",
              "Burkina Faso                             3,418    106.58         -3.20%  ...   \n",
              "Burundi                                    495    182.11         -0.70%  ...   \n",
              "Ivory Coast                              9,674    111.61         -0.90%  ...   \n",
              "Cameroon                                 8,291    118.65          2.50%  ...   \n",
              "Central African Republic                   297    186.86         37.10%  ...   \n",
              "Chad                                     1,016     117.7         -1.00%  ...   \n",
              "Comoros                                    202    103.62         -4.30%  ...   \n",
              "Republic of the Congo                    3,282    124.74          2.20%  ...   \n",
              "Democratic Republic of the Congo         2,021    133.85          2.90%  ...   \n",
              "Equatorial Guinea                        5,655    124.35          1.20%  ...   \n",
              "Eritrea                                    711       NaN            NaN  ...   \n",
              "Ethiopia                                14,870    143.86         15.80%  ...   \n",
              "Gabon                                    5,321    122.19          2.10%  ...   \n",
              "The Gambia                                 532    172.73          7.10%  ...   \n",
              "Guinea                                   2,996    262.95          9.50%  ...   \n",
              "Guinea-Bissau                              293    111.65          1.40%  ...   \n",
              "Liberia                                  1,386    223.13         23.60%  ...   \n",
              "Madagascar                               3,905    184.33          5.60%  ...   \n",
              "Malawi                                   1,298    418.34          9.40%  ...   \n",
              "Mali                                     3,179    108.73         -1.70%  ...   \n",
              "Mauritania                               2,739    135.02          2.30%  ...   \n",
              "Mozambique                               7,943    182.31          2.80%  ...   \n",
              "Niger                                    2,017    109.32         -2.50%  ...   \n",
              "Nigeria                                120,369    267.51         11.40%  ...   \n",
              "Rwanda                                   1,115    151.09          3.40%  ...   \n",
              "S�����������                               121    185.09          7.90%  ...   \n",
              "Senegal                                 10,902    109.25          1.80%  ...   \n",
              "Sierra Leone                             1,093    234.16         14.80%  ...   \n",
              "Solomon Islands                            169    133.06          1.60%  ...   \n",
              "Somalia                                    645       NaN            NaN  ...   \n",
              "South Sudan                              1,727  4,583.71        187.90%  ...   \n",
              "Sudan                                   20,000  1,344.19         51.00%  ...   \n",
              "Tajikistan                               5,310    148.57          6.00%  ...   \n",
              "Tanzania                                11,973    187.43          3.50%  ...   \n",
              "Togo                                     3,000     113.3          0.70%  ...   \n",
              "Uganda                                   5,680    173.87          2.90%  ...   \n",
              "Yemen                                   10,609    157.58          8.10%  ...   \n",
              "Zambia                                   5,141    212.31          9.20%  ...   \n",
              "Zimbabwe                                10,983    105.51          0.90%  ...   \n",
              "\n",
              "                                 Out of pocket health expenditure  \\\n",
              "Country                                                             \n",
              "Afghanistan                                                78.40%   \n",
              "Angola                                                     33.40%   \n",
              "Benin                                                      40.50%   \n",
              "Burkina Faso                                               36.10%   \n",
              "Burundi                                                    19.10%   \n",
              "Ivory Coast                                                36.00%   \n",
              "Cameroon                                                   69.70%   \n",
              "Central African Republic                                   39.60%   \n",
              "Chad                                                       56.40%   \n",
              "Comoros                                                    74.80%   \n",
              "Republic of the Congo                                      43.80%   \n",
              "Democratic Republic of the Congo                           37.40%   \n",
              "Equatorial Guinea                                          72.00%   \n",
              "Eritrea                                                    52.40%   \n",
              "Ethiopia                                                   37.80%   \n",
              "Gabon                                                      25.90%   \n",
              "The Gambia                                                 20.30%   \n",
              "Guinea                                                     54.50%   \n",
              "Guinea-Bissau                                              37.20%   \n",
              "Liberia                                                    19.60%   \n",
              "Madagascar                                                 21.70%   \n",
              "Malawi                                                     11.00%   \n",
              "Mali                                                       46.30%   \n",
              "Mauritania                                                 48.20%   \n",
              "Mozambique                                                  6.80%   \n",
              "Niger                                                      52.30%   \n",
              "Nigeria                                                    72.20%   \n",
              "Rwanda                                                     26.00%   \n",
              "S�����������                                               11.70%   \n",
              "Senegal                                                    44.20%   \n",
              "Sierra Leone                                               38.20%   \n",
              "Solomon Islands                                             3.30%   \n",
              "Somalia                                                       NaN   \n",
              "South Sudan                                                61.30%   \n",
              "Sudan                                                      63.20%   \n",
              "Tajikistan                                                 63.10%   \n",
              "Tanzania                                                   26.10%   \n",
              "Togo                                                       51.00%   \n",
              "Uganda                                                     40.50%   \n",
              "Yemen                                                      81.00%   \n",
              "Zambia                                                     27.50%   \n",
              "Zimbabwe                                                   25.80%   \n",
              "\n",
              "                                  Physicians per thousand   Population  \\\n",
              "Country                                                                  \n",
              "Afghanistan                                          0.28   38,041,754   \n",
              "Angola                                               0.21   31,825,295   \n",
              "Benin                                                0.08   11,801,151   \n",
              "Burkina Faso                                         0.08   20,321,378   \n",
              "Burundi                                              0.10   11,530,580   \n",
              "Ivory Coast                                          0.23   25,716,544   \n",
              "Cameroon                                             0.09   25,876,380   \n",
              "Central African Republic                             0.06    4,745,185   \n",
              "Chad                                                 0.04   15,946,876   \n",
              "Comoros                                              0.27      850,886   \n",
              "Republic of the Congo                                0.12    5,380,508   \n",
              "Democratic Republic of the Congo                     0.07   86,790,567   \n",
              "Equatorial Guinea                                    0.40    1,355,986   \n",
              "Eritrea                                              0.06    6,333,135   \n",
              "Ethiopia                                             0.08  112,078,730   \n",
              "Gabon                                                0.68    2,172,579   \n",
              "The Gambia                                           0.10    2,347,706   \n",
              "Guinea                                               0.08   12,771,246   \n",
              "Guinea-Bissau                                        0.13    1,920,922   \n",
              "Liberia                                              0.04    4,937,374   \n",
              "Madagascar                                           0.18   26,969,307   \n",
              "Malawi                                               0.04   18,628,747   \n",
              "Mali                                                 0.13   19,658,031   \n",
              "Mauritania                                           0.19    4,525,696   \n",
              "Mozambique                                           0.08   30,366,036   \n",
              "Niger                                                0.04   23,310,715   \n",
              "Nigeria                                              0.38  200,963,599   \n",
              "Rwanda                                               0.13   12,626,950   \n",
              "S�����������                                         0.05      215,056   \n",
              "Senegal                                              0.07   16,296,364   \n",
              "Sierra Leone                                         0.03    7,813,215   \n",
              "Solomon Islands                                      0.19      669,823   \n",
              "Somalia                                              0.02   15,442,905   \n",
              "South Sudan                                           NaN   11,062,113   \n",
              "Sudan                                                0.26   42,813,238   \n",
              "Tajikistan                                           1.70    9,321,018   \n",
              "Tanzania                                             0.01   58,005,463   \n",
              "Togo                                                 0.08    8,082,366   \n",
              "Uganda                                               0.17   44,269,594   \n",
              "Yemen                                                0.31   29,161,922   \n",
              "Zambia                                               1.19   17,861,030   \n",
              "Zimbabwe                                             0.21   14,645,468   \n",
              "\n",
              "                                 Population: Labor force participation (%)  \\\n",
              "Country                                                                      \n",
              "Afghanistan                                                         48.90%   \n",
              "Angola                                                              77.50%   \n",
              "Benin                                                               70.90%   \n",
              "Burkina Faso                                                        66.40%   \n",
              "Burundi                                                             79.20%   \n",
              "Ivory Coast                                                         57.00%   \n",
              "Cameroon                                                            76.10%   \n",
              "Central African Republic                                            72.00%   \n",
              "Chad                                                                70.70%   \n",
              "Comoros                                                             43.30%   \n",
              "Republic of the Congo                                               69.40%   \n",
              "Democratic Republic of the Congo                                    63.50%   \n",
              "Equatorial Guinea                                                   62.00%   \n",
              "Eritrea                                                             78.40%   \n",
              "Ethiopia                                                            79.60%   \n",
              "Gabon                                                               52.90%   \n",
              "The Gambia                                                          59.40%   \n",
              "Guinea                                                              61.50%   \n",
              "Guinea-Bissau                                                       72.00%   \n",
              "Liberia                                                             76.30%   \n",
              "Madagascar                                                          86.10%   \n",
              "Malawi                                                              76.70%   \n",
              "Mali                                                                70.80%   \n",
              "Mauritania                                                          45.90%   \n",
              "Mozambique                                                          78.10%   \n",
              "Niger                                                               72.00%   \n",
              "Nigeria                                                             52.90%   \n",
              "Rwanda                                                              83.70%   \n",
              "S�����������                                                        57.80%   \n",
              "Senegal                                                             45.70%   \n",
              "Sierra Leone                                                        57.90%   \n",
              "Solomon Islands                                                     83.80%   \n",
              "Somalia                                                             47.40%   \n",
              "South Sudan                                                         72.40%   \n",
              "Sudan                                                               48.40%   \n",
              "Tajikistan                                                          42.00%   \n",
              "Tanzania                                                            83.40%   \n",
              "Togo                                                                77.60%   \n",
              "Uganda                                                              70.30%   \n",
              "Yemen                                                               38.00%   \n",
              "Zambia                                                              74.60%   \n",
              "Zimbabwe                                                            83.10%   \n",
              "\n",
              "                                 Tax revenue (%) Total tax rate  \\\n",
              "Country                                                           \n",
              "Afghanistan                                9.30%         71.40%   \n",
              "Angola                                     9.20%         49.10%   \n",
              "Benin                                     10.80%         48.90%   \n",
              "Burkina Faso                              15.00%         41.30%   \n",
              "Burundi                                   13.60%         41.20%   \n",
              "Ivory Coast                               11.80%         50.10%   \n",
              "Cameroon                                  12.80%         57.70%   \n",
              "Central African Republic                   8.60%         73.30%   \n",
              "Chad                                         NaN         63.50%   \n",
              "Comoros                                      NaN        219.60%   \n",
              "Republic of the Congo                      9.00%         54.30%   \n",
              "Democratic Republic of the Congo          10.70%         50.70%   \n",
              "Equatorial Guinea                          6.10%         79.40%   \n",
              "Eritrea                                      NaN         83.70%   \n",
              "Ethiopia                                   7.50%         37.70%   \n",
              "Gabon                                     10.20%         47.10%   \n",
              "The Gambia                                 9.40%         48.40%   \n",
              "Guinea                                    10.80%         69.30%   \n",
              "Guinea-Bissau                             10.30%         45.50%   \n",
              "Liberia                                   12.90%         46.20%   \n",
              "Madagascar                                10.20%         38.30%   \n",
              "Malawi                                    17.30%         34.50%   \n",
              "Mali                                      11.60%         54.50%   \n",
              "Mauritania                                   NaN         67.00%   \n",
              "Mozambique                                 0.00%         36.10%   \n",
              "Niger                                     11.80%         47.20%   \n",
              "Nigeria                                    1.50%         34.80%   \n",
              "Rwanda                                    14.30%         33.20%   \n",
              "S�����������                              14.60%         37.00%   \n",
              "Senegal                                   16.30%         44.80%   \n",
              "Sierra Leone                               8.60%         30.70%   \n",
              "Solomon Islands                           29.50%         32.00%   \n",
              "Somalia                                    0.00%            NaN   \n",
              "South Sudan                                  NaN         31.40%   \n",
              "Sudan                                      8.00%         45.40%   \n",
              "Tajikistan                                 9.80%         67.30%   \n",
              "Tanzania                                  11.50%         43.80%   \n",
              "Togo                                      16.90%         48.20%   \n",
              "Uganda                                    11.70%         33.70%   \n",
              "Yemen                                        NaN         26.60%   \n",
              "Zambia                                    16.20%         15.60%   \n",
              "Zimbabwe                                  20.70%         31.60%   \n",
              "\n",
              "                                 Unemployment rate  Urban_population  \\\n",
              "Country                                                                \n",
              "Afghanistan                                 11.12%         9,797,273   \n",
              "Angola                                       6.89%        21,061,025   \n",
              "Benin                                        2.23%         5,648,149   \n",
              "Burkina Faso                                 6.26%         6,092,349   \n",
              "Burundi                                      1.43%         1,541,177   \n",
              "Ivory Coast                                  3.32%        13,176,900   \n",
              "Cameroon                                     3.38%        14,741,256   \n",
              "Central African Republic                     3.68%         1,982,064   \n",
              "Chad                                         1.89%         3,712,273   \n",
              "Comoros                                      4.34%           248,152   \n",
              "Republic of the Congo                        9.47%         3,625,010   \n",
              "Democratic Republic of the Congo             4.24%        39,095,679   \n",
              "Equatorial Guinea                            6.43%           984,812   \n",
              "Eritrea                                      5.14%         1,149,670   \n",
              "Ethiopia                                     2.08%        23,788,710   \n",
              "Gabon                                       20.00%         1,949,694   \n",
              "The Gambia                                   9.06%         1,453,958   \n",
              "Guinea                                       4.30%         4,661,505   \n",
              "Guinea-Bissau                                2.47%           840,922   \n",
              "Liberia                                      2.81%         2,548,426   \n",
              "Madagascar                                   1.76%        10,210,849   \n",
              "Malawi                                       5.65%         3,199,301   \n",
              "Mali                                         7.22%         8,479,688   \n",
              "Mauritania                                   9.55%         2,466,821   \n",
              "Mozambique                                   3.24%        11,092,106   \n",
              "Niger                                        0.47%         3,850,231   \n",
              "Nigeria                                      8.10%       102,806,948   \n",
              "Rwanda                                       1.03%         2,186,104   \n",
              "S�����������                                13.37%           158,277   \n",
              "Senegal                                      6.60%         7,765,706   \n",
              "Sierra Leone                                 4.43%         3,319,366   \n",
              "Solomon Islands                              0.58%           162,164   \n",
              "Somalia                                     11.35%         7,034,861   \n",
              "South Sudan                                 12.24%         2,201,250   \n",
              "Sudan                                       16.53%        14,957,233   \n",
              "Tajikistan                                  11.02%         2,545,477   \n",
              "Tanzania                                     1.98%        20,011,885   \n",
              "Togo                                         2.04%         3,414,638   \n",
              "Uganda                                       1.84%        10,784,516   \n",
              "Yemen                                       12.91%        10,869,523   \n",
              "Zambia                                      11.43%         7,871,713   \n",
              "Zimbabwe                                     4.95%         4,717,305   \n",
              "\n",
              "                                   Latitude   Longitude  \n",
              "Country                                                  \n",
              "Afghanistan                       33.939110   67.709953  \n",
              "Angola                           -11.202692   17.873887  \n",
              "Benin                              9.307690    2.315834  \n",
              "Burkina Faso                      12.238333   -1.561593  \n",
              "Burundi                           -3.373056   29.918886  \n",
              "Ivory Coast                        7.539989   -5.547080  \n",
              "Cameroon                           7.369722   12.354722  \n",
              "Central African Republic           6.611111   20.939444  \n",
              "Chad                              15.454166   18.732207  \n",
              "Comoros                          -11.645500   43.333300  \n",
              "Republic of the Congo             -0.228021   15.827659  \n",
              "Democratic Republic of the Congo  -4.038333   21.758664  \n",
              "Equatorial Guinea                  1.650801   10.267895  \n",
              "Eritrea                           15.179384   39.782334  \n",
              "Ethiopia                           9.145000   40.489673  \n",
              "Gabon                             -0.803689   11.609444  \n",
              "The Gambia                        13.443182  -15.310139  \n",
              "Guinea                             9.945587   -9.696645  \n",
              "Guinea-Bissau                     11.803749  -15.180413  \n",
              "Liberia                            6.428055   -9.429499  \n",
              "Madagascar                       -18.766947   46.869107  \n",
              "Malawi                           -13.254308   34.301525  \n",
              "Mali                              17.570692   -3.996166  \n",
              "Mauritania                        21.007890  -10.940835  \n",
              "Mozambique                       -18.665695   35.529562  \n",
              "Niger                             17.607789    8.081666  \n",
              "Nigeria                            9.081999    8.675277  \n",
              "Rwanda                            -1.940278   29.873888  \n",
              "S�����������                            NaN         NaN  \n",
              "Senegal                           14.497401  -14.452362  \n",
              "Sierra Leone                       8.460555  -11.779889  \n",
              "Solomon Islands                   -9.645710  160.156194  \n",
              "Somalia                            5.152149   46.199616  \n",
              "South Sudan                        6.876992   31.306979  \n",
              "Sudan                             12.862807   30.217636  \n",
              "Tajikistan                        38.861034   71.276093  \n",
              "Tanzania                          -6.369028   34.888822  \n",
              "Togo                               8.619543    0.824782  \n",
              "Uganda                             1.373333   32.290275  \n",
              "Yemen                             15.552727   48.516388  \n",
              "Zambia                           -13.133897   27.849332  \n",
              "Zimbabwe                         -19.015438   29.154857  \n",
              "\n",
              "[42 rows x 33 columns]"
            ]
          },
          "execution_count": 116,
          "metadata": {},
          "output_type": "execute_result"
        }
      ],
      "source": [
        "df[df['Birth Rate']>30]"
      ]
    },
    {
      "cell_type": "markdown",
      "metadata": {
        "id": "lVTpoORTK1e9"
      },
      "source": [
        "Если нужно фильтровать по нескольким условиям, то они объединяются в единое булево выражение с помощью логических операторов логическое ИЛИ (|) &, логическое И (&), логическое отрицание (~).\n",
        "\n",
        "Например:"
      ]
    },
    {
      "cell_type": "code",
      "execution_count": null,
      "metadata": {
        "colab": {
          "base_uri": "https://localhost:8080/",
          "height": 224
        },
        "id": "hzO_aG1CK5dr",
        "outputId": "3b88a572-60fa-41c5-faff-87c71d2e1350"
      },
      "outputs": [
        {
          "data": {
            "text/html": [
              "<div>\n",
              "<style scoped>\n",
              "    .dataframe tbody tr th:only-of-type {\n",
              "        vertical-align: middle;\n",
              "    }\n",
              "\n",
              "    .dataframe tbody tr th {\n",
              "        vertical-align: top;\n",
              "    }\n",
              "\n",
              "    .dataframe thead th {\n",
              "        text-align: right;\n",
              "    }\n",
              "</style>\n",
              "<table border=\"1\" class=\"dataframe\">\n",
              "  <thead>\n",
              "    <tr style=\"text-align: right;\">\n",
              "      <th></th>\n",
              "      <th>Abbreviation</th>\n",
              "      <th>Agricultural Land( %)</th>\n",
              "      <th>Land Area(Km2)</th>\n",
              "      <th>Armed Forces size</th>\n",
              "      <th>Birth Rate</th>\n",
              "      <th>Calling Code</th>\n",
              "      <th>Capital/Major City</th>\n",
              "      <th>Co2-Emissions</th>\n",
              "      <th>CPI</th>\n",
              "      <th>CPI Change (%)</th>\n",
              "      <th>...</th>\n",
              "      <th>Out of pocket health expenditure</th>\n",
              "      <th>Physicians per thousand</th>\n",
              "      <th>Population</th>\n",
              "      <th>Population: Labor force participation (%)</th>\n",
              "      <th>Tax revenue (%)</th>\n",
              "      <th>Total tax rate</th>\n",
              "      <th>Unemployment rate</th>\n",
              "      <th>Urban_population</th>\n",
              "      <th>Latitude</th>\n",
              "      <th>Longitude</th>\n",
              "    </tr>\n",
              "    <tr>\n",
              "      <th>Country</th>\n",
              "      <th></th>\n",
              "      <th></th>\n",
              "      <th></th>\n",
              "      <th></th>\n",
              "      <th></th>\n",
              "      <th></th>\n",
              "      <th></th>\n",
              "      <th></th>\n",
              "      <th></th>\n",
              "      <th></th>\n",
              "      <th></th>\n",
              "      <th></th>\n",
              "      <th></th>\n",
              "      <th></th>\n",
              "      <th></th>\n",
              "      <th></th>\n",
              "      <th></th>\n",
              "      <th></th>\n",
              "      <th></th>\n",
              "      <th></th>\n",
              "      <th></th>\n",
              "    </tr>\n",
              "  </thead>\n",
              "  <tbody>\n",
              "  </tbody>\n",
              "</table>\n",
              "<p>0 rows × 33 columns</p>\n",
              "</div>"
            ],
            "text/plain": [
              "Empty DataFrame\n",
              "Columns: [Abbreviation, Agricultural Land( %), Land Area(Km2), Armed Forces size, Birth Rate, Calling Code, Capital/Major City, Co2-Emissions, CPI, CPI Change (%), Currency-Code, Fertility Rate, Forested Area (%), Gasoline Price, GDP, Gross primary education enrollment (%), Gross tertiary education enrollment (%), Infant mortality, Largest city, Life expectancy, Maternal mortality ratio, Minimum wage, Official language, Out of pocket health expenditure, Physicians per thousand, Population, Population: Labor force participation (%), Tax revenue (%), Total tax rate, Unemployment rate, Urban_population, Latitude, Longitude]\n",
              "Index: []\n",
              "\n",
              "[0 rows x 33 columns]"
            ]
          },
          "execution_count": 117,
          "metadata": {},
          "output_type": "execute_result"
        }
      ],
      "source": [
        "df[(df['Birth Rate'] > 30) & (df['Abbreviation']=='VU')]"
      ]
    },
    {
      "cell_type": "code",
      "execution_count": null,
      "metadata": {
        "colab": {
          "base_uri": "https://localhost:8080/",
          "height": 413
        },
        "id": "3q-GmygvLNka",
        "outputId": "a0eeef81-b726-4a46-da02-035c2b749734"
      },
      "outputs": [
        {
          "data": {
            "text/html": [
              "<div>\n",
              "<style scoped>\n",
              "    .dataframe tbody tr th:only-of-type {\n",
              "        vertical-align: middle;\n",
              "    }\n",
              "\n",
              "    .dataframe tbody tr th {\n",
              "        vertical-align: top;\n",
              "    }\n",
              "\n",
              "    .dataframe thead th {\n",
              "        text-align: right;\n",
              "    }\n",
              "</style>\n",
              "<table border=\"1\" class=\"dataframe\">\n",
              "  <thead>\n",
              "    <tr style=\"text-align: right;\">\n",
              "      <th></th>\n",
              "      <th>Abbreviation</th>\n",
              "      <th>Agricultural Land( %)</th>\n",
              "      <th>Land Area(Km2)</th>\n",
              "      <th>Armed Forces size</th>\n",
              "      <th>Birth Rate</th>\n",
              "      <th>Calling Code</th>\n",
              "      <th>Capital/Major City</th>\n",
              "      <th>Co2-Emissions</th>\n",
              "      <th>CPI</th>\n",
              "      <th>CPI Change (%)</th>\n",
              "      <th>...</th>\n",
              "      <th>Out of pocket health expenditure</th>\n",
              "      <th>Physicians per thousand</th>\n",
              "      <th>Population</th>\n",
              "      <th>Population: Labor force participation (%)</th>\n",
              "      <th>Tax revenue (%)</th>\n",
              "      <th>Total tax rate</th>\n",
              "      <th>Unemployment rate</th>\n",
              "      <th>Urban_population</th>\n",
              "      <th>Latitude</th>\n",
              "      <th>Longitude</th>\n",
              "    </tr>\n",
              "    <tr>\n",
              "      <th>Country</th>\n",
              "      <th></th>\n",
              "      <th></th>\n",
              "      <th></th>\n",
              "      <th></th>\n",
              "      <th></th>\n",
              "      <th></th>\n",
              "      <th></th>\n",
              "      <th></th>\n",
              "      <th></th>\n",
              "      <th></th>\n",
              "      <th></th>\n",
              "      <th></th>\n",
              "      <th></th>\n",
              "      <th></th>\n",
              "      <th></th>\n",
              "      <th></th>\n",
              "      <th></th>\n",
              "      <th></th>\n",
              "      <th></th>\n",
              "      <th></th>\n",
              "      <th></th>\n",
              "    </tr>\n",
              "  </thead>\n",
              "  <tbody>\n",
              "    <tr>\n",
              "      <th>Chad</th>\n",
              "      <td>TD</td>\n",
              "      <td>39.70%</td>\n",
              "      <td>1,284,000</td>\n",
              "      <td>35,000</td>\n",
              "      <td>42.17</td>\n",
              "      <td>235.0</td>\n",
              "      <td>N'Djamena</td>\n",
              "      <td>1,016</td>\n",
              "      <td>117.7</td>\n",
              "      <td>-1.00%</td>\n",
              "      <td>...</td>\n",
              "      <td>56.40%</td>\n",
              "      <td>0.04</td>\n",
              "      <td>15,946,876</td>\n",
              "      <td>70.70%</td>\n",
              "      <td>NaN</td>\n",
              "      <td>63.50%</td>\n",
              "      <td>1.89%</td>\n",
              "      <td>3,712,273</td>\n",
              "      <td>15.454166</td>\n",
              "      <td>18.732207</td>\n",
              "    </tr>\n",
              "    <tr>\n",
              "      <th>Democratic Republic of the Congo</th>\n",
              "      <td>CD</td>\n",
              "      <td>11.60%</td>\n",
              "      <td>2,344,858</td>\n",
              "      <td>134,000</td>\n",
              "      <td>41.18</td>\n",
              "      <td>243.0</td>\n",
              "      <td>Kinshasa</td>\n",
              "      <td>2,021</td>\n",
              "      <td>133.85</td>\n",
              "      <td>2.90%</td>\n",
              "      <td>...</td>\n",
              "      <td>37.40%</td>\n",
              "      <td>0.07</td>\n",
              "      <td>86,790,567</td>\n",
              "      <td>63.50%</td>\n",
              "      <td>10.70%</td>\n",
              "      <td>50.70%</td>\n",
              "      <td>4.24%</td>\n",
              "      <td>39,095,679</td>\n",
              "      <td>-4.038333</td>\n",
              "      <td>21.758664</td>\n",
              "    </tr>\n",
              "    <tr>\n",
              "      <th>Mali</th>\n",
              "      <td>ML</td>\n",
              "      <td>33.80%</td>\n",
              "      <td>1,240,192</td>\n",
              "      <td>18,000</td>\n",
              "      <td>41.54</td>\n",
              "      <td>223.0</td>\n",
              "      <td>Bamako</td>\n",
              "      <td>3,179</td>\n",
              "      <td>108.73</td>\n",
              "      <td>-1.70%</td>\n",
              "      <td>...</td>\n",
              "      <td>46.30%</td>\n",
              "      <td>0.13</td>\n",
              "      <td>19,658,031</td>\n",
              "      <td>70.80%</td>\n",
              "      <td>11.60%</td>\n",
              "      <td>54.50%</td>\n",
              "      <td>7.22%</td>\n",
              "      <td>8,479,688</td>\n",
              "      <td>17.570692</td>\n",
              "      <td>-3.996166</td>\n",
              "    </tr>\n",
              "    <tr>\n",
              "      <th>Niger</th>\n",
              "      <td>NE</td>\n",
              "      <td>36.10%</td>\n",
              "      <td>1,267,000</td>\n",
              "      <td>10,000</td>\n",
              "      <td>46.08</td>\n",
              "      <td>227.0</td>\n",
              "      <td>Niamey</td>\n",
              "      <td>2,017</td>\n",
              "      <td>109.32</td>\n",
              "      <td>-2.50%</td>\n",
              "      <td>...</td>\n",
              "      <td>52.30%</td>\n",
              "      <td>0.04</td>\n",
              "      <td>23,310,715</td>\n",
              "      <td>72.00%</td>\n",
              "      <td>11.80%</td>\n",
              "      <td>47.20%</td>\n",
              "      <td>0.47%</td>\n",
              "      <td>3,850,231</td>\n",
              "      <td>17.607789</td>\n",
              "      <td>8.081666</td>\n",
              "    </tr>\n",
              "    <tr>\n",
              "      <th>Somalia</th>\n",
              "      <td>SO</td>\n",
              "      <td>70.30%</td>\n",
              "      <td>637,657</td>\n",
              "      <td>20,000</td>\n",
              "      <td>41.75</td>\n",
              "      <td>252.0</td>\n",
              "      <td>Mogadishu</td>\n",
              "      <td>645</td>\n",
              "      <td>NaN</td>\n",
              "      <td>NaN</td>\n",
              "      <td>...</td>\n",
              "      <td>NaN</td>\n",
              "      <td>0.02</td>\n",
              "      <td>15,442,905</td>\n",
              "      <td>47.40%</td>\n",
              "      <td>0.00%</td>\n",
              "      <td>NaN</td>\n",
              "      <td>11.35%</td>\n",
              "      <td>7,034,861</td>\n",
              "      <td>5.152149</td>\n",
              "      <td>46.199616</td>\n",
              "    </tr>\n",
              "  </tbody>\n",
              "</table>\n",
              "<p>5 rows × 33 columns</p>\n",
              "</div>"
            ],
            "text/plain": [
              "                                 Abbreviation Agricultural Land( %)  \\\n",
              "Country                                                               \n",
              "Chad                                       TD                39.70%   \n",
              "Democratic Republic of the Congo           CD                11.60%   \n",
              "Mali                                       ML                33.80%   \n",
              "Niger                                      NE                36.10%   \n",
              "Somalia                                    SO                70.30%   \n",
              "\n",
              "                                 Land Area(Km2) Armed Forces size  Birth Rate  \\\n",
              "Country                                                                         \n",
              "Chad                                  1,284,000            35,000       42.17   \n",
              "Democratic Republic of the Congo      2,344,858           134,000       41.18   \n",
              "Mali                                  1,240,192            18,000       41.54   \n",
              "Niger                                 1,267,000            10,000       46.08   \n",
              "Somalia                                 637,657            20,000       41.75   \n",
              "\n",
              "                                  Calling Code Capital/Major City  \\\n",
              "Country                                                             \n",
              "Chad                                     235.0          N'Djamena   \n",
              "Democratic Republic of the Congo         243.0           Kinshasa   \n",
              "Mali                                     223.0             Bamako   \n",
              "Niger                                    227.0             Niamey   \n",
              "Somalia                                  252.0          Mogadishu   \n",
              "\n",
              "                                 Co2-Emissions     CPI CPI Change (%)  ...  \\\n",
              "Country                                                                ...   \n",
              "Chad                                     1,016   117.7         -1.00%  ...   \n",
              "Democratic Republic of the Congo         2,021  133.85          2.90%  ...   \n",
              "Mali                                     3,179  108.73         -1.70%  ...   \n",
              "Niger                                    2,017  109.32         -2.50%  ...   \n",
              "Somalia                                    645     NaN            NaN  ...   \n",
              "\n",
              "                                 Out of pocket health expenditure  \\\n",
              "Country                                                             \n",
              "Chad                                                       56.40%   \n",
              "Democratic Republic of the Congo                           37.40%   \n",
              "Mali                                                       46.30%   \n",
              "Niger                                                      52.30%   \n",
              "Somalia                                                       NaN   \n",
              "\n",
              "                                  Physicians per thousand  Population  \\\n",
              "Country                                                                 \n",
              "Chad                                                 0.04  15,946,876   \n",
              "Democratic Republic of the Congo                     0.07  86,790,567   \n",
              "Mali                                                 0.13  19,658,031   \n",
              "Niger                                                0.04  23,310,715   \n",
              "Somalia                                              0.02  15,442,905   \n",
              "\n",
              "                                 Population: Labor force participation (%)  \\\n",
              "Country                                                                      \n",
              "Chad                                                                70.70%   \n",
              "Democratic Republic of the Congo                                    63.50%   \n",
              "Mali                                                                70.80%   \n",
              "Niger                                                               72.00%   \n",
              "Somalia                                                             47.40%   \n",
              "\n",
              "                                 Tax revenue (%) Total tax rate  \\\n",
              "Country                                                           \n",
              "Chad                                         NaN         63.50%   \n",
              "Democratic Republic of the Congo          10.70%         50.70%   \n",
              "Mali                                      11.60%         54.50%   \n",
              "Niger                                     11.80%         47.20%   \n",
              "Somalia                                    0.00%            NaN   \n",
              "\n",
              "                                 Unemployment rate  Urban_population  \\\n",
              "Country                                                                \n",
              "Chad                                         1.89%         3,712,273   \n",
              "Democratic Republic of the Congo             4.24%        39,095,679   \n",
              "Mali                                         7.22%         8,479,688   \n",
              "Niger                                        0.47%         3,850,231   \n",
              "Somalia                                     11.35%         7,034,861   \n",
              "\n",
              "                                   Latitude  Longitude  \n",
              "Country                                                 \n",
              "Chad                              15.454166  18.732207  \n",
              "Democratic Republic of the Congo  -4.038333  21.758664  \n",
              "Mali                              17.570692  -3.996166  \n",
              "Niger                             17.607789   8.081666  \n",
              "Somalia                            5.152149  46.199616  \n",
              "\n",
              "[5 rows x 33 columns]"
            ]
          },
          "execution_count": 118,
          "metadata": {},
          "output_type": "execute_result"
        }
      ],
      "source": [
        "df[(df['Birth Rate'] > 40) & ~(df['Abbreviation']=='AO')]"
      ]
    },
    {
      "cell_type": "code",
      "execution_count": null,
      "metadata": {
        "colab": {
          "base_uri": "https://localhost:8080/",
          "height": 255
        },
        "id": "ZD09V0mpLO9Y",
        "outputId": "f1d56ec7-3f81-468a-c554-e6c6dab98b48"
      },
      "outputs": [
        {
          "data": {
            "text/html": [
              "<div>\n",
              "<style scoped>\n",
              "    .dataframe tbody tr th:only-of-type {\n",
              "        vertical-align: middle;\n",
              "    }\n",
              "\n",
              "    .dataframe tbody tr th {\n",
              "        vertical-align: top;\n",
              "    }\n",
              "\n",
              "    .dataframe thead th {\n",
              "        text-align: right;\n",
              "    }\n",
              "</style>\n",
              "<table border=\"1\" class=\"dataframe\">\n",
              "  <thead>\n",
              "    <tr style=\"text-align: right;\">\n",
              "      <th></th>\n",
              "      <th>Abbreviation</th>\n",
              "      <th>Agricultural Land( %)</th>\n",
              "      <th>Land Area(Km2)</th>\n",
              "      <th>Armed Forces size</th>\n",
              "      <th>Birth Rate</th>\n",
              "      <th>Calling Code</th>\n",
              "      <th>Capital/Major City</th>\n",
              "      <th>Co2-Emissions</th>\n",
              "      <th>CPI</th>\n",
              "      <th>CPI Change (%)</th>\n",
              "      <th>...</th>\n",
              "      <th>Out of pocket health expenditure</th>\n",
              "      <th>Physicians per thousand</th>\n",
              "      <th>Population</th>\n",
              "      <th>Population: Labor force participation (%)</th>\n",
              "      <th>Tax revenue (%)</th>\n",
              "      <th>Total tax rate</th>\n",
              "      <th>Unemployment rate</th>\n",
              "      <th>Urban_population</th>\n",
              "      <th>Latitude</th>\n",
              "      <th>Longitude</th>\n",
              "    </tr>\n",
              "    <tr>\n",
              "      <th>Country</th>\n",
              "      <th></th>\n",
              "      <th></th>\n",
              "      <th></th>\n",
              "      <th></th>\n",
              "      <th></th>\n",
              "      <th></th>\n",
              "      <th></th>\n",
              "      <th></th>\n",
              "      <th></th>\n",
              "      <th></th>\n",
              "      <th></th>\n",
              "      <th></th>\n",
              "      <th></th>\n",
              "      <th></th>\n",
              "      <th></th>\n",
              "      <th></th>\n",
              "      <th></th>\n",
              "      <th></th>\n",
              "      <th></th>\n",
              "      <th></th>\n",
              "      <th></th>\n",
              "    </tr>\n",
              "  </thead>\n",
              "  <tbody>\n",
              "    <tr>\n",
              "      <th>Angola</th>\n",
              "      <td>AO</td>\n",
              "      <td>47.50%</td>\n",
              "      <td>1,246,700</td>\n",
              "      <td>117,000</td>\n",
              "      <td>40.73</td>\n",
              "      <td>244.0</td>\n",
              "      <td>Luanda</td>\n",
              "      <td>34,693</td>\n",
              "      <td>261.73</td>\n",
              "      <td>17.10%</td>\n",
              "      <td>...</td>\n",
              "      <td>33.40%</td>\n",
              "      <td>0.21</td>\n",
              "      <td>31,825,295</td>\n",
              "      <td>77.50%</td>\n",
              "      <td>9.20%</td>\n",
              "      <td>49.10%</td>\n",
              "      <td>6.89%</td>\n",
              "      <td>21,061,025</td>\n",
              "      <td>-11.202692</td>\n",
              "      <td>17.873887</td>\n",
              "    </tr>\n",
              "  </tbody>\n",
              "</table>\n",
              "<p>1 rows × 33 columns</p>\n",
              "</div>"
            ],
            "text/plain": [
              "        Abbreviation Agricultural Land( %) Land Area(Km2) Armed Forces size  \\\n",
              "Country                                                                       \n",
              "Angola            AO                47.50%      1,246,700           117,000   \n",
              "\n",
              "         Birth Rate  Calling Code Capital/Major City Co2-Emissions     CPI  \\\n",
              "Country                                                                      \n",
              "Angola        40.73         244.0             Luanda        34,693  261.73   \n",
              "\n",
              "        CPI Change (%)  ... Out of pocket health expenditure  \\\n",
              "Country                 ...                                    \n",
              "Angola          17.10%  ...                           33.40%   \n",
              "\n",
              "         Physicians per thousand  Population  \\\n",
              "Country                                        \n",
              "Angola                      0.21  31,825,295   \n",
              "\n",
              "        Population: Labor force participation (%) Tax revenue (%)  \\\n",
              "Country                                                             \n",
              "Angola                                     77.50%           9.20%   \n",
              "\n",
              "        Total tax rate Unemployment rate  Urban_population   Latitude  \\\n",
              "Country                                                                 \n",
              "Angola          49.10%             6.89%        21,061,025 -11.202692   \n",
              "\n",
              "         Longitude  \n",
              "Country             \n",
              "Angola   17.873887  \n",
              "\n",
              "[1 rows x 33 columns]"
            ]
          },
          "execution_count": 119,
          "metadata": {},
          "output_type": "execute_result"
        }
      ],
      "source": [
        "df[(df['Birth Rate'] > 40) & (df['Abbreviation']=='AO')]"
      ]
    },
    {
      "cell_type": "markdown",
      "metadata": {
        "id": "BQR-ukQLLEs-"
      },
      "source": [
        "С помощью оператора `.isin() `можно фильтровать данные по набору из нескольких указанных значений.   \n",
        "Название \"isin\" означает \"is in\", то есть это аналог оператора IN в других языках программирования.  \n",
        "См. пример ниже.  "
      ]
    },
    {
      "cell_type": "code",
      "execution_count": null,
      "metadata": {
        "colab": {
          "base_uri": "https://localhost:8080/"
        },
        "id": "RSuTRIIdLGSN",
        "outputId": "95682256-84ae-407c-e550-d94abf4767ed"
      },
      "outputs": [
        {
          "data": {
            "text/plain": [
              "Country\n",
              "Afghanistan    False\n",
              "Albania        False\n",
              "Algeria        False\n",
              "Andorra        False\n",
              "Angola         False\n",
              "               ...  \n",
              "Venezuela      False\n",
              "Vietnam        False\n",
              "Yemen          False\n",
              "Zambia         False\n",
              "Zimbabwe       False\n",
              "Name: Abbreviation, Length: 195, dtype: bool"
            ]
          },
          "execution_count": 120,
          "metadata": {},
          "output_type": "execute_result"
        }
      ],
      "source": [
        "options = ['FR','EN']\n",
        "df['Abbreviation'].isin(options)"
      ]
    },
    {
      "cell_type": "markdown",
      "metadata": {
        "id": "bjKuQL2zRHD5"
      },
      "source": [
        "# SciPy"
      ]
    },
    {
      "cell_type": "code",
      "execution_count": null,
      "metadata": {
        "id": "88Fc4-9WRMpq"
      },
      "outputs": [],
      "source": [
        "from scipy import linalg as ln"
      ]
    },
    {
      "cell_type": "markdown",
      "metadata": {
        "id": "phvesi_fR39l"
      },
      "source": [
        "SciPy — это библиотека для языка Python, основанная на расширении NumPy, но для более глубоких и сложных научных вычислений, анализа данных и построения графиков. На данном занятии мы рассмотрим некоторые методы данной библиотеки, с остальными можно ознакомиться в [документации](https://docs.scipy.org/doc/) по SciPy на английском языке.\n",
        "\n",
        "Рассмотрим операции над матрицами."
      ]
    },
    {
      "cell_type": "code",
      "execution_count": null,
      "metadata": {
        "id": "iTUtYAx8XZ1e"
      },
      "outputs": [],
      "source": [
        "A = np.array([[3, 5, 0], [1, -1, 0], [-3, 0, 3]])"
      ]
    },
    {
      "cell_type": "code",
      "execution_count": null,
      "metadata": {
        "colab": {
          "base_uri": "https://localhost:8080/"
        },
        "id": "NIZsDd0IWjCM",
        "outputId": "4f37b3cd-25ad-44ce-c8ce-aa7bcd72ff20"
      },
      "outputs": [
        {
          "data": {
            "text/plain": [
              "array([[ 1.25000000e-01,  6.25000000e-01,  1.38777878e-17],\n",
              "       [ 1.25000000e-01, -3.75000000e-01, -1.57281595e-17],\n",
              "       [ 1.25000000e-01,  6.25000000e-01,  3.33333333e-01]])"
            ]
          },
          "execution_count": 123,
          "metadata": {},
          "output_type": "execute_result"
        }
      ],
      "source": [
        "#Нахождение обратной матрицы\n",
        "ln.inv(A)"
      ]
    },
    {
      "cell_type": "code",
      "execution_count": null,
      "metadata": {
        "colab": {
          "base_uri": "https://localhost:8080/"
        },
        "id": "akPpvWnAWmD1",
        "outputId": "f4beb94e-e508-4c7d-dec2-a62c0d6eaf0a"
      },
      "outputs": [
        {
          "data": {
            "text/plain": [
              "-24.0"
            ]
          },
          "execution_count": 124,
          "metadata": {},
          "output_type": "execute_result"
        }
      ],
      "source": [
        "#Нахождение детерминанта\n",
        "ln.det(A)"
      ]
    },
    {
      "cell_type": "code",
      "execution_count": null,
      "metadata": {
        "colab": {
          "base_uri": "https://localhost:8080/"
        },
        "id": "9WDyFV3PWodn",
        "outputId": "e50c3e0a-cec8-496f-b382-354e981d2996"
      },
      "outputs": [
        {
          "data": {
            "text/plain": [
              "6.168596012728836"
            ]
          },
          "execution_count": 125,
          "metadata": {},
          "output_type": "execute_result"
        }
      ],
      "source": [
        "#Нахождение норм различных порядков\n",
        "ln.norm(A, ord=2)"
      ]
    },
    {
      "cell_type": "markdown",
      "metadata": {
        "id": "mZ-sGr4wWq8t"
      },
      "source": [
        "Рассмотрим методы решения систем линейных уравнений.\n",
        "\n",
        "Зададим матрицу неизвестных A и столбец свободных членов b::"
      ]
    },
    {
      "cell_type": "code",
      "execution_count": null,
      "metadata": {
        "id": "bOFPFWcJUa6I"
      },
      "outputs": [],
      "source": [
        "A = np.array([[3, 2, 0], [1, -1, 0], [0, 5, 1]])\n",
        "b = np.array([2, 4, -1])"
      ]
    },
    {
      "cell_type": "code",
      "execution_count": null,
      "metadata": {
        "colab": {
          "base_uri": "https://localhost:8080/"
        },
        "id": "dvxOaM1LVASF",
        "outputId": "c1b50628-531e-454a-fd16-7ff78d52e80c"
      },
      "outputs": [
        {
          "data": {
            "text/plain": [
              "array([ 2., -2.,  9.])"
            ]
          },
          "execution_count": 127,
          "metadata": {},
          "output_type": "execute_result"
        }
      ],
      "source": [
        "x = ln.solve(A, b)\n",
        "\n",
        "x"
      ]
    },
    {
      "cell_type": "markdown",
      "metadata": {
        "id": "vvlHsr9zV-fb"
      },
      "source": [
        "Также мы можем решать СЛАУ с матрицами:"
      ]
    },
    {
      "cell_type": "code",
      "execution_count": null,
      "metadata": {
        "id": "-iWu_hyHWHe4"
      },
      "outputs": [],
      "source": [
        "A = np.array([[3, 2, 0], [1, -1, 0], [0, 5, 1]])\n",
        "B = np.array([[2, 4, -1], [1, -1, 0], [0, 5, 1]])"
      ]
    },
    {
      "cell_type": "code",
      "execution_count": null,
      "metadata": {
        "id": "gahK6S0BWMjz"
      },
      "outputs": [],
      "source": [
        "X = ln.solve(A, B)"
      ]
    },
    {
      "cell_type": "markdown",
      "metadata": {
        "id": "uiU8_7rYbgcW"
      },
      "source": [
        "# Matplotlib\n",
        "\n"
      ]
    },
    {
      "cell_type": "markdown",
      "metadata": {
        "id": "FbXt_YcmbgcW"
      },
      "source": [
        "Для построения простой визуализации можно использовать *matplotlib*.\n",
        "\n",
        "Построим поточечный график функции вида y = x^2 на отрезке от -5 до 5 с шагом 1.\n"
      ]
    },
    {
      "cell_type": "code",
      "execution_count": null,
      "metadata": {
        "id": "Q8NW4M4pbgcW"
      },
      "outputs": [],
      "source": [
        "# Создаем массивы для построения графика\n",
        "x_array = np.arange(-5, 6)\n",
        "y_array = x_array ** 2"
      ]
    },
    {
      "cell_type": "markdown",
      "metadata": {
        "id": "Uy4vhqLRbgcW"
      },
      "source": [
        "Отрисовать точки можн ос помощью метода *scatter*."
      ]
    },
    {
      "cell_type": "code",
      "execution_count": null,
      "metadata": {
        "id": "nkQh2opGbgcW",
        "outputId": "e8a2d651-ea6f-4a10-8154-bee4e8cb3e46"
      },
      "outputs": [
        {
          "data": {
            "image/png": "[encoded data removed]",
            "text/plain": [
              "<Figure size 640x480 with 1 Axes>"
            ]
          },
          "metadata": {},
          "output_type": "display_data"
        }
      ],
      "source": [
        "# Передаем параметры для отрисовки\n",
        "plt.scatter(x_array, y_array, label='point', color='blue')\n",
        "\n",
        "# Подписываем оси на рисунке\n",
        "plt.xlabel('x')\n",
        "plt.ylabel('y')\n",
        "\n",
        "\n",
        "# Добавляем отображение описания графика\n",
        "plt.legend()\n",
        "# Отрисовка графика\n",
        "plt.show()\n"
      ]
    },
    {
      "cell_type": "markdown",
      "metadata": {
        "id": "XhvglqvrbgcW"
      },
      "source": [
        "В некоторых задачах нам гораздо удобнее представлять связь между данными в качесвте некоторой непрерывной функции, поэтому точки бывает удобно соеденять прямыми линиями. В таком случаее стоит использовать метод *plot*."
      ]
    },
    {
      "cell_type": "code",
      "execution_count": null,
      "metadata": {
        "id": "gJwWsQjlbgcW",
        "outputId": "e8183c98-0d70-4f6c-f8a1-5ac91ee3224f"
      },
      "outputs": [
        {
          "data": {
            "image/png": "[encoded data removed]",
            "text/plain": [
              "<Figure size 640x480 with 1 Axes>"
            ]
          },
          "metadata": {},
          "output_type": "display_data"
        }
      ],
      "source": [
        "plt.plot(x_array, y_array, label='line', color='red')\n",
        "\n",
        "plt.xlabel('x')\n",
        "plt.ylabel('y')\n",
        "\n",
        "plt.legend()\n",
        "plt.show()"
      ]
    },
    {
      "cell_type": "markdown",
      "metadata": {
        "id": "Vnw3A3wzbgcW"
      },
      "source": [
        "Совместим отрисовку поточечного графика с отрисованными линиями, для этого достаточн оиспользовать оба метода отрисовки графика"
      ]
    },
    {
      "cell_type": "code",
      "execution_count": null,
      "metadata": {
        "id": "raiDQgxkbgcW",
        "outputId": "d14cfcf0-7b6d-4bed-c6d0-f8ce572d05aa"
      },
      "outputs": [
        {
          "data": {
            "image/png": "[encoded data removed]",
            "text/plain": [
              "<Figure size 640x480 with 1 Axes>"
            ]
          },
          "metadata": {},
          "output_type": "display_data"
        }
      ],
      "source": [
        "plt.plot(x_array, y_array, label='line', color='red')\n",
        "plt.scatter(x_array, y_array, label='point', color='blue')\n",
        "\n",
        "plt.xlabel('x')\n",
        "plt.ylabel('y')\n",
        "\n",
        "plt.legend()\n",
        "plt.show()"
      ]
    },
    {
      "cell_type": "markdown",
      "metadata": {
        "id": "osY8poUMbgcX"
      },
      "source": [
        "При необходимости можно отрисовать несколько графиков на одном рисунке, для этого нужно выбрать подходящий метод отрисовки и указать его перед методами *legend* и *show*."
      ]
    },
    {
      "cell_type": "code",
      "execution_count": null,
      "metadata": {
        "id": "cSsegBfPbgcX",
        "outputId": "2e5f97e6-717e-4ae1-b87c-8506bf26b4af"
      },
      "outputs": [
        {
          "data": {
            "image/png": "[encoded data removed]",
            "text/plain": [
              "<Figure size 640x480 with 1 Axes>"
            ]
          },
          "metadata": {},
          "output_type": "display_data"
        }
      ],
      "source": [
        "# Отрисовка первоначальный график f1\n",
        "plt.plot(x_array, y_array, label='f1')\n",
        "# Отрисовка инвертированный график функции f1 относительно оси x\n",
        "plt.plot(x_array, -y_array, label='f2')\n",
        "# Отрисовка график функции f1 c горизонтальным и вертикальным переносом\n",
        "plt.plot(x_array + 5, y_array - 4, label='f3')\n",
        "\n",
        "plt.xlabel('x')\n",
        "plt.ylabel('y')\n",
        "\n",
        "plt.legend()\n",
        "plt.show()"
      ]
    },
    {
      "cell_type": "markdown",
      "metadata": {
        "id": "dZoclXJbbgcX"
      },
      "source": [
        "# Полезные ссылки"
      ]
    },
    {
      "cell_type": "markdown",
      "metadata": {
        "id": "toY--h0IbgcX"
      },
      "source": [
        "\n",
        "\n",
        "*   Документация [pandas](https://pandas.pydata.org/docs/user_guide/index.html#user-guide)\n",
        "*   Документация [numpy](https://numpy.org/doc/stable/user/index.html#user)\n",
        "*   Документация [scipy](https://docs.scipy.org/doc/scipy/tutorial/index.html#user-guide)\n",
        "*   Документация [matplotlib](https://matplotlib.org/stable/gallery/index.html)\n",
        "\n"
      ]
    },
    {
      "cell_type": "code",
      "execution_count": null,
      "metadata": {
        "id": "U5ClUfMwbgcX"
      },
      "outputs": [],
      "source": []
    }
  ],
  "metadata": {
    "colab": {
      "provenance": []
    },
    "kernelspec": {
      "display_name": "Python 3 (ipykernel)",
      "language": "python",
      "name": "python3"
    },
    "language_info": {
      "codemirror_mode": {
        "name": "ipython",
        "version": 3
      },
      "file_extension": ".py",
      "mimetype": "text/x-python",
      "name": "python",
      "nbconvert_exporter": "python",
      "pygments_lexer": "ipython3",
      "version": "3.10.9"
    }
  },
  "nbformat": 4,
  "nbformat_minor": 0
}